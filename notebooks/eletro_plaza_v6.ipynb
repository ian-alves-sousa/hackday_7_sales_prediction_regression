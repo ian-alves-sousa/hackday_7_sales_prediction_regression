{
 "cells": [
  {
   "cell_type": "markdown",
   "id": "35c5b6c6",
   "metadata": {
    "heading_collapsed": true
   },
   "source": [
    "# 0.IMPORTS"
   ]
  },
  {
   "cell_type": "markdown",
   "id": "a5b27808",
   "metadata": {
    "heading_collapsed": true,
    "hidden": true
   },
   "source": [
    "## 0.1. Importing libraries"
   ]
  },
  {
   "cell_type": "code",
   "execution_count": 1,
   "id": "cce671ef",
   "metadata": {
    "ExecuteTime": {
     "end_time": "2023-12-17T13:58:05.450294Z",
     "start_time": "2023-12-17T13:57:55.762255Z"
    },
    "hidden": true
   },
   "outputs": [],
   "source": [
    "import pandas   as pd\n",
    "import seaborn  as sns\n",
    "import numpy    as np\n",
    "\n",
    "import ydata_profiling\n",
    "import matplotlib.pyplot as plt\n",
    "import math"
   ]
  },
  {
   "cell_type": "markdown",
   "id": "2fe91868",
   "metadata": {
    "heading_collapsed": true,
    "hidden": true
   },
   "source": [
    "## 0.2. Loading data"
   ]
  },
  {
   "cell_type": "code",
   "execution_count": 2,
   "id": "090e0494",
   "metadata": {
    "ExecuteTime": {
     "end_time": "2023-12-17T13:58:05.807885Z",
     "start_time": "2023-12-17T13:58:05.455289Z"
    },
    "hidden": true
   },
   "outputs": [],
   "source": [
    "stores         = pd.read_csv('datasets/stores.csv', low_memory=False)\n",
    "train          = pd.read_csv('datasets/train.csv', low_memory=False)\n",
    "train_features = pd.read_csv('datasets/train_features.csv', low_memory=False)\n",
    "\n",
    "test = pd.read_csv('datasets/test.csv', low_memory=False)\n",
    "test_features = pd.read_csv('datasets/test_features.csv', low_memory=False)"
   ]
  },
  {
   "cell_type": "code",
   "execution_count": 3,
   "id": "dd3fc2fa",
   "metadata": {
    "ExecuteTime": {
     "end_time": "2023-12-17T13:58:05.884636Z",
     "start_time": "2023-12-17T13:58:05.813420Z"
    },
    "hidden": true
   },
   "outputs": [
    {
     "data": {
      "text/html": [
       "<div>\n",
       "<style scoped>\n",
       "    .dataframe tbody tr th:only-of-type {\n",
       "        vertical-align: middle;\n",
       "    }\n",
       "\n",
       "    .dataframe tbody tr th {\n",
       "        vertical-align: top;\n",
       "    }\n",
       "\n",
       "    .dataframe thead th {\n",
       "        text-align: right;\n",
       "    }\n",
       "</style>\n",
       "<table border=\"1\" class=\"dataframe\">\n",
       "  <thead>\n",
       "    <tr style=\"text-align: right;\">\n",
       "      <th></th>\n",
       "      <th>loja</th>\n",
       "      <th>data</th>\n",
       "      <th>temperatura</th>\n",
       "      <th>combustivel</th>\n",
       "      <th>desconto_1</th>\n",
       "      <th>desconto_2</th>\n",
       "      <th>desconto_3</th>\n",
       "      <th>desconto_4</th>\n",
       "      <th>desconto_5</th>\n",
       "      <th>desemprego</th>\n",
       "      <th>feriado</th>\n",
       "      <th>distancia_competidores</th>\n",
       "      <th>clientes</th>\n",
       "    </tr>\n",
       "  </thead>\n",
       "  <tbody>\n",
       "    <tr>\n",
       "      <th>0</th>\n",
       "      <td>4</td>\n",
       "      <td>01-07</td>\n",
       "      <td>4.077778</td>\n",
       "      <td>2.980</td>\n",
       "      <td>NaN</td>\n",
       "      <td>NaN</td>\n",
       "      <td>NaN</td>\n",
       "      <td>NaN</td>\n",
       "      <td>NaN</td>\n",
       "      <td>0.06510</td>\n",
       "      <td>nao</td>\n",
       "      <td>NaN</td>\n",
       "      <td>216</td>\n",
       "    </tr>\n",
       "    <tr>\n",
       "      <th>1</th>\n",
       "      <td>32</td>\n",
       "      <td>01-07</td>\n",
       "      <td>NaN</td>\n",
       "      <td>NaN</td>\n",
       "      <td>NaN</td>\n",
       "      <td>NaN</td>\n",
       "      <td>NaN</td>\n",
       "      <td>NaN</td>\n",
       "      <td>NaN</td>\n",
       "      <td>0.08818</td>\n",
       "      <td>nao</td>\n",
       "      <td>NaN</td>\n",
       "      <td>3</td>\n",
       "    </tr>\n",
       "    <tr>\n",
       "      <th>2</th>\n",
       "      <td>1</td>\n",
       "      <td>01-07</td>\n",
       "      <td>9.038889</td>\n",
       "      <td>2.976</td>\n",
       "      <td>NaN</td>\n",
       "      <td>NaN</td>\n",
       "      <td>NaN</td>\n",
       "      <td>NaN</td>\n",
       "      <td>NaN</td>\n",
       "      <td>0.07742</td>\n",
       "      <td>nao</td>\n",
       "      <td>NaN</td>\n",
       "      <td>160</td>\n",
       "    </tr>\n",
       "    <tr>\n",
       "      <th>3</th>\n",
       "      <td>7</td>\n",
       "      <td>01-07</td>\n",
       "      <td>NaN</td>\n",
       "      <td>NaN</td>\n",
       "      <td>NaN</td>\n",
       "      <td>NaN</td>\n",
       "      <td>NaN</td>\n",
       "      <td>NaN</td>\n",
       "      <td>NaN</td>\n",
       "      <td>0.08818</td>\n",
       "      <td>nao</td>\n",
       "      <td>NaN</td>\n",
       "      <td>739</td>\n",
       "    </tr>\n",
       "    <tr>\n",
       "      <th>4</th>\n",
       "      <td>43</td>\n",
       "      <td>01-07</td>\n",
       "      <td>4.705556</td>\n",
       "      <td>NaN</td>\n",
       "      <td>NaN</td>\n",
       "      <td>NaN</td>\n",
       "      <td>NaN</td>\n",
       "      <td>NaN</td>\n",
       "      <td>NaN</td>\n",
       "      <td>0.10398</td>\n",
       "      <td>nao</td>\n",
       "      <td>NaN</td>\n",
       "      <td>998</td>\n",
       "    </tr>\n",
       "  </tbody>\n",
       "</table>\n",
       "</div>"
      ],
      "text/plain": [
       "   loja   data  temperatura  combustivel  desconto_1  desconto_2  desconto_3  \\\n",
       "0     4  01-07     4.077778        2.980         NaN         NaN         NaN   \n",
       "1    32  01-07          NaN          NaN         NaN         NaN         NaN   \n",
       "2     1  01-07     9.038889        2.976         NaN         NaN         NaN   \n",
       "3     7  01-07          NaN          NaN         NaN         NaN         NaN   \n",
       "4    43  01-07     4.705556          NaN         NaN         NaN         NaN   \n",
       "\n",
       "   desconto_4  desconto_5  desemprego feriado  distancia_competidores  \\\n",
       "0         NaN         NaN     0.06510     nao                     NaN   \n",
       "1         NaN         NaN     0.08818     nao                     NaN   \n",
       "2         NaN         NaN     0.07742     nao                     NaN   \n",
       "3         NaN         NaN     0.08818     nao                     NaN   \n",
       "4         NaN         NaN     0.10398     nao                     NaN   \n",
       "\n",
       "   clientes  \n",
       "0       216  \n",
       "1         3  \n",
       "2       160  \n",
       "3       739  \n",
       "4       998  "
      ]
     },
     "execution_count": 3,
     "metadata": {},
     "output_type": "execute_result"
    }
   ],
   "source": [
    "train_features.head()"
   ]
  },
  {
   "cell_type": "markdown",
   "id": "18684a09",
   "metadata": {
    "heading_collapsed": true,
    "hidden": true
   },
   "source": [
    "## 0.3. Helper functions"
   ]
  },
  {
   "cell_type": "code",
   "execution_count": 4,
   "id": "0bfd84c9",
   "metadata": {
    "ExecuteTime": {
     "end_time": "2023-12-17T13:58:05.916266Z",
     "start_time": "2023-12-17T13:58:05.891215Z"
    },
    "hidden": true
   },
   "outputs": [],
   "source": [
    "# Função para renomear as colunas do dataframe\n",
    "def rename_columns(cols):\n",
    "    cols = list(map(lambda x: inflection.titleize(x), cols))\n",
    "    cols = list(map(lambda x: x.replace(\" \", \"\"), cols))\n",
    "    cols = list(map(lambda x: x.replace(\".\", \"\"), cols))\n",
    "    cols = list(map(lambda x: inflection.underscore(x), cols))\n",
    "    return cols\n",
    "\n",
    "# Função que retorna uma tabela de únicos e suas respectivas quantidades\n",
    "def tab_unique(df):\n",
    "    tab_unicos = pd.DataFrame(df.nunique())\n",
    "    tab_unicos.columns= ['count']\n",
    "    tab_unicos['content'] = df.apply(lambda x: x.unique())\n",
    "    return tab_unicos"
   ]
  },
  {
   "cell_type": "markdown",
   "id": "ff66fafa",
   "metadata": {
    "hidden": true
   },
   "source": [
    "## 0.4. Dicionário de dados"
   ]
  },
  {
   "cell_type": "markdown",
   "id": "4fea28ec",
   "metadata": {},
   "source": [
    "# 1. DATA DESCRIPTION"
   ]
  },
  {
   "cell_type": "markdown",
   "id": "a373fd56",
   "metadata": {
    "heading_collapsed": true
   },
   "source": [
    "## 1.1. Unir tabelas"
   ]
  },
  {
   "cell_type": "code",
   "execution_count": 5,
   "id": "bb847c2b",
   "metadata": {
    "ExecuteTime": {
     "end_time": "2023-12-17T13:58:06.026274Z",
     "start_time": "2023-12-17T13:58:05.924677Z"
    },
    "hidden": true
   },
   "outputs": [],
   "source": [
    "df = pd.merge(train, stores, on='loja', how='inner')"
   ]
  },
  {
   "cell_type": "code",
   "execution_count": 6,
   "id": "58b68a4b",
   "metadata": {
    "ExecuteTime": {
     "end_time": "2023-12-17T13:58:06.165727Z",
     "start_time": "2023-12-17T13:58:06.031818Z"
    },
    "hidden": true
   },
   "outputs": [],
   "source": [
    "df1 = pd.merge(df, train_features, on=['loja', 'data', 'feriado'], how='inner')"
   ]
  },
  {
   "cell_type": "markdown",
   "id": "77b6c9d5",
   "metadata": {
    "heading_collapsed": true
   },
   "source": [
    "## 1.2. Data Dimensions"
   ]
  },
  {
   "cell_type": "code",
   "execution_count": 7,
   "id": "f52d9c17",
   "metadata": {
    "ExecuteTime": {
     "end_time": "2023-12-17T13:58:06.228288Z",
     "start_time": "2023-12-17T13:58:06.171259Z"
    },
    "hidden": true
   },
   "outputs": [
    {
     "data": {
      "text/html": [
       "<div>\n",
       "<style scoped>\n",
       "    .dataframe tbody tr th:only-of-type {\n",
       "        vertical-align: middle;\n",
       "    }\n",
       "\n",
       "    .dataframe tbody tr th {\n",
       "        vertical-align: top;\n",
       "    }\n",
       "\n",
       "    .dataframe thead th {\n",
       "        text-align: right;\n",
       "    }\n",
       "</style>\n",
       "<table border=\"1\" class=\"dataframe\">\n",
       "  <thead>\n",
       "    <tr style=\"text-align: right;\">\n",
       "      <th></th>\n",
       "      <th>id</th>\n",
       "      <th>loja</th>\n",
       "      <th>setor</th>\n",
       "      <th>data</th>\n",
       "      <th>vendas_semanais</th>\n",
       "      <th>feriado</th>\n",
       "      <th>tipo</th>\n",
       "      <th>tamanho</th>\n",
       "      <th>temperatura</th>\n",
       "      <th>combustivel</th>\n",
       "      <th>desconto_1</th>\n",
       "      <th>desconto_2</th>\n",
       "      <th>desconto_3</th>\n",
       "      <th>desconto_4</th>\n",
       "      <th>desconto_5</th>\n",
       "      <th>desemprego</th>\n",
       "      <th>distancia_competidores</th>\n",
       "      <th>clientes</th>\n",
       "    </tr>\n",
       "  </thead>\n",
       "  <tbody>\n",
       "    <tr>\n",
       "      <th>0</th>\n",
       "      <td>140679</td>\n",
       "      <td>17</td>\n",
       "      <td>93</td>\n",
       "      <td>01-07</td>\n",
       "      <td>6283.00</td>\n",
       "      <td>nao</td>\n",
       "      <td>eletronico</td>\n",
       "      <td>93188.0</td>\n",
       "      <td>-14.316667</td>\n",
       "      <td>2.891</td>\n",
       "      <td>NaN</td>\n",
       "      <td>NaN</td>\n",
       "      <td>NaN</td>\n",
       "      <td>NaN</td>\n",
       "      <td>NaN</td>\n",
       "      <td>0.06866</td>\n",
       "      <td>NaN</td>\n",
       "      <td>541</td>\n",
       "    </tr>\n",
       "    <tr>\n",
       "      <th>1</th>\n",
       "      <td>140696</td>\n",
       "      <td>17</td>\n",
       "      <td>16</td>\n",
       "      <td>01-07</td>\n",
       "      <td>1641.25</td>\n",
       "      <td>nao</td>\n",
       "      <td>eletronico</td>\n",
       "      <td>93188.0</td>\n",
       "      <td>-14.316667</td>\n",
       "      <td>2.891</td>\n",
       "      <td>NaN</td>\n",
       "      <td>NaN</td>\n",
       "      <td>NaN</td>\n",
       "      <td>NaN</td>\n",
       "      <td>NaN</td>\n",
       "      <td>0.06866</td>\n",
       "      <td>NaN</td>\n",
       "      <td>541</td>\n",
       "    </tr>\n",
       "    <tr>\n",
       "      <th>2</th>\n",
       "      <td>140701</td>\n",
       "      <td>17</td>\n",
       "      <td>4</td>\n",
       "      <td>01-07</td>\n",
       "      <td>39775.45</td>\n",
       "      <td>nao</td>\n",
       "      <td>eletronico</td>\n",
       "      <td>93188.0</td>\n",
       "      <td>-14.316667</td>\n",
       "      <td>2.891</td>\n",
       "      <td>NaN</td>\n",
       "      <td>NaN</td>\n",
       "      <td>NaN</td>\n",
       "      <td>NaN</td>\n",
       "      <td>NaN</td>\n",
       "      <td>0.06866</td>\n",
       "      <td>NaN</td>\n",
       "      <td>541</td>\n",
       "    </tr>\n",
       "    <tr>\n",
       "      <th>3</th>\n",
       "      <td>140733</td>\n",
       "      <td>17</td>\n",
       "      <td>14</td>\n",
       "      <td>01-07</td>\n",
       "      <td>29555.43</td>\n",
       "      <td>nao</td>\n",
       "      <td>eletronico</td>\n",
       "      <td>93188.0</td>\n",
       "      <td>-14.316667</td>\n",
       "      <td>2.891</td>\n",
       "      <td>NaN</td>\n",
       "      <td>NaN</td>\n",
       "      <td>NaN</td>\n",
       "      <td>NaN</td>\n",
       "      <td>NaN</td>\n",
       "      <td>0.06866</td>\n",
       "      <td>NaN</td>\n",
       "      <td>541</td>\n",
       "    </tr>\n",
       "    <tr>\n",
       "      <th>4</th>\n",
       "      <td>140742</td>\n",
       "      <td>17</td>\n",
       "      <td>48</td>\n",
       "      <td>01-07</td>\n",
       "      <td>414.00</td>\n",
       "      <td>nao</td>\n",
       "      <td>eletronico</td>\n",
       "      <td>93188.0</td>\n",
       "      <td>-14.316667</td>\n",
       "      <td>2.891</td>\n",
       "      <td>NaN</td>\n",
       "      <td>NaN</td>\n",
       "      <td>NaN</td>\n",
       "      <td>NaN</td>\n",
       "      <td>NaN</td>\n",
       "      <td>0.06866</td>\n",
       "      <td>NaN</td>\n",
       "      <td>541</td>\n",
       "    </tr>\n",
       "  </tbody>\n",
       "</table>\n",
       "</div>"
      ],
      "text/plain": [
       "       id  loja  setor   data  vendas_semanais feriado        tipo  tamanho  \\\n",
       "0  140679    17     93  01-07          6283.00     nao  eletronico  93188.0   \n",
       "1  140696    17     16  01-07          1641.25     nao  eletronico  93188.0   \n",
       "2  140701    17      4  01-07         39775.45     nao  eletronico  93188.0   \n",
       "3  140733    17     14  01-07         29555.43     nao  eletronico  93188.0   \n",
       "4  140742    17     48  01-07           414.00     nao  eletronico  93188.0   \n",
       "\n",
       "   temperatura  combustivel  desconto_1  desconto_2  desconto_3  desconto_4  \\\n",
       "0   -14.316667        2.891         NaN         NaN         NaN         NaN   \n",
       "1   -14.316667        2.891         NaN         NaN         NaN         NaN   \n",
       "2   -14.316667        2.891         NaN         NaN         NaN         NaN   \n",
       "3   -14.316667        2.891         NaN         NaN         NaN         NaN   \n",
       "4   -14.316667        2.891         NaN         NaN         NaN         NaN   \n",
       "\n",
       "   desconto_5  desemprego  distancia_competidores  clientes  \n",
       "0         NaN     0.06866                     NaN       541  \n",
       "1         NaN     0.06866                     NaN       541  \n",
       "2         NaN     0.06866                     NaN       541  \n",
       "3         NaN     0.06866                     NaN       541  \n",
       "4         NaN     0.06866                     NaN       541  "
      ]
     },
     "execution_count": 7,
     "metadata": {},
     "output_type": "execute_result"
    }
   ],
   "source": [
    "df1.head()"
   ]
  },
  {
   "cell_type": "code",
   "execution_count": 8,
   "id": "735dd035",
   "metadata": {
    "ExecuteTime": {
     "end_time": "2023-12-17T13:58:06.258971Z",
     "start_time": "2023-12-17T13:58:06.234236Z"
    },
    "hidden": true
   },
   "outputs": [
    {
     "name": "stdout",
     "output_type": "stream",
     "text": [
      "Quantidade de linhas: 135,385\n",
      "Quantidade de colunas: 18\n"
     ]
    }
   ],
   "source": [
    "print('Quantidade de linhas: {:,}'.format(df1.shape[0]))\n",
    "print('Quantidade de colunas: {:,}'.format(df1.shape[1]))"
   ]
  },
  {
   "cell_type": "markdown",
   "id": "280ae603",
   "metadata": {
    "heading_collapsed": true
   },
   "source": [
    "## 1.3. Check NA's"
   ]
  },
  {
   "cell_type": "code",
   "execution_count": 9,
   "id": "17ac70c5",
   "metadata": {
    "ExecuteTime": {
     "end_time": "2023-12-17T13:58:06.493431Z",
     "start_time": "2023-12-17T13:58:06.269601Z"
    },
    "hidden": true
   },
   "outputs": [
    {
     "data": {
      "text/plain": [
       "id                             0\n",
       "loja                           0\n",
       "setor                          0\n",
       "data                           0\n",
       "vendas_semanais            12862\n",
       "feriado                        0\n",
       "tipo                           0\n",
       "tamanho                    33327\n",
       "temperatura                47945\n",
       "combustivel                52989\n",
       "desconto_1                129459\n",
       "desconto_2                129510\n",
       "desconto_3                129746\n",
       "desconto_4                130184\n",
       "desconto_5                129459\n",
       "desemprego                     0\n",
       "distancia_competidores    129459\n",
       "clientes                       0\n",
       "dtype: int64"
      ]
     },
     "execution_count": 9,
     "metadata": {},
     "output_type": "execute_result"
    }
   ],
   "source": [
    "df1.isna().sum()"
   ]
  },
  {
   "cell_type": "code",
   "execution_count": 10,
   "id": "7fcb198d",
   "metadata": {
    "ExecuteTime": {
     "end_time": "2023-12-17T13:58:06.540423Z",
     "start_time": "2023-12-17T13:58:06.504051Z"
    },
    "hidden": true
   },
   "outputs": [
    {
     "data": {
      "text/plain": [
       "loja        0\n",
       "tipo        0\n",
       "tamanho    11\n",
       "dtype: int64"
      ]
     },
     "execution_count": 10,
     "metadata": {},
     "output_type": "execute_result"
    }
   ],
   "source": [
    "stores.isna().sum()"
   ]
  },
  {
   "cell_type": "code",
   "execution_count": 11,
   "id": "d6bc2c46",
   "metadata": {
    "ExecuteTime": {
     "end_time": "2023-12-17T13:58:06.571236Z",
     "start_time": "2023-12-17T13:58:06.550069Z"
    },
    "hidden": true
   },
   "outputs": [
    {
     "data": {
      "text/plain": [
       "45"
      ]
     },
     "execution_count": 11,
     "metadata": {},
     "output_type": "execute_result"
    }
   ],
   "source": [
    "stores['loja'].nunique()"
   ]
  },
  {
   "cell_type": "markdown",
   "id": "77414f0b",
   "metadata": {
    "heading_collapsed": true
   },
   "source": [
    "## 1.4. Data Types"
   ]
  },
  {
   "cell_type": "code",
   "execution_count": null,
   "id": "8f05fafd",
   "metadata": {
    "hidden": true
   },
   "outputs": [],
   "source": []
  },
  {
   "cell_type": "markdown",
   "id": "5a243a78",
   "metadata": {},
   "source": [
    "## 1.5. Check duplicated"
   ]
  },
  {
   "cell_type": "markdown",
   "id": "eb7c67f3",
   "metadata": {},
   "source": [
    "## 1.6. Datetime"
   ]
  },
  {
   "cell_type": "markdown",
   "id": "b128ae07",
   "metadata": {},
   "source": [
    "# 2. TRATAMENTO E FEATURE ENGINEERING"
   ]
  },
  {
   "cell_type": "code",
   "execution_count": 12,
   "id": "619a2814",
   "metadata": {
    "ExecuteTime": {
     "end_time": "2023-12-17T13:58:06.633333Z",
     "start_time": "2023-12-17T13:58:06.578245Z"
    }
   },
   "outputs": [],
   "source": [
    "df2 = df1.copy()"
   ]
  },
  {
   "cell_type": "markdown",
   "id": "199ebe6a",
   "metadata": {
    "heading_collapsed": true
   },
   "source": [
    "## 2.1. Criação das Hipóteses"
   ]
  },
  {
   "cell_type": "code",
   "execution_count": null,
   "id": "1c587061",
   "metadata": {
    "ExecuteTime": {
     "end_time": "2023-12-17T12:19:58.396449Z",
     "start_time": "2023-12-17T12:19:58.385845Z"
    },
    "hidden": true
   },
   "outputs": [],
   "source": []
  },
  {
   "cell_type": "markdown",
   "id": "af2bb92e",
   "metadata": {},
   "source": [
    "## 2.2. Transformar e converter"
   ]
  },
  {
   "cell_type": "markdown",
   "id": "f0a6a2fb",
   "metadata": {
    "heading_collapsed": true
   },
   "source": [
    "### 2.2.1. Preencher NA´s"
   ]
  },
  {
   "cell_type": "markdown",
   "id": "62da1723",
   "metadata": {
    "hidden": true
   },
   "source": [
    "#### 2.2.1.1. Excluir os registros com vendas semanais nula ou menor 100"
   ]
  },
  {
   "cell_type": "code",
   "execution_count": 13,
   "id": "b92df54b",
   "metadata": {
    "ExecuteTime": {
     "end_time": "2023-12-17T13:58:06.725638Z",
     "start_time": "2023-12-17T13:58:06.643440Z"
    },
    "hidden": true
   },
   "outputs": [],
   "source": [
    "reg_faltantes = df2.loc[(df2['vendas_semanais'].isna()) | (df2['vendas_semanais'] < 100), :].index\n",
    "df2.drop(reg_faltantes, axis=0, inplace=True)"
   ]
  },
  {
   "cell_type": "code",
   "execution_count": 14,
   "id": "1fba5f07",
   "metadata": {
    "ExecuteTime": {
     "end_time": "2023-12-17T13:58:06.818434Z",
     "start_time": "2023-12-17T13:58:06.732241Z"
    },
    "hidden": true
   },
   "outputs": [
    {
     "data": {
      "text/html": [
       "<div>\n",
       "<style scoped>\n",
       "    .dataframe tbody tr th:only-of-type {\n",
       "        vertical-align: middle;\n",
       "    }\n",
       "\n",
       "    .dataframe tbody tr th {\n",
       "        vertical-align: top;\n",
       "    }\n",
       "\n",
       "    .dataframe thead th {\n",
       "        text-align: right;\n",
       "    }\n",
       "</style>\n",
       "<table border=\"1\" class=\"dataframe\">\n",
       "  <thead>\n",
       "    <tr style=\"text-align: right;\">\n",
       "      <th></th>\n",
       "      <th>id</th>\n",
       "      <th>loja</th>\n",
       "      <th>setor</th>\n",
       "      <th>data</th>\n",
       "      <th>vendas_semanais</th>\n",
       "      <th>feriado</th>\n",
       "      <th>tipo</th>\n",
       "      <th>tamanho</th>\n",
       "      <th>temperatura</th>\n",
       "      <th>combustivel</th>\n",
       "      <th>desconto_1</th>\n",
       "      <th>desconto_2</th>\n",
       "      <th>desconto_3</th>\n",
       "      <th>desconto_4</th>\n",
       "      <th>desconto_5</th>\n",
       "      <th>desemprego</th>\n",
       "      <th>distancia_competidores</th>\n",
       "      <th>clientes</th>\n",
       "    </tr>\n",
       "  </thead>\n",
       "  <tbody>\n",
       "    <tr>\n",
       "      <th>114833</th>\n",
       "      <td>275307</td>\n",
       "      <td>33</td>\n",
       "      <td>90</td>\n",
       "      <td>11-18</td>\n",
       "      <td>23462.71</td>\n",
       "      <td>nao</td>\n",
       "      <td>eletrodomestico</td>\n",
       "      <td>39690.0</td>\n",
       "      <td>NaN</td>\n",
       "      <td>3.669</td>\n",
       "      <td>86.59</td>\n",
       "      <td>6.0</td>\n",
       "      <td>NaN</td>\n",
       "      <td>NaN</td>\n",
       "      <td>3220.86</td>\n",
       "      <td>0.0801</td>\n",
       "      <td>1952.0</td>\n",
       "      <td>156</td>\n",
       "    </tr>\n",
       "    <tr>\n",
       "      <th>114834</th>\n",
       "      <td>275374</td>\n",
       "      <td>33</td>\n",
       "      <td>96</td>\n",
       "      <td>11-18</td>\n",
       "      <td>10445.16</td>\n",
       "      <td>nao</td>\n",
       "      <td>eletrodomestico</td>\n",
       "      <td>39690.0</td>\n",
       "      <td>NaN</td>\n",
       "      <td>3.669</td>\n",
       "      <td>86.59</td>\n",
       "      <td>6.0</td>\n",
       "      <td>NaN</td>\n",
       "      <td>NaN</td>\n",
       "      <td>3220.86</td>\n",
       "      <td>0.0801</td>\n",
       "      <td>1952.0</td>\n",
       "      <td>156</td>\n",
       "    </tr>\n",
       "    <tr>\n",
       "      <th>114835</th>\n",
       "      <td>275387</td>\n",
       "      <td>33</td>\n",
       "      <td>95</td>\n",
       "      <td>11-18</td>\n",
       "      <td>25464.21</td>\n",
       "      <td>nao</td>\n",
       "      <td>eletrodomestico</td>\n",
       "      <td>39690.0</td>\n",
       "      <td>NaN</td>\n",
       "      <td>3.669</td>\n",
       "      <td>86.59</td>\n",
       "      <td>6.0</td>\n",
       "      <td>NaN</td>\n",
       "      <td>NaN</td>\n",
       "      <td>3220.86</td>\n",
       "      <td>0.0801</td>\n",
       "      <td>1952.0</td>\n",
       "      <td>156</td>\n",
       "    </tr>\n",
       "    <tr>\n",
       "      <th>114836</th>\n",
       "      <td>275397</td>\n",
       "      <td>33</td>\n",
       "      <td>98</td>\n",
       "      <td>11-18</td>\n",
       "      <td>7730.53</td>\n",
       "      <td>nao</td>\n",
       "      <td>eletrodomestico</td>\n",
       "      <td>39690.0</td>\n",
       "      <td>NaN</td>\n",
       "      <td>3.669</td>\n",
       "      <td>86.59</td>\n",
       "      <td>6.0</td>\n",
       "      <td>NaN</td>\n",
       "      <td>NaN</td>\n",
       "      <td>3220.86</td>\n",
       "      <td>0.0801</td>\n",
       "      <td>1952.0</td>\n",
       "      <td>156</td>\n",
       "    </tr>\n",
       "    <tr>\n",
       "      <th>114837</th>\n",
       "      <td>275405</td>\n",
       "      <td>33</td>\n",
       "      <td>97</td>\n",
       "      <td>11-18</td>\n",
       "      <td>4665.16</td>\n",
       "      <td>nao</td>\n",
       "      <td>eletrodomestico</td>\n",
       "      <td>39690.0</td>\n",
       "      <td>NaN</td>\n",
       "      <td>3.669</td>\n",
       "      <td>86.59</td>\n",
       "      <td>6.0</td>\n",
       "      <td>NaN</td>\n",
       "      <td>NaN</td>\n",
       "      <td>3220.86</td>\n",
       "      <td>0.0801</td>\n",
       "      <td>1952.0</td>\n",
       "      <td>156</td>\n",
       "    </tr>\n",
       "  </tbody>\n",
       "</table>\n",
       "</div>"
      ],
      "text/plain": [
       "            id  loja  setor   data  vendas_semanais feriado             tipo  \\\n",
       "114833  275307    33     90  11-18         23462.71     nao  eletrodomestico   \n",
       "114834  275374    33     96  11-18         10445.16     nao  eletrodomestico   \n",
       "114835  275387    33     95  11-18         25464.21     nao  eletrodomestico   \n",
       "114836  275397    33     98  11-18          7730.53     nao  eletrodomestico   \n",
       "114837  275405    33     97  11-18          4665.16     nao  eletrodomestico   \n",
       "\n",
       "        tamanho  temperatura  combustivel  desconto_1  desconto_2  desconto_3  \\\n",
       "114833  39690.0          NaN        3.669       86.59         6.0         NaN   \n",
       "114834  39690.0          NaN        3.669       86.59         6.0         NaN   \n",
       "114835  39690.0          NaN        3.669       86.59         6.0         NaN   \n",
       "114836  39690.0          NaN        3.669       86.59         6.0         NaN   \n",
       "114837  39690.0          NaN        3.669       86.59         6.0         NaN   \n",
       "\n",
       "        desconto_4  desconto_5  desemprego  distancia_competidores  clientes  \n",
       "114833         NaN     3220.86      0.0801                  1952.0       156  \n",
       "114834         NaN     3220.86      0.0801                  1952.0       156  \n",
       "114835         NaN     3220.86      0.0801                  1952.0       156  \n",
       "114836         NaN     3220.86      0.0801                  1952.0       156  \n",
       "114837         NaN     3220.86      0.0801                  1952.0       156  "
      ]
     },
     "execution_count": 14,
     "metadata": {},
     "output_type": "execute_result"
    }
   ],
   "source": [
    "df2.reset_index(inplace=True,drop=True)\n",
    "df2.tail()"
   ]
  },
  {
   "cell_type": "markdown",
   "id": "47586871",
   "metadata": {
    "heading_collapsed": true,
    "hidden": true
   },
   "source": [
    "#### 2.2.1.2. Preencher os descontos com valores nulos com 0"
   ]
  },
  {
   "cell_type": "code",
   "execution_count": 15,
   "id": "7cae818b",
   "metadata": {
    "ExecuteTime": {
     "end_time": "2023-12-17T13:58:06.895302Z",
     "start_time": "2023-12-17T13:58:06.823473Z"
    },
    "hidden": true
   },
   "outputs": [],
   "source": [
    "df2['desconto_1'] = df2['desconto_1'].fillna(0)\n",
    "df2['desconto_2'] = df2['desconto_2'].fillna(0)\n",
    "df2['desconto_3'] = df2['desconto_3'].fillna(0)\n",
    "df2['desconto_4'] = df2['desconto_4'].fillna(0)\n",
    "df2['desconto_5'] = df2['desconto_5'].fillna(0)"
   ]
  },
  {
   "cell_type": "markdown",
   "id": "c8abe15d",
   "metadata": {
    "heading_collapsed": true,
    "hidden": true
   },
   "source": [
    "#### 2.2.1.3. Preencher o tamanho das lojas faltantes com 0 e considerar online"
   ]
  },
  {
   "cell_type": "code",
   "execution_count": 16,
   "id": "8a206b9e",
   "metadata": {
    "ExecuteTime": {
     "end_time": "2023-12-17T13:58:06.942050Z",
     "start_time": "2023-12-17T13:58:06.901864Z"
    },
    "hidden": true
   },
   "outputs": [],
   "source": [
    "tam_faltantes = df2.loc[df2['tamanho'].isna(), :].index"
   ]
  },
  {
   "cell_type": "code",
   "execution_count": 17,
   "id": "9c1ce46d",
   "metadata": {
    "ExecuteTime": {
     "end_time": "2023-12-17T13:58:07.068238Z",
     "start_time": "2023-12-17T13:58:06.948594Z"
    },
    "hidden": true
   },
   "outputs": [],
   "source": [
    "df2['tamanho'] = df2['tamanho'].apply(lambda x: 0 if math.isnan(x) else x)"
   ]
  },
  {
   "cell_type": "code",
   "execution_count": 18,
   "id": "4502a8f7",
   "metadata": {
    "ExecuteTime": {
     "end_time": "2023-12-17T13:58:07.178126Z",
     "start_time": "2023-12-17T13:58:07.073060Z"
    },
    "hidden": true
   },
   "outputs": [
    {
     "data": {
      "text/html": [
       "<div>\n",
       "<style scoped>\n",
       "    .dataframe tbody tr th:only-of-type {\n",
       "        vertical-align: middle;\n",
       "    }\n",
       "\n",
       "    .dataframe tbody tr th {\n",
       "        vertical-align: top;\n",
       "    }\n",
       "\n",
       "    .dataframe thead th {\n",
       "        text-align: right;\n",
       "    }\n",
       "</style>\n",
       "<table border=\"1\" class=\"dataframe\">\n",
       "  <thead>\n",
       "    <tr style=\"text-align: right;\">\n",
       "      <th></th>\n",
       "      <th>id</th>\n",
       "      <th>loja</th>\n",
       "      <th>setor</th>\n",
       "      <th>data</th>\n",
       "      <th>vendas_semanais</th>\n",
       "      <th>feriado</th>\n",
       "      <th>tipo</th>\n",
       "      <th>tamanho</th>\n",
       "      <th>temperatura</th>\n",
       "      <th>combustivel</th>\n",
       "      <th>desconto_1</th>\n",
       "      <th>desconto_2</th>\n",
       "      <th>desconto_3</th>\n",
       "      <th>desconto_4</th>\n",
       "      <th>desconto_5</th>\n",
       "      <th>desemprego</th>\n",
       "      <th>distancia_competidores</th>\n",
       "      <th>clientes</th>\n",
       "    </tr>\n",
       "  </thead>\n",
       "  <tbody>\n",
       "    <tr>\n",
       "      <th>5329</th>\n",
       "      <td>140681</td>\n",
       "      <td>3</td>\n",
       "      <td>25</td>\n",
       "      <td>01-07</td>\n",
       "      <td>2658.57</td>\n",
       "      <td>nao</td>\n",
       "      <td>eletronico</td>\n",
       "      <td>0.0</td>\n",
       "      <td>11.861111</td>\n",
       "      <td>NaN</td>\n",
       "      <td>0.00</td>\n",
       "      <td>0.00</td>\n",
       "      <td>0.0</td>\n",
       "      <td>0.00</td>\n",
       "      <td>0.0</td>\n",
       "      <td>0.07551</td>\n",
       "      <td>NaN</td>\n",
       "      <td>901</td>\n",
       "    </tr>\n",
       "    <tr>\n",
       "      <th>5330</th>\n",
       "      <td>141029</td>\n",
       "      <td>3</td>\n",
       "      <td>20</td>\n",
       "      <td>01-07</td>\n",
       "      <td>1358.81</td>\n",
       "      <td>nao</td>\n",
       "      <td>eletronico</td>\n",
       "      <td>0.0</td>\n",
       "      <td>11.861111</td>\n",
       "      <td>NaN</td>\n",
       "      <td>0.00</td>\n",
       "      <td>0.00</td>\n",
       "      <td>0.0</td>\n",
       "      <td>0.00</td>\n",
       "      <td>0.0</td>\n",
       "      <td>0.07551</td>\n",
       "      <td>NaN</td>\n",
       "      <td>901</td>\n",
       "    </tr>\n",
       "    <tr>\n",
       "      <th>5331</th>\n",
       "      <td>141077</td>\n",
       "      <td>3</td>\n",
       "      <td>34</td>\n",
       "      <td>01-07</td>\n",
       "      <td>3280.50</td>\n",
       "      <td>nao</td>\n",
       "      <td>eletronico</td>\n",
       "      <td>0.0</td>\n",
       "      <td>11.861111</td>\n",
       "      <td>NaN</td>\n",
       "      <td>0.00</td>\n",
       "      <td>0.00</td>\n",
       "      <td>0.0</td>\n",
       "      <td>0.00</td>\n",
       "      <td>0.0</td>\n",
       "      <td>0.07551</td>\n",
       "      <td>NaN</td>\n",
       "      <td>901</td>\n",
       "    </tr>\n",
       "    <tr>\n",
       "      <th>5332</th>\n",
       "      <td>141106</td>\n",
       "      <td>3</td>\n",
       "      <td>23</td>\n",
       "      <td>01-07</td>\n",
       "      <td>6530.88</td>\n",
       "      <td>nao</td>\n",
       "      <td>eletronico</td>\n",
       "      <td>0.0</td>\n",
       "      <td>11.861111</td>\n",
       "      <td>NaN</td>\n",
       "      <td>0.00</td>\n",
       "      <td>0.00</td>\n",
       "      <td>0.0</td>\n",
       "      <td>0.00</td>\n",
       "      <td>0.0</td>\n",
       "      <td>0.07551</td>\n",
       "      <td>NaN</td>\n",
       "      <td>901</td>\n",
       "    </tr>\n",
       "    <tr>\n",
       "      <th>5333</th>\n",
       "      <td>141169</td>\n",
       "      <td>3</td>\n",
       "      <td>19</td>\n",
       "      <td>01-07</td>\n",
       "      <td>3113.76</td>\n",
       "      <td>nao</td>\n",
       "      <td>eletronico</td>\n",
       "      <td>0.0</td>\n",
       "      <td>11.861111</td>\n",
       "      <td>NaN</td>\n",
       "      <td>0.00</td>\n",
       "      <td>0.00</td>\n",
       "      <td>0.0</td>\n",
       "      <td>0.00</td>\n",
       "      <td>0.0</td>\n",
       "      <td>0.07551</td>\n",
       "      <td>NaN</td>\n",
       "      <td>901</td>\n",
       "    </tr>\n",
       "    <tr>\n",
       "      <th>...</th>\n",
       "      <td>...</td>\n",
       "      <td>...</td>\n",
       "      <td>...</td>\n",
       "      <td>...</td>\n",
       "      <td>...</td>\n",
       "      <td>...</td>\n",
       "      <td>...</td>\n",
       "      <td>...</td>\n",
       "      <td>...</td>\n",
       "      <td>...</td>\n",
       "      <td>...</td>\n",
       "      <td>...</td>\n",
       "      <td>...</td>\n",
       "      <td>...</td>\n",
       "      <td>...</td>\n",
       "      <td>...</td>\n",
       "      <td>...</td>\n",
       "      <td>...</td>\n",
       "    </tr>\n",
       "    <tr>\n",
       "      <th>113407</th>\n",
       "      <td>274985</td>\n",
       "      <td>11</td>\n",
       "      <td>71</td>\n",
       "      <td>11-18</td>\n",
       "      <td>9419.43</td>\n",
       "      <td>nao</td>\n",
       "      <td>eletrodomestico</td>\n",
       "      <td>0.0</td>\n",
       "      <td>NaN</td>\n",
       "      <td>NaN</td>\n",
       "      <td>10941.05</td>\n",
       "      <td>222.94</td>\n",
       "      <td>263.1</td>\n",
       "      <td>404.05</td>\n",
       "      <td>8885.3</td>\n",
       "      <td>0.07197</td>\n",
       "      <td>17997.0</td>\n",
       "      <td>953</td>\n",
       "    </tr>\n",
       "    <tr>\n",
       "      <th>113408</th>\n",
       "      <td>274997</td>\n",
       "      <td>11</td>\n",
       "      <td>67</td>\n",
       "      <td>11-18</td>\n",
       "      <td>9790.06</td>\n",
       "      <td>nao</td>\n",
       "      <td>eletrodomestico</td>\n",
       "      <td>0.0</td>\n",
       "      <td>NaN</td>\n",
       "      <td>NaN</td>\n",
       "      <td>10941.05</td>\n",
       "      <td>222.94</td>\n",
       "      <td>263.1</td>\n",
       "      <td>404.05</td>\n",
       "      <td>8885.3</td>\n",
       "      <td>0.07197</td>\n",
       "      <td>17997.0</td>\n",
       "      <td>953</td>\n",
       "    </tr>\n",
       "    <tr>\n",
       "      <th>113409</th>\n",
       "      <td>275011</td>\n",
       "      <td>11</td>\n",
       "      <td>79</td>\n",
       "      <td>11-18</td>\n",
       "      <td>26994.74</td>\n",
       "      <td>nao</td>\n",
       "      <td>eletrodomestico</td>\n",
       "      <td>0.0</td>\n",
       "      <td>NaN</td>\n",
       "      <td>NaN</td>\n",
       "      <td>10941.05</td>\n",
       "      <td>222.94</td>\n",
       "      <td>263.1</td>\n",
       "      <td>404.05</td>\n",
       "      <td>8885.3</td>\n",
       "      <td>0.07197</td>\n",
       "      <td>17997.0</td>\n",
       "      <td>953</td>\n",
       "    </tr>\n",
       "    <tr>\n",
       "      <th>113410</th>\n",
       "      <td>275018</td>\n",
       "      <td>11</td>\n",
       "      <td>74</td>\n",
       "      <td>11-18</td>\n",
       "      <td>18686.63</td>\n",
       "      <td>nao</td>\n",
       "      <td>eletrodomestico</td>\n",
       "      <td>0.0</td>\n",
       "      <td>NaN</td>\n",
       "      <td>NaN</td>\n",
       "      <td>10941.05</td>\n",
       "      <td>222.94</td>\n",
       "      <td>263.1</td>\n",
       "      <td>404.05</td>\n",
       "      <td>8885.3</td>\n",
       "      <td>0.07197</td>\n",
       "      <td>17997.0</td>\n",
       "      <td>953</td>\n",
       "    </tr>\n",
       "    <tr>\n",
       "      <th>113411</th>\n",
       "      <td>275024</td>\n",
       "      <td>11</td>\n",
       "      <td>72</td>\n",
       "      <td>11-18</td>\n",
       "      <td>70158.58</td>\n",
       "      <td>nao</td>\n",
       "      <td>eletrodomestico</td>\n",
       "      <td>0.0</td>\n",
       "      <td>NaN</td>\n",
       "      <td>NaN</td>\n",
       "      <td>10941.05</td>\n",
       "      <td>222.94</td>\n",
       "      <td>263.1</td>\n",
       "      <td>404.05</td>\n",
       "      <td>8885.3</td>\n",
       "      <td>0.07197</td>\n",
       "      <td>17997.0</td>\n",
       "      <td>953</td>\n",
       "    </tr>\n",
       "  </tbody>\n",
       "</table>\n",
       "<p>28404 rows × 18 columns</p>\n",
       "</div>"
      ],
      "text/plain": [
       "            id  loja  setor   data  vendas_semanais feriado             tipo  \\\n",
       "5329    140681     3     25  01-07          2658.57     nao       eletronico   \n",
       "5330    141029     3     20  01-07          1358.81     nao       eletronico   \n",
       "5331    141077     3     34  01-07          3280.50     nao       eletronico   \n",
       "5332    141106     3     23  01-07          6530.88     nao       eletronico   \n",
       "5333    141169     3     19  01-07          3113.76     nao       eletronico   \n",
       "...        ...   ...    ...    ...              ...     ...              ...   \n",
       "113407  274985    11     71  11-18          9419.43     nao  eletrodomestico   \n",
       "113408  274997    11     67  11-18          9790.06     nao  eletrodomestico   \n",
       "113409  275011    11     79  11-18         26994.74     nao  eletrodomestico   \n",
       "113410  275018    11     74  11-18         18686.63     nao  eletrodomestico   \n",
       "113411  275024    11     72  11-18         70158.58     nao  eletrodomestico   \n",
       "\n",
       "        tamanho  temperatura  combustivel  desconto_1  desconto_2  desconto_3  \\\n",
       "5329        0.0    11.861111          NaN        0.00        0.00         0.0   \n",
       "5330        0.0    11.861111          NaN        0.00        0.00         0.0   \n",
       "5331        0.0    11.861111          NaN        0.00        0.00         0.0   \n",
       "5332        0.0    11.861111          NaN        0.00        0.00         0.0   \n",
       "5333        0.0    11.861111          NaN        0.00        0.00         0.0   \n",
       "...         ...          ...          ...         ...         ...         ...   \n",
       "113407      0.0          NaN          NaN    10941.05      222.94       263.1   \n",
       "113408      0.0          NaN          NaN    10941.05      222.94       263.1   \n",
       "113409      0.0          NaN          NaN    10941.05      222.94       263.1   \n",
       "113410      0.0          NaN          NaN    10941.05      222.94       263.1   \n",
       "113411      0.0          NaN          NaN    10941.05      222.94       263.1   \n",
       "\n",
       "        desconto_4  desconto_5  desemprego  distancia_competidores  clientes  \n",
       "5329          0.00         0.0     0.07551                     NaN       901  \n",
       "5330          0.00         0.0     0.07551                     NaN       901  \n",
       "5331          0.00         0.0     0.07551                     NaN       901  \n",
       "5332          0.00         0.0     0.07551                     NaN       901  \n",
       "5333          0.00         0.0     0.07551                     NaN       901  \n",
       "...            ...         ...         ...                     ...       ...  \n",
       "113407      404.05      8885.3     0.07197                 17997.0       953  \n",
       "113408      404.05      8885.3     0.07197                 17997.0       953  \n",
       "113409      404.05      8885.3     0.07197                 17997.0       953  \n",
       "113410      404.05      8885.3     0.07197                 17997.0       953  \n",
       "113411      404.05      8885.3     0.07197                 17997.0       953  \n",
       "\n",
       "[28404 rows x 18 columns]"
      ]
     },
     "execution_count": 18,
     "metadata": {},
     "output_type": "execute_result"
    }
   ],
   "source": [
    "df2.iloc[tam_faltantes, :]"
   ]
  },
  {
   "cell_type": "markdown",
   "id": "3bea72ac",
   "metadata": {
    "ExecuteTime": {
     "end_time": "2023-12-16T14:48:50.828592Z",
     "start_time": "2023-12-16T14:48:50.814622Z"
    },
    "heading_collapsed": true,
    "hidden": true
   },
   "source": [
    "#### 2.2.1.4. Preencher a temperatura faltantes usando a média"
   ]
  },
  {
   "cell_type": "code",
   "execution_count": 19,
   "id": "058a4ea8",
   "metadata": {
    "ExecuteTime": {
     "end_time": "2023-12-17T13:58:07.208449Z",
     "start_time": "2023-12-17T13:58:07.184688Z"
    },
    "hidden": true
   },
   "outputs": [
    {
     "data": {
      "text/plain": [
       "15.588963417919134"
      ]
     },
     "execution_count": 19,
     "metadata": {},
     "output_type": "execute_result"
    }
   ],
   "source": [
    "media = df2['temperatura'].mean()\n",
    "media"
   ]
  },
  {
   "cell_type": "code",
   "execution_count": 20,
   "id": "0facc94e",
   "metadata": {
    "ExecuteTime": {
     "end_time": "2023-12-17T13:58:07.254893Z",
     "start_time": "2023-12-17T13:58:07.215469Z"
    },
    "hidden": true
   },
   "outputs": [],
   "source": [
    "temp_faltantes = df2.loc[df2['temperatura'].isna(), :].index"
   ]
  },
  {
   "cell_type": "code",
   "execution_count": 21,
   "id": "1449ed03",
   "metadata": {
    "ExecuteTime": {
     "end_time": "2023-12-17T13:58:07.408441Z",
     "start_time": "2023-12-17T13:58:07.265494Z"
    },
    "hidden": true
   },
   "outputs": [
    {
     "name": "stdout",
     "output_type": "stream",
     "text": [
      "CPU times: total: 62.5 ms\n",
      "Wall time: 114 ms\n"
     ]
    }
   ],
   "source": [
    "%%time\n",
    "df2['temperatura'] = df2['temperatura'].apply(lambda x: media if math.isnan(x) else x)"
   ]
  },
  {
   "cell_type": "code",
   "execution_count": 22,
   "id": "ce3ff4d9",
   "metadata": {
    "ExecuteTime": {
     "end_time": "2023-12-17T13:58:07.530982Z",
     "start_time": "2023-12-17T13:58:07.415400Z"
    },
    "hidden": true
   },
   "outputs": [
    {
     "data": {
      "text/html": [
       "<div>\n",
       "<style scoped>\n",
       "    .dataframe tbody tr th:only-of-type {\n",
       "        vertical-align: middle;\n",
       "    }\n",
       "\n",
       "    .dataframe tbody tr th {\n",
       "        vertical-align: top;\n",
       "    }\n",
       "\n",
       "    .dataframe thead th {\n",
       "        text-align: right;\n",
       "    }\n",
       "</style>\n",
       "<table border=\"1\" class=\"dataframe\">\n",
       "  <thead>\n",
       "    <tr style=\"text-align: right;\">\n",
       "      <th></th>\n",
       "      <th>id</th>\n",
       "      <th>loja</th>\n",
       "      <th>setor</th>\n",
       "      <th>data</th>\n",
       "      <th>vendas_semanais</th>\n",
       "      <th>feriado</th>\n",
       "      <th>tipo</th>\n",
       "      <th>tamanho</th>\n",
       "      <th>temperatura</th>\n",
       "      <th>combustivel</th>\n",
       "      <th>desconto_1</th>\n",
       "      <th>desconto_2</th>\n",
       "      <th>desconto_3</th>\n",
       "      <th>desconto_4</th>\n",
       "      <th>desconto_5</th>\n",
       "      <th>desemprego</th>\n",
       "      <th>distancia_competidores</th>\n",
       "      <th>clientes</th>\n",
       "    </tr>\n",
       "  </thead>\n",
       "  <tbody>\n",
       "    <tr>\n",
       "      <th>121</th>\n",
       "      <td>146595</td>\n",
       "      <td>17</td>\n",
       "      <td>6</td>\n",
       "      <td>01-21</td>\n",
       "      <td>4548.82</td>\n",
       "      <td>nao</td>\n",
       "      <td>eletronico</td>\n",
       "      <td>93188.0</td>\n",
       "      <td>15.588963</td>\n",
       "      <td>2.934</td>\n",
       "      <td>0.00</td>\n",
       "      <td>0.0</td>\n",
       "      <td>0.0</td>\n",
       "      <td>0.0</td>\n",
       "      <td>0.00</td>\n",
       "      <td>0.06866</td>\n",
       "      <td>NaN</td>\n",
       "      <td>422</td>\n",
       "    </tr>\n",
       "    <tr>\n",
       "      <th>122</th>\n",
       "      <td>146907</td>\n",
       "      <td>17</td>\n",
       "      <td>1</td>\n",
       "      <td>01-21</td>\n",
       "      <td>16137.30</td>\n",
       "      <td>nao</td>\n",
       "      <td>eletronico</td>\n",
       "      <td>93188.0</td>\n",
       "      <td>15.588963</td>\n",
       "      <td>2.934</td>\n",
       "      <td>0.00</td>\n",
       "      <td>0.0</td>\n",
       "      <td>0.0</td>\n",
       "      <td>0.0</td>\n",
       "      <td>0.00</td>\n",
       "      <td>0.06866</td>\n",
       "      <td>NaN</td>\n",
       "      <td>422</td>\n",
       "    </tr>\n",
       "    <tr>\n",
       "      <th>123</th>\n",
       "      <td>146975</td>\n",
       "      <td>17</td>\n",
       "      <td>2</td>\n",
       "      <td>01-21</td>\n",
       "      <td>39712.80</td>\n",
       "      <td>nao</td>\n",
       "      <td>eletronico</td>\n",
       "      <td>93188.0</td>\n",
       "      <td>15.588963</td>\n",
       "      <td>2.934</td>\n",
       "      <td>0.00</td>\n",
       "      <td>0.0</td>\n",
       "      <td>0.0</td>\n",
       "      <td>0.0</td>\n",
       "      <td>0.00</td>\n",
       "      <td>0.06866</td>\n",
       "      <td>NaN</td>\n",
       "      <td>422</td>\n",
       "    </tr>\n",
       "    <tr>\n",
       "      <th>124</th>\n",
       "      <td>146986</td>\n",
       "      <td>17</td>\n",
       "      <td>3</td>\n",
       "      <td>01-21</td>\n",
       "      <td>16762.49</td>\n",
       "      <td>nao</td>\n",
       "      <td>eletronico</td>\n",
       "      <td>93188.0</td>\n",
       "      <td>15.588963</td>\n",
       "      <td>2.934</td>\n",
       "      <td>0.00</td>\n",
       "      <td>0.0</td>\n",
       "      <td>0.0</td>\n",
       "      <td>0.0</td>\n",
       "      <td>0.00</td>\n",
       "      <td>0.06866</td>\n",
       "      <td>NaN</td>\n",
       "      <td>422</td>\n",
       "    </tr>\n",
       "    <tr>\n",
       "      <th>125</th>\n",
       "      <td>147010</td>\n",
       "      <td>17</td>\n",
       "      <td>4</td>\n",
       "      <td>01-21</td>\n",
       "      <td>22773.89</td>\n",
       "      <td>nao</td>\n",
       "      <td>eletronico</td>\n",
       "      <td>93188.0</td>\n",
       "      <td>15.588963</td>\n",
       "      <td>2.934</td>\n",
       "      <td>0.00</td>\n",
       "      <td>0.0</td>\n",
       "      <td>0.0</td>\n",
       "      <td>0.0</td>\n",
       "      <td>0.00</td>\n",
       "      <td>0.06866</td>\n",
       "      <td>NaN</td>\n",
       "      <td>422</td>\n",
       "    </tr>\n",
       "    <tr>\n",
       "      <th>...</th>\n",
       "      <td>...</td>\n",
       "      <td>...</td>\n",
       "      <td>...</td>\n",
       "      <td>...</td>\n",
       "      <td>...</td>\n",
       "      <td>...</td>\n",
       "      <td>...</td>\n",
       "      <td>...</td>\n",
       "      <td>...</td>\n",
       "      <td>...</td>\n",
       "      <td>...</td>\n",
       "      <td>...</td>\n",
       "      <td>...</td>\n",
       "      <td>...</td>\n",
       "      <td>...</td>\n",
       "      <td>...</td>\n",
       "      <td>...</td>\n",
       "      <td>...</td>\n",
       "    </tr>\n",
       "    <tr>\n",
       "      <th>114833</th>\n",
       "      <td>275307</td>\n",
       "      <td>33</td>\n",
       "      <td>90</td>\n",
       "      <td>11-18</td>\n",
       "      <td>23462.71</td>\n",
       "      <td>nao</td>\n",
       "      <td>eletrodomestico</td>\n",
       "      <td>39690.0</td>\n",
       "      <td>15.588963</td>\n",
       "      <td>3.669</td>\n",
       "      <td>86.59</td>\n",
       "      <td>6.0</td>\n",
       "      <td>0.0</td>\n",
       "      <td>0.0</td>\n",
       "      <td>3220.86</td>\n",
       "      <td>0.08010</td>\n",
       "      <td>1952.0</td>\n",
       "      <td>156</td>\n",
       "    </tr>\n",
       "    <tr>\n",
       "      <th>114834</th>\n",
       "      <td>275374</td>\n",
       "      <td>33</td>\n",
       "      <td>96</td>\n",
       "      <td>11-18</td>\n",
       "      <td>10445.16</td>\n",
       "      <td>nao</td>\n",
       "      <td>eletrodomestico</td>\n",
       "      <td>39690.0</td>\n",
       "      <td>15.588963</td>\n",
       "      <td>3.669</td>\n",
       "      <td>86.59</td>\n",
       "      <td>6.0</td>\n",
       "      <td>0.0</td>\n",
       "      <td>0.0</td>\n",
       "      <td>3220.86</td>\n",
       "      <td>0.08010</td>\n",
       "      <td>1952.0</td>\n",
       "      <td>156</td>\n",
       "    </tr>\n",
       "    <tr>\n",
       "      <th>114835</th>\n",
       "      <td>275387</td>\n",
       "      <td>33</td>\n",
       "      <td>95</td>\n",
       "      <td>11-18</td>\n",
       "      <td>25464.21</td>\n",
       "      <td>nao</td>\n",
       "      <td>eletrodomestico</td>\n",
       "      <td>39690.0</td>\n",
       "      <td>15.588963</td>\n",
       "      <td>3.669</td>\n",
       "      <td>86.59</td>\n",
       "      <td>6.0</td>\n",
       "      <td>0.0</td>\n",
       "      <td>0.0</td>\n",
       "      <td>3220.86</td>\n",
       "      <td>0.08010</td>\n",
       "      <td>1952.0</td>\n",
       "      <td>156</td>\n",
       "    </tr>\n",
       "    <tr>\n",
       "      <th>114836</th>\n",
       "      <td>275397</td>\n",
       "      <td>33</td>\n",
       "      <td>98</td>\n",
       "      <td>11-18</td>\n",
       "      <td>7730.53</td>\n",
       "      <td>nao</td>\n",
       "      <td>eletrodomestico</td>\n",
       "      <td>39690.0</td>\n",
       "      <td>15.588963</td>\n",
       "      <td>3.669</td>\n",
       "      <td>86.59</td>\n",
       "      <td>6.0</td>\n",
       "      <td>0.0</td>\n",
       "      <td>0.0</td>\n",
       "      <td>3220.86</td>\n",
       "      <td>0.08010</td>\n",
       "      <td>1952.0</td>\n",
       "      <td>156</td>\n",
       "    </tr>\n",
       "    <tr>\n",
       "      <th>114837</th>\n",
       "      <td>275405</td>\n",
       "      <td>33</td>\n",
       "      <td>97</td>\n",
       "      <td>11-18</td>\n",
       "      <td>4665.16</td>\n",
       "      <td>nao</td>\n",
       "      <td>eletrodomestico</td>\n",
       "      <td>39690.0</td>\n",
       "      <td>15.588963</td>\n",
       "      <td>3.669</td>\n",
       "      <td>86.59</td>\n",
       "      <td>6.0</td>\n",
       "      <td>0.0</td>\n",
       "      <td>0.0</td>\n",
       "      <td>3220.86</td>\n",
       "      <td>0.08010</td>\n",
       "      <td>1952.0</td>\n",
       "      <td>156</td>\n",
       "    </tr>\n",
       "  </tbody>\n",
       "</table>\n",
       "<p>40594 rows × 18 columns</p>\n",
       "</div>"
      ],
      "text/plain": [
       "            id  loja  setor   data  vendas_semanais feriado             tipo  \\\n",
       "121     146595    17      6  01-21          4548.82     nao       eletronico   \n",
       "122     146907    17      1  01-21         16137.30     nao       eletronico   \n",
       "123     146975    17      2  01-21         39712.80     nao       eletronico   \n",
       "124     146986    17      3  01-21         16762.49     nao       eletronico   \n",
       "125     147010    17      4  01-21         22773.89     nao       eletronico   \n",
       "...        ...   ...    ...    ...              ...     ...              ...   \n",
       "114833  275307    33     90  11-18         23462.71     nao  eletrodomestico   \n",
       "114834  275374    33     96  11-18         10445.16     nao  eletrodomestico   \n",
       "114835  275387    33     95  11-18         25464.21     nao  eletrodomestico   \n",
       "114836  275397    33     98  11-18          7730.53     nao  eletrodomestico   \n",
       "114837  275405    33     97  11-18          4665.16     nao  eletrodomestico   \n",
       "\n",
       "        tamanho  temperatura  combustivel  desconto_1  desconto_2  desconto_3  \\\n",
       "121     93188.0    15.588963        2.934        0.00         0.0         0.0   \n",
       "122     93188.0    15.588963        2.934        0.00         0.0         0.0   \n",
       "123     93188.0    15.588963        2.934        0.00         0.0         0.0   \n",
       "124     93188.0    15.588963        2.934        0.00         0.0         0.0   \n",
       "125     93188.0    15.588963        2.934        0.00         0.0         0.0   \n",
       "...         ...          ...          ...         ...         ...         ...   \n",
       "114833  39690.0    15.588963        3.669       86.59         6.0         0.0   \n",
       "114834  39690.0    15.588963        3.669       86.59         6.0         0.0   \n",
       "114835  39690.0    15.588963        3.669       86.59         6.0         0.0   \n",
       "114836  39690.0    15.588963        3.669       86.59         6.0         0.0   \n",
       "114837  39690.0    15.588963        3.669       86.59         6.0         0.0   \n",
       "\n",
       "        desconto_4  desconto_5  desemprego  distancia_competidores  clientes  \n",
       "121            0.0        0.00     0.06866                     NaN       422  \n",
       "122            0.0        0.00     0.06866                     NaN       422  \n",
       "123            0.0        0.00     0.06866                     NaN       422  \n",
       "124            0.0        0.00     0.06866                     NaN       422  \n",
       "125            0.0        0.00     0.06866                     NaN       422  \n",
       "...            ...         ...         ...                     ...       ...  \n",
       "114833         0.0     3220.86     0.08010                  1952.0       156  \n",
       "114834         0.0     3220.86     0.08010                  1952.0       156  \n",
       "114835         0.0     3220.86     0.08010                  1952.0       156  \n",
       "114836         0.0     3220.86     0.08010                  1952.0       156  \n",
       "114837         0.0     3220.86     0.08010                  1952.0       156  \n",
       "\n",
       "[40594 rows x 18 columns]"
      ]
     },
     "execution_count": 22,
     "metadata": {},
     "output_type": "execute_result"
    }
   ],
   "source": [
    "df2.iloc[temp_faltantes, :]"
   ]
  },
  {
   "cell_type": "markdown",
   "id": "3e88a5bf",
   "metadata": {
    "heading_collapsed": true,
    "hidden": true
   },
   "source": [
    "#### 2.2.1.5. Preencher os registros com combustível faltantes usando a média"
   ]
  },
  {
   "cell_type": "code",
   "execution_count": 23,
   "id": "0b510709",
   "metadata": {
    "ExecuteTime": {
     "end_time": "2023-12-17T13:58:07.561331Z",
     "start_time": "2023-12-17T13:58:07.536999Z"
    },
    "hidden": true
   },
   "outputs": [
    {
     "data": {
      "text/plain": [
       "3.596657919601641"
      ]
     },
     "execution_count": 23,
     "metadata": {},
     "output_type": "execute_result"
    }
   ],
   "source": [
    "media = df2['combustivel'].mean()\n",
    "media"
   ]
  },
  {
   "cell_type": "code",
   "execution_count": 24,
   "id": "f9ca6061",
   "metadata": {
    "ExecuteTime": {
     "end_time": "2023-12-17T13:58:07.607240Z",
     "start_time": "2023-12-17T13:58:07.569908Z"
    },
    "hidden": true
   },
   "outputs": [],
   "source": [
    "comb_faltantes = df2.loc[df2['combustivel'].isna(), :].index"
   ]
  },
  {
   "cell_type": "code",
   "execution_count": 25,
   "id": "26d1346d",
   "metadata": {
    "ExecuteTime": {
     "end_time": "2023-12-17T13:58:07.732477Z",
     "start_time": "2023-12-17T13:58:07.612352Z"
    },
    "hidden": true
   },
   "outputs": [
    {
     "name": "stdout",
     "output_type": "stream",
     "text": [
      "CPU times: total: 78.1 ms\n",
      "Wall time: 95.6 ms\n"
     ]
    }
   ],
   "source": [
    "%%time\n",
    "df2['combustivel'] = df2['combustivel'].apply(lambda x: media if math.isnan(x) else x)"
   ]
  },
  {
   "cell_type": "code",
   "execution_count": 26,
   "id": "e1dda53e",
   "metadata": {
    "ExecuteTime": {
     "end_time": "2023-12-17T13:58:07.855391Z",
     "start_time": "2023-12-17T13:58:07.738073Z"
    },
    "hidden": true
   },
   "outputs": [
    {
     "data": {
      "text/html": [
       "<div>\n",
       "<style scoped>\n",
       "    .dataframe tbody tr th:only-of-type {\n",
       "        vertical-align: middle;\n",
       "    }\n",
       "\n",
       "    .dataframe tbody tr th {\n",
       "        vertical-align: top;\n",
       "    }\n",
       "\n",
       "    .dataframe thead th {\n",
       "        text-align: right;\n",
       "    }\n",
       "</style>\n",
       "<table border=\"1\" class=\"dataframe\">\n",
       "  <thead>\n",
       "    <tr style=\"text-align: right;\">\n",
       "      <th></th>\n",
       "      <th>id</th>\n",
       "      <th>loja</th>\n",
       "      <th>setor</th>\n",
       "      <th>data</th>\n",
       "      <th>vendas_semanais</th>\n",
       "      <th>feriado</th>\n",
       "      <th>tipo</th>\n",
       "      <th>tamanho</th>\n",
       "      <th>temperatura</th>\n",
       "      <th>combustivel</th>\n",
       "      <th>desconto_1</th>\n",
       "      <th>desconto_2</th>\n",
       "      <th>desconto_3</th>\n",
       "      <th>desconto_4</th>\n",
       "      <th>desconto_5</th>\n",
       "      <th>desemprego</th>\n",
       "      <th>distancia_competidores</th>\n",
       "      <th>clientes</th>\n",
       "    </tr>\n",
       "  </thead>\n",
       "  <tbody>\n",
       "    <tr>\n",
       "      <th>356</th>\n",
       "      <td>158299</td>\n",
       "      <td>17</td>\n",
       "      <td>24</td>\n",
       "      <td>02-18</td>\n",
       "      <td>3652.300000</td>\n",
       "      <td>nao</td>\n",
       "      <td>eletronico</td>\n",
       "      <td>93188.0</td>\n",
       "      <td>-2.855556</td>\n",
       "      <td>3.596658</td>\n",
       "      <td>0.0</td>\n",
       "      <td>0.0</td>\n",
       "      <td>0.0</td>\n",
       "      <td>0.0</td>\n",
       "      <td>0.0</td>\n",
       "      <td>0.06866</td>\n",
       "      <td>NaN</td>\n",
       "      <td>956</td>\n",
       "    </tr>\n",
       "    <tr>\n",
       "      <th>357</th>\n",
       "      <td>158421</td>\n",
       "      <td>17</td>\n",
       "      <td>20</td>\n",
       "      <td>02-18</td>\n",
       "      <td>3273.070000</td>\n",
       "      <td>nao</td>\n",
       "      <td>eletronico</td>\n",
       "      <td>93188.0</td>\n",
       "      <td>-2.855556</td>\n",
       "      <td>3.596658</td>\n",
       "      <td>0.0</td>\n",
       "      <td>0.0</td>\n",
       "      <td>0.0</td>\n",
       "      <td>0.0</td>\n",
       "      <td>0.0</td>\n",
       "      <td>0.06866</td>\n",
       "      <td>NaN</td>\n",
       "      <td>956</td>\n",
       "    </tr>\n",
       "    <tr>\n",
       "      <th>358</th>\n",
       "      <td>158480</td>\n",
       "      <td>17</td>\n",
       "      <td>58</td>\n",
       "      <td>02-18</td>\n",
       "      <td>1200.000000</td>\n",
       "      <td>nao</td>\n",
       "      <td>eletronico</td>\n",
       "      <td>93188.0</td>\n",
       "      <td>-2.855556</td>\n",
       "      <td>3.596658</td>\n",
       "      <td>0.0</td>\n",
       "      <td>0.0</td>\n",
       "      <td>0.0</td>\n",
       "      <td>0.0</td>\n",
       "      <td>0.0</td>\n",
       "      <td>0.06866</td>\n",
       "      <td>NaN</td>\n",
       "      <td>956</td>\n",
       "    </tr>\n",
       "    <tr>\n",
       "      <th>359</th>\n",
       "      <td>158538</td>\n",
       "      <td>17</td>\n",
       "      <td>18</td>\n",
       "      <td>02-18</td>\n",
       "      <td>10202.870000</td>\n",
       "      <td>nao</td>\n",
       "      <td>eletronico</td>\n",
       "      <td>93188.0</td>\n",
       "      <td>-2.855556</td>\n",
       "      <td>3.596658</td>\n",
       "      <td>0.0</td>\n",
       "      <td>0.0</td>\n",
       "      <td>0.0</td>\n",
       "      <td>0.0</td>\n",
       "      <td>0.0</td>\n",
       "      <td>0.06866</td>\n",
       "      <td>NaN</td>\n",
       "      <td>956</td>\n",
       "    </tr>\n",
       "    <tr>\n",
       "      <th>360</th>\n",
       "      <td>158602</td>\n",
       "      <td>17</td>\n",
       "      <td>19</td>\n",
       "      <td>02-18</td>\n",
       "      <td>4271.550000</td>\n",
       "      <td>nao</td>\n",
       "      <td>eletronico</td>\n",
       "      <td>93188.0</td>\n",
       "      <td>-2.855556</td>\n",
       "      <td>3.596658</td>\n",
       "      <td>0.0</td>\n",
       "      <td>0.0</td>\n",
       "      <td>0.0</td>\n",
       "      <td>0.0</td>\n",
       "      <td>0.0</td>\n",
       "      <td>0.06866</td>\n",
       "      <td>NaN</td>\n",
       "      <td>956</td>\n",
       "    </tr>\n",
       "    <tr>\n",
       "      <th>...</th>\n",
       "      <td>...</td>\n",
       "      <td>...</td>\n",
       "      <td>...</td>\n",
       "      <td>...</td>\n",
       "      <td>...</td>\n",
       "      <td>...</td>\n",
       "      <td>...</td>\n",
       "      <td>...</td>\n",
       "      <td>...</td>\n",
       "      <td>...</td>\n",
       "      <td>...</td>\n",
       "      <td>...</td>\n",
       "      <td>...</td>\n",
       "      <td>...</td>\n",
       "      <td>...</td>\n",
       "      <td>...</td>\n",
       "      <td>...</td>\n",
       "      <td>...</td>\n",
       "    </tr>\n",
       "    <tr>\n",
       "      <th>114549</th>\n",
       "      <td>249118</td>\n",
       "      <td>33</td>\n",
       "      <td>92</td>\n",
       "      <td>09-16</td>\n",
       "      <td>35013.170000</td>\n",
       "      <td>nao</td>\n",
       "      <td>eletrodomestico</td>\n",
       "      <td>39690.0</td>\n",
       "      <td>29.883333</td>\n",
       "      <td>3.596658</td>\n",
       "      <td>0.0</td>\n",
       "      <td>0.0</td>\n",
       "      <td>0.0</td>\n",
       "      <td>0.0</td>\n",
       "      <td>0.0</td>\n",
       "      <td>0.08442</td>\n",
       "      <td>NaN</td>\n",
       "      <td>685</td>\n",
       "    </tr>\n",
       "    <tr>\n",
       "      <th>114550</th>\n",
       "      <td>249134</td>\n",
       "      <td>33</td>\n",
       "      <td>5</td>\n",
       "      <td>09-16</td>\n",
       "      <td>110.000000</td>\n",
       "      <td>nao</td>\n",
       "      <td>eletrodomestico</td>\n",
       "      <td>39690.0</td>\n",
       "      <td>29.883333</td>\n",
       "      <td>3.596658</td>\n",
       "      <td>0.0</td>\n",
       "      <td>0.0</td>\n",
       "      <td>0.0</td>\n",
       "      <td>0.0</td>\n",
       "      <td>0.0</td>\n",
       "      <td>0.08442</td>\n",
       "      <td>NaN</td>\n",
       "      <td>685</td>\n",
       "    </tr>\n",
       "    <tr>\n",
       "      <th>114551</th>\n",
       "      <td>249248</td>\n",
       "      <td>33</td>\n",
       "      <td>81</td>\n",
       "      <td>09-16</td>\n",
       "      <td>887907.904893</td>\n",
       "      <td>nao</td>\n",
       "      <td>eletrodomestico</td>\n",
       "      <td>39690.0</td>\n",
       "      <td>29.883333</td>\n",
       "      <td>3.596658</td>\n",
       "      <td>0.0</td>\n",
       "      <td>0.0</td>\n",
       "      <td>0.0</td>\n",
       "      <td>0.0</td>\n",
       "      <td>0.0</td>\n",
       "      <td>0.08442</td>\n",
       "      <td>NaN</td>\n",
       "      <td>685</td>\n",
       "    </tr>\n",
       "    <tr>\n",
       "      <th>114552</th>\n",
       "      <td>249292</td>\n",
       "      <td>33</td>\n",
       "      <td>90</td>\n",
       "      <td>09-16</td>\n",
       "      <td>25796.820000</td>\n",
       "      <td>nao</td>\n",
       "      <td>eletrodomestico</td>\n",
       "      <td>39690.0</td>\n",
       "      <td>29.883333</td>\n",
       "      <td>3.596658</td>\n",
       "      <td>0.0</td>\n",
       "      <td>0.0</td>\n",
       "      <td>0.0</td>\n",
       "      <td>0.0</td>\n",
       "      <td>0.0</td>\n",
       "      <td>0.08442</td>\n",
       "      <td>NaN</td>\n",
       "      <td>685</td>\n",
       "    </tr>\n",
       "    <tr>\n",
       "      <th>114553</th>\n",
       "      <td>249446</td>\n",
       "      <td>33</td>\n",
       "      <td>8</td>\n",
       "      <td>09-16</td>\n",
       "      <td>3746.370000</td>\n",
       "      <td>nao</td>\n",
       "      <td>eletrodomestico</td>\n",
       "      <td>39690.0</td>\n",
       "      <td>29.883333</td>\n",
       "      <td>3.596658</td>\n",
       "      <td>0.0</td>\n",
       "      <td>0.0</td>\n",
       "      <td>0.0</td>\n",
       "      <td>0.0</td>\n",
       "      <td>0.0</td>\n",
       "      <td>0.08442</td>\n",
       "      <td>NaN</td>\n",
       "      <td>685</td>\n",
       "    </tr>\n",
       "  </tbody>\n",
       "</table>\n",
       "<p>44986 rows × 18 columns</p>\n",
       "</div>"
      ],
      "text/plain": [
       "            id  loja  setor   data  vendas_semanais feriado             tipo  \\\n",
       "356     158299    17     24  02-18      3652.300000     nao       eletronico   \n",
       "357     158421    17     20  02-18      3273.070000     nao       eletronico   \n",
       "358     158480    17     58  02-18      1200.000000     nao       eletronico   \n",
       "359     158538    17     18  02-18     10202.870000     nao       eletronico   \n",
       "360     158602    17     19  02-18      4271.550000     nao       eletronico   \n",
       "...        ...   ...    ...    ...              ...     ...              ...   \n",
       "114549  249118    33     92  09-16     35013.170000     nao  eletrodomestico   \n",
       "114550  249134    33      5  09-16       110.000000     nao  eletrodomestico   \n",
       "114551  249248    33     81  09-16    887907.904893     nao  eletrodomestico   \n",
       "114552  249292    33     90  09-16     25796.820000     nao  eletrodomestico   \n",
       "114553  249446    33      8  09-16      3746.370000     nao  eletrodomestico   \n",
       "\n",
       "        tamanho  temperatura  combustivel  desconto_1  desconto_2  desconto_3  \\\n",
       "356     93188.0    -2.855556     3.596658         0.0         0.0         0.0   \n",
       "357     93188.0    -2.855556     3.596658         0.0         0.0         0.0   \n",
       "358     93188.0    -2.855556     3.596658         0.0         0.0         0.0   \n",
       "359     93188.0    -2.855556     3.596658         0.0         0.0         0.0   \n",
       "360     93188.0    -2.855556     3.596658         0.0         0.0         0.0   \n",
       "...         ...          ...          ...         ...         ...         ...   \n",
       "114549  39690.0    29.883333     3.596658         0.0         0.0         0.0   \n",
       "114550  39690.0    29.883333     3.596658         0.0         0.0         0.0   \n",
       "114551  39690.0    29.883333     3.596658         0.0         0.0         0.0   \n",
       "114552  39690.0    29.883333     3.596658         0.0         0.0         0.0   \n",
       "114553  39690.0    29.883333     3.596658         0.0         0.0         0.0   \n",
       "\n",
       "        desconto_4  desconto_5  desemprego  distancia_competidores  clientes  \n",
       "356            0.0         0.0     0.06866                     NaN       956  \n",
       "357            0.0         0.0     0.06866                     NaN       956  \n",
       "358            0.0         0.0     0.06866                     NaN       956  \n",
       "359            0.0         0.0     0.06866                     NaN       956  \n",
       "360            0.0         0.0     0.06866                     NaN       956  \n",
       "...            ...         ...         ...                     ...       ...  \n",
       "114549         0.0         0.0     0.08442                     NaN       685  \n",
       "114550         0.0         0.0     0.08442                     NaN       685  \n",
       "114551         0.0         0.0     0.08442                     NaN       685  \n",
       "114552         0.0         0.0     0.08442                     NaN       685  \n",
       "114553         0.0         0.0     0.08442                     NaN       685  \n",
       "\n",
       "[44986 rows x 18 columns]"
      ]
     },
     "execution_count": 26,
     "metadata": {},
     "output_type": "execute_result"
    }
   ],
   "source": [
    "df2.iloc[comb_faltantes, :]"
   ]
  },
  {
   "cell_type": "markdown",
   "id": "441efff3",
   "metadata": {
    "heading_collapsed": true,
    "hidden": true
   },
   "source": [
    "#### 2.2.1.6. Preencher os registros com distancia faltantes usando um número grande"
   ]
  },
  {
   "cell_type": "code",
   "execution_count": 27,
   "id": "6eacf6f0",
   "metadata": {
    "ExecuteTime": {
     "end_time": "2023-12-17T13:58:07.916683Z",
     "start_time": "2023-12-17T13:58:07.861481Z"
    },
    "hidden": true
   },
   "outputs": [],
   "source": [
    "comp_faltantes = df2.loc[df2['distancia_competidores'].isna(), :].index"
   ]
  },
  {
   "cell_type": "code",
   "execution_count": 28,
   "id": "9a8e3a41",
   "metadata": {
    "ExecuteTime": {
     "end_time": "2023-12-17T13:58:08.103680Z",
     "start_time": "2023-12-17T13:58:07.923268Z"
    },
    "hidden": true
   },
   "outputs": [
    {
     "name": "stdout",
     "output_type": "stream",
     "text": [
      "CPU times: total: 31.2 ms\n",
      "Wall time: 156 ms\n"
     ]
    }
   ],
   "source": [
    "%%time\n",
    "df2['distancia_competidores'] = df2['distancia_competidores'].apply(lambda x: 300000 if math.isnan(x) else x)"
   ]
  },
  {
   "cell_type": "code",
   "execution_count": 29,
   "id": "3916b4be",
   "metadata": {
    "ExecuteTime": {
     "end_time": "2023-12-17T13:58:08.228463Z",
     "start_time": "2023-12-17T13:58:08.109229Z"
    },
    "hidden": true
   },
   "outputs": [
    {
     "data": {
      "text/html": [
       "<div>\n",
       "<style scoped>\n",
       "    .dataframe tbody tr th:only-of-type {\n",
       "        vertical-align: middle;\n",
       "    }\n",
       "\n",
       "    .dataframe tbody tr th {\n",
       "        vertical-align: top;\n",
       "    }\n",
       "\n",
       "    .dataframe thead th {\n",
       "        text-align: right;\n",
       "    }\n",
       "</style>\n",
       "<table border=\"1\" class=\"dataframe\">\n",
       "  <thead>\n",
       "    <tr style=\"text-align: right;\">\n",
       "      <th></th>\n",
       "      <th>id</th>\n",
       "      <th>loja</th>\n",
       "      <th>setor</th>\n",
       "      <th>data</th>\n",
       "      <th>vendas_semanais</th>\n",
       "      <th>feriado</th>\n",
       "      <th>tipo</th>\n",
       "      <th>tamanho</th>\n",
       "      <th>temperatura</th>\n",
       "      <th>combustivel</th>\n",
       "      <th>desconto_1</th>\n",
       "      <th>desconto_2</th>\n",
       "      <th>desconto_3</th>\n",
       "      <th>desconto_4</th>\n",
       "      <th>desconto_5</th>\n",
       "      <th>desemprego</th>\n",
       "      <th>distancia_competidores</th>\n",
       "      <th>clientes</th>\n",
       "    </tr>\n",
       "  </thead>\n",
       "  <tbody>\n",
       "    <tr>\n",
       "      <th>356</th>\n",
       "      <td>158299</td>\n",
       "      <td>17</td>\n",
       "      <td>24</td>\n",
       "      <td>02-18</td>\n",
       "      <td>3652.300000</td>\n",
       "      <td>nao</td>\n",
       "      <td>eletronico</td>\n",
       "      <td>93188.0</td>\n",
       "      <td>-2.855556</td>\n",
       "      <td>3.596658</td>\n",
       "      <td>0.0</td>\n",
       "      <td>0.0</td>\n",
       "      <td>0.0</td>\n",
       "      <td>0.0</td>\n",
       "      <td>0.0</td>\n",
       "      <td>0.06866</td>\n",
       "      <td>300000.0</td>\n",
       "      <td>956</td>\n",
       "    </tr>\n",
       "    <tr>\n",
       "      <th>357</th>\n",
       "      <td>158421</td>\n",
       "      <td>17</td>\n",
       "      <td>20</td>\n",
       "      <td>02-18</td>\n",
       "      <td>3273.070000</td>\n",
       "      <td>nao</td>\n",
       "      <td>eletronico</td>\n",
       "      <td>93188.0</td>\n",
       "      <td>-2.855556</td>\n",
       "      <td>3.596658</td>\n",
       "      <td>0.0</td>\n",
       "      <td>0.0</td>\n",
       "      <td>0.0</td>\n",
       "      <td>0.0</td>\n",
       "      <td>0.0</td>\n",
       "      <td>0.06866</td>\n",
       "      <td>300000.0</td>\n",
       "      <td>956</td>\n",
       "    </tr>\n",
       "    <tr>\n",
       "      <th>358</th>\n",
       "      <td>158480</td>\n",
       "      <td>17</td>\n",
       "      <td>58</td>\n",
       "      <td>02-18</td>\n",
       "      <td>1200.000000</td>\n",
       "      <td>nao</td>\n",
       "      <td>eletronico</td>\n",
       "      <td>93188.0</td>\n",
       "      <td>-2.855556</td>\n",
       "      <td>3.596658</td>\n",
       "      <td>0.0</td>\n",
       "      <td>0.0</td>\n",
       "      <td>0.0</td>\n",
       "      <td>0.0</td>\n",
       "      <td>0.0</td>\n",
       "      <td>0.06866</td>\n",
       "      <td>300000.0</td>\n",
       "      <td>956</td>\n",
       "    </tr>\n",
       "    <tr>\n",
       "      <th>359</th>\n",
       "      <td>158538</td>\n",
       "      <td>17</td>\n",
       "      <td>18</td>\n",
       "      <td>02-18</td>\n",
       "      <td>10202.870000</td>\n",
       "      <td>nao</td>\n",
       "      <td>eletronico</td>\n",
       "      <td>93188.0</td>\n",
       "      <td>-2.855556</td>\n",
       "      <td>3.596658</td>\n",
       "      <td>0.0</td>\n",
       "      <td>0.0</td>\n",
       "      <td>0.0</td>\n",
       "      <td>0.0</td>\n",
       "      <td>0.0</td>\n",
       "      <td>0.06866</td>\n",
       "      <td>300000.0</td>\n",
       "      <td>956</td>\n",
       "    </tr>\n",
       "    <tr>\n",
       "      <th>360</th>\n",
       "      <td>158602</td>\n",
       "      <td>17</td>\n",
       "      <td>19</td>\n",
       "      <td>02-18</td>\n",
       "      <td>4271.550000</td>\n",
       "      <td>nao</td>\n",
       "      <td>eletronico</td>\n",
       "      <td>93188.0</td>\n",
       "      <td>-2.855556</td>\n",
       "      <td>3.596658</td>\n",
       "      <td>0.0</td>\n",
       "      <td>0.0</td>\n",
       "      <td>0.0</td>\n",
       "      <td>0.0</td>\n",
       "      <td>0.0</td>\n",
       "      <td>0.06866</td>\n",
       "      <td>300000.0</td>\n",
       "      <td>956</td>\n",
       "    </tr>\n",
       "    <tr>\n",
       "      <th>...</th>\n",
       "      <td>...</td>\n",
       "      <td>...</td>\n",
       "      <td>...</td>\n",
       "      <td>...</td>\n",
       "      <td>...</td>\n",
       "      <td>...</td>\n",
       "      <td>...</td>\n",
       "      <td>...</td>\n",
       "      <td>...</td>\n",
       "      <td>...</td>\n",
       "      <td>...</td>\n",
       "      <td>...</td>\n",
       "      <td>...</td>\n",
       "      <td>...</td>\n",
       "      <td>...</td>\n",
       "      <td>...</td>\n",
       "      <td>...</td>\n",
       "      <td>...</td>\n",
       "    </tr>\n",
       "    <tr>\n",
       "      <th>114549</th>\n",
       "      <td>249118</td>\n",
       "      <td>33</td>\n",
       "      <td>92</td>\n",
       "      <td>09-16</td>\n",
       "      <td>35013.170000</td>\n",
       "      <td>nao</td>\n",
       "      <td>eletrodomestico</td>\n",
       "      <td>39690.0</td>\n",
       "      <td>29.883333</td>\n",
       "      <td>3.596658</td>\n",
       "      <td>0.0</td>\n",
       "      <td>0.0</td>\n",
       "      <td>0.0</td>\n",
       "      <td>0.0</td>\n",
       "      <td>0.0</td>\n",
       "      <td>0.08442</td>\n",
       "      <td>300000.0</td>\n",
       "      <td>685</td>\n",
       "    </tr>\n",
       "    <tr>\n",
       "      <th>114550</th>\n",
       "      <td>249134</td>\n",
       "      <td>33</td>\n",
       "      <td>5</td>\n",
       "      <td>09-16</td>\n",
       "      <td>110.000000</td>\n",
       "      <td>nao</td>\n",
       "      <td>eletrodomestico</td>\n",
       "      <td>39690.0</td>\n",
       "      <td>29.883333</td>\n",
       "      <td>3.596658</td>\n",
       "      <td>0.0</td>\n",
       "      <td>0.0</td>\n",
       "      <td>0.0</td>\n",
       "      <td>0.0</td>\n",
       "      <td>0.0</td>\n",
       "      <td>0.08442</td>\n",
       "      <td>300000.0</td>\n",
       "      <td>685</td>\n",
       "    </tr>\n",
       "    <tr>\n",
       "      <th>114551</th>\n",
       "      <td>249248</td>\n",
       "      <td>33</td>\n",
       "      <td>81</td>\n",
       "      <td>09-16</td>\n",
       "      <td>887907.904893</td>\n",
       "      <td>nao</td>\n",
       "      <td>eletrodomestico</td>\n",
       "      <td>39690.0</td>\n",
       "      <td>29.883333</td>\n",
       "      <td>3.596658</td>\n",
       "      <td>0.0</td>\n",
       "      <td>0.0</td>\n",
       "      <td>0.0</td>\n",
       "      <td>0.0</td>\n",
       "      <td>0.0</td>\n",
       "      <td>0.08442</td>\n",
       "      <td>300000.0</td>\n",
       "      <td>685</td>\n",
       "    </tr>\n",
       "    <tr>\n",
       "      <th>114552</th>\n",
       "      <td>249292</td>\n",
       "      <td>33</td>\n",
       "      <td>90</td>\n",
       "      <td>09-16</td>\n",
       "      <td>25796.820000</td>\n",
       "      <td>nao</td>\n",
       "      <td>eletrodomestico</td>\n",
       "      <td>39690.0</td>\n",
       "      <td>29.883333</td>\n",
       "      <td>3.596658</td>\n",
       "      <td>0.0</td>\n",
       "      <td>0.0</td>\n",
       "      <td>0.0</td>\n",
       "      <td>0.0</td>\n",
       "      <td>0.0</td>\n",
       "      <td>0.08442</td>\n",
       "      <td>300000.0</td>\n",
       "      <td>685</td>\n",
       "    </tr>\n",
       "    <tr>\n",
       "      <th>114553</th>\n",
       "      <td>249446</td>\n",
       "      <td>33</td>\n",
       "      <td>8</td>\n",
       "      <td>09-16</td>\n",
       "      <td>3746.370000</td>\n",
       "      <td>nao</td>\n",
       "      <td>eletrodomestico</td>\n",
       "      <td>39690.0</td>\n",
       "      <td>29.883333</td>\n",
       "      <td>3.596658</td>\n",
       "      <td>0.0</td>\n",
       "      <td>0.0</td>\n",
       "      <td>0.0</td>\n",
       "      <td>0.0</td>\n",
       "      <td>0.0</td>\n",
       "      <td>0.08442</td>\n",
       "      <td>300000.0</td>\n",
       "      <td>685</td>\n",
       "    </tr>\n",
       "  </tbody>\n",
       "</table>\n",
       "<p>44986 rows × 18 columns</p>\n",
       "</div>"
      ],
      "text/plain": [
       "            id  loja  setor   data  vendas_semanais feriado             tipo  \\\n",
       "356     158299    17     24  02-18      3652.300000     nao       eletronico   \n",
       "357     158421    17     20  02-18      3273.070000     nao       eletronico   \n",
       "358     158480    17     58  02-18      1200.000000     nao       eletronico   \n",
       "359     158538    17     18  02-18     10202.870000     nao       eletronico   \n",
       "360     158602    17     19  02-18      4271.550000     nao       eletronico   \n",
       "...        ...   ...    ...    ...              ...     ...              ...   \n",
       "114549  249118    33     92  09-16     35013.170000     nao  eletrodomestico   \n",
       "114550  249134    33      5  09-16       110.000000     nao  eletrodomestico   \n",
       "114551  249248    33     81  09-16    887907.904893     nao  eletrodomestico   \n",
       "114552  249292    33     90  09-16     25796.820000     nao  eletrodomestico   \n",
       "114553  249446    33      8  09-16      3746.370000     nao  eletrodomestico   \n",
       "\n",
       "        tamanho  temperatura  combustivel  desconto_1  desconto_2  desconto_3  \\\n",
       "356     93188.0    -2.855556     3.596658         0.0         0.0         0.0   \n",
       "357     93188.0    -2.855556     3.596658         0.0         0.0         0.0   \n",
       "358     93188.0    -2.855556     3.596658         0.0         0.0         0.0   \n",
       "359     93188.0    -2.855556     3.596658         0.0         0.0         0.0   \n",
       "360     93188.0    -2.855556     3.596658         0.0         0.0         0.0   \n",
       "...         ...          ...          ...         ...         ...         ...   \n",
       "114549  39690.0    29.883333     3.596658         0.0         0.0         0.0   \n",
       "114550  39690.0    29.883333     3.596658         0.0         0.0         0.0   \n",
       "114551  39690.0    29.883333     3.596658         0.0         0.0         0.0   \n",
       "114552  39690.0    29.883333     3.596658         0.0         0.0         0.0   \n",
       "114553  39690.0    29.883333     3.596658         0.0         0.0         0.0   \n",
       "\n",
       "        desconto_4  desconto_5  desemprego  distancia_competidores  clientes  \n",
       "356            0.0         0.0     0.06866                300000.0       956  \n",
       "357            0.0         0.0     0.06866                300000.0       956  \n",
       "358            0.0         0.0     0.06866                300000.0       956  \n",
       "359            0.0         0.0     0.06866                300000.0       956  \n",
       "360            0.0         0.0     0.06866                300000.0       956  \n",
       "...            ...         ...         ...                     ...       ...  \n",
       "114549         0.0         0.0     0.08442                300000.0       685  \n",
       "114550         0.0         0.0     0.08442                300000.0       685  \n",
       "114551         0.0         0.0     0.08442                300000.0       685  \n",
       "114552         0.0         0.0     0.08442                300000.0       685  \n",
       "114553         0.0         0.0     0.08442                300000.0       685  \n",
       "\n",
       "[44986 rows x 18 columns]"
      ]
     },
     "execution_count": 29,
     "metadata": {},
     "output_type": "execute_result"
    }
   ],
   "source": [
    "df2.iloc[comb_faltantes, :]"
   ]
  },
  {
   "cell_type": "markdown",
   "id": "c3ea590b",
   "metadata": {
    "heading_collapsed": true,
    "hidden": true
   },
   "source": [
    "#### 2.2.1.7. Apagar a coluna de temperatura"
   ]
  },
  {
   "cell_type": "code",
   "execution_count": 30,
   "id": "12cfaffa",
   "metadata": {
    "ExecuteTime": {
     "end_time": "2023-12-17T13:58:08.321324Z",
     "start_time": "2023-12-17T13:58:08.238934Z"
    },
    "hidden": true
   },
   "outputs": [
    {
     "data": {
      "text/html": [
       "<div>\n",
       "<style scoped>\n",
       "    .dataframe tbody tr th:only-of-type {\n",
       "        vertical-align: middle;\n",
       "    }\n",
       "\n",
       "    .dataframe tbody tr th {\n",
       "        vertical-align: top;\n",
       "    }\n",
       "\n",
       "    .dataframe thead th {\n",
       "        text-align: right;\n",
       "    }\n",
       "</style>\n",
       "<table border=\"1\" class=\"dataframe\">\n",
       "  <thead>\n",
       "    <tr style=\"text-align: right;\">\n",
       "      <th></th>\n",
       "      <th>id</th>\n",
       "      <th>loja</th>\n",
       "      <th>setor</th>\n",
       "      <th>data</th>\n",
       "      <th>vendas_semanais</th>\n",
       "      <th>feriado</th>\n",
       "      <th>tipo</th>\n",
       "      <th>tamanho</th>\n",
       "      <th>temperatura</th>\n",
       "      <th>combustivel</th>\n",
       "      <th>desconto_1</th>\n",
       "      <th>desconto_2</th>\n",
       "      <th>desconto_3</th>\n",
       "      <th>desconto_4</th>\n",
       "      <th>desconto_5</th>\n",
       "      <th>desemprego</th>\n",
       "      <th>distancia_competidores</th>\n",
       "      <th>clientes</th>\n",
       "    </tr>\n",
       "  </thead>\n",
       "  <tbody>\n",
       "    <tr>\n",
       "      <th>0</th>\n",
       "      <td>140679</td>\n",
       "      <td>17</td>\n",
       "      <td>93</td>\n",
       "      <td>01-07</td>\n",
       "      <td>6283.00</td>\n",
       "      <td>nao</td>\n",
       "      <td>eletronico</td>\n",
       "      <td>93188.0</td>\n",
       "      <td>-14.316667</td>\n",
       "      <td>2.891</td>\n",
       "      <td>0.0</td>\n",
       "      <td>0.0</td>\n",
       "      <td>0.0</td>\n",
       "      <td>0.0</td>\n",
       "      <td>0.0</td>\n",
       "      <td>0.06866</td>\n",
       "      <td>300000.0</td>\n",
       "      <td>541</td>\n",
       "    </tr>\n",
       "    <tr>\n",
       "      <th>1</th>\n",
       "      <td>140696</td>\n",
       "      <td>17</td>\n",
       "      <td>16</td>\n",
       "      <td>01-07</td>\n",
       "      <td>1641.25</td>\n",
       "      <td>nao</td>\n",
       "      <td>eletronico</td>\n",
       "      <td>93188.0</td>\n",
       "      <td>-14.316667</td>\n",
       "      <td>2.891</td>\n",
       "      <td>0.0</td>\n",
       "      <td>0.0</td>\n",
       "      <td>0.0</td>\n",
       "      <td>0.0</td>\n",
       "      <td>0.0</td>\n",
       "      <td>0.06866</td>\n",
       "      <td>300000.0</td>\n",
       "      <td>541</td>\n",
       "    </tr>\n",
       "    <tr>\n",
       "      <th>2</th>\n",
       "      <td>140701</td>\n",
       "      <td>17</td>\n",
       "      <td>4</td>\n",
       "      <td>01-07</td>\n",
       "      <td>39775.45</td>\n",
       "      <td>nao</td>\n",
       "      <td>eletronico</td>\n",
       "      <td>93188.0</td>\n",
       "      <td>-14.316667</td>\n",
       "      <td>2.891</td>\n",
       "      <td>0.0</td>\n",
       "      <td>0.0</td>\n",
       "      <td>0.0</td>\n",
       "      <td>0.0</td>\n",
       "      <td>0.0</td>\n",
       "      <td>0.06866</td>\n",
       "      <td>300000.0</td>\n",
       "      <td>541</td>\n",
       "    </tr>\n",
       "    <tr>\n",
       "      <th>3</th>\n",
       "      <td>140733</td>\n",
       "      <td>17</td>\n",
       "      <td>14</td>\n",
       "      <td>01-07</td>\n",
       "      <td>29555.43</td>\n",
       "      <td>nao</td>\n",
       "      <td>eletronico</td>\n",
       "      <td>93188.0</td>\n",
       "      <td>-14.316667</td>\n",
       "      <td>2.891</td>\n",
       "      <td>0.0</td>\n",
       "      <td>0.0</td>\n",
       "      <td>0.0</td>\n",
       "      <td>0.0</td>\n",
       "      <td>0.0</td>\n",
       "      <td>0.06866</td>\n",
       "      <td>300000.0</td>\n",
       "      <td>541</td>\n",
       "    </tr>\n",
       "    <tr>\n",
       "      <th>4</th>\n",
       "      <td>140742</td>\n",
       "      <td>17</td>\n",
       "      <td>48</td>\n",
       "      <td>01-07</td>\n",
       "      <td>414.00</td>\n",
       "      <td>nao</td>\n",
       "      <td>eletronico</td>\n",
       "      <td>93188.0</td>\n",
       "      <td>-14.316667</td>\n",
       "      <td>2.891</td>\n",
       "      <td>0.0</td>\n",
       "      <td>0.0</td>\n",
       "      <td>0.0</td>\n",
       "      <td>0.0</td>\n",
       "      <td>0.0</td>\n",
       "      <td>0.06866</td>\n",
       "      <td>300000.0</td>\n",
       "      <td>541</td>\n",
       "    </tr>\n",
       "  </tbody>\n",
       "</table>\n",
       "</div>"
      ],
      "text/plain": [
       "       id  loja  setor   data  vendas_semanais feriado        tipo  tamanho  \\\n",
       "0  140679    17     93  01-07          6283.00     nao  eletronico  93188.0   \n",
       "1  140696    17     16  01-07          1641.25     nao  eletronico  93188.0   \n",
       "2  140701    17      4  01-07         39775.45     nao  eletronico  93188.0   \n",
       "3  140733    17     14  01-07         29555.43     nao  eletronico  93188.0   \n",
       "4  140742    17     48  01-07           414.00     nao  eletronico  93188.0   \n",
       "\n",
       "   temperatura  combustivel  desconto_1  desconto_2  desconto_3  desconto_4  \\\n",
       "0   -14.316667        2.891         0.0         0.0         0.0         0.0   \n",
       "1   -14.316667        2.891         0.0         0.0         0.0         0.0   \n",
       "2   -14.316667        2.891         0.0         0.0         0.0         0.0   \n",
       "3   -14.316667        2.891         0.0         0.0         0.0         0.0   \n",
       "4   -14.316667        2.891         0.0         0.0         0.0         0.0   \n",
       "\n",
       "   desconto_5  desemprego  distancia_competidores  clientes  \n",
       "0         0.0     0.06866                300000.0       541  \n",
       "1         0.0     0.06866                300000.0       541  \n",
       "2         0.0     0.06866                300000.0       541  \n",
       "3         0.0     0.06866                300000.0       541  \n",
       "4         0.0     0.06866                300000.0       541  "
      ]
     },
     "execution_count": 30,
     "metadata": {},
     "output_type": "execute_result"
    }
   ],
   "source": [
    "df2.head()"
   ]
  },
  {
   "cell_type": "code",
   "execution_count": 31,
   "id": "58b11453",
   "metadata": {
    "ExecuteTime": {
     "end_time": "2023-12-17T13:58:08.383588Z",
     "start_time": "2023-12-17T13:58:08.330906Z"
    },
    "hidden": true
   },
   "outputs": [],
   "source": [
    "df2.drop('temperatura', axis=1, inplace=True)"
   ]
  },
  {
   "cell_type": "markdown",
   "id": "d888c141",
   "metadata": {
    "heading_collapsed": true
   },
   "source": [
    "### 2.2.2. Transformação de tipos"
   ]
  },
  {
   "cell_type": "code",
   "execution_count": 32,
   "id": "6efc3545",
   "metadata": {
    "ExecuteTime": {
     "end_time": "2023-12-17T13:58:08.414413Z",
     "start_time": "2023-12-17T13:58:08.392218Z"
    },
    "hidden": true
   },
   "outputs": [
    {
     "data": {
      "text/plain": [
       "id                          int64\n",
       "loja                        int64\n",
       "setor                       int64\n",
       "data                       object\n",
       "vendas_semanais           float64\n",
       "feriado                    object\n",
       "tipo                       object\n",
       "tamanho                   float64\n",
       "combustivel               float64\n",
       "desconto_1                float64\n",
       "desconto_2                float64\n",
       "desconto_3                float64\n",
       "desconto_4                float64\n",
       "desconto_5                float64\n",
       "desemprego                float64\n",
       "distancia_competidores    float64\n",
       "clientes                    int64\n",
       "dtype: object"
      ]
     },
     "execution_count": 32,
     "metadata": {},
     "output_type": "execute_result"
    }
   ],
   "source": [
    "df2.dtypes"
   ]
  },
  {
   "cell_type": "markdown",
   "id": "8ed1dd4d",
   "metadata": {
    "heading_collapsed": true,
    "hidden": true
   },
   "source": [
    "#### 2.2.2.1 Transformar data nas colunas dia e mes"
   ]
  },
  {
   "cell_type": "code",
   "execution_count": 33,
   "id": "49ebdca5",
   "metadata": {
    "ExecuteTime": {
     "end_time": "2023-12-17T13:58:08.570613Z",
     "start_time": "2023-12-17T13:58:08.427054Z"
    },
    "hidden": true
   },
   "outputs": [],
   "source": [
    "df2['data'] = pd.to_datetime(df2['data'] + '-2023', format='%m-%d-%Y')"
   ]
  },
  {
   "cell_type": "code",
   "execution_count": 34,
   "id": "c6c9c7a4",
   "metadata": {
    "ExecuteTime": {
     "end_time": "2023-12-17T13:58:10.810557Z",
     "start_time": "2023-12-17T13:58:08.575602Z"
    },
    "hidden": true
   },
   "outputs": [],
   "source": [
    "df2[\"week_of_year\"] = df2[\"data\"].dt.strftime(\"%U\")"
   ]
  },
  {
   "cell_type": "markdown",
   "id": "998b4389",
   "metadata": {
    "heading_collapsed": true,
    "hidden": true
   },
   "source": [
    "#### 2.2.2.2. Transformar feriado em 0 e 1"
   ]
  },
  {
   "cell_type": "code",
   "execution_count": 35,
   "id": "4e784de6",
   "metadata": {
    "ExecuteTime": {
     "end_time": "2023-12-17T13:58:10.951247Z",
     "start_time": "2023-12-17T13:58:10.816559Z"
    },
    "hidden": true
   },
   "outputs": [],
   "source": [
    "df2['feriado'] = df2['feriado'].apply(lambda x: 1 if x == 'sim' else 0)"
   ]
  },
  {
   "cell_type": "code",
   "execution_count": 36,
   "id": "02ea6a9a",
   "metadata": {
    "ExecuteTime": {
     "end_time": "2023-12-17T13:58:10.981189Z",
     "start_time": "2023-12-17T13:58:10.958806Z"
    },
    "hidden": true
   },
   "outputs": [
    {
     "data": {
      "text/plain": [
       "array([0, 1], dtype=int64)"
      ]
     },
     "execution_count": 36,
     "metadata": {},
     "output_type": "execute_result"
    }
   ],
   "source": [
    "df2['feriado'].unique()"
   ]
  },
  {
   "cell_type": "markdown",
   "id": "313a089d",
   "metadata": {},
   "source": [
    "## 2.3. Criar"
   ]
  },
  {
   "cell_type": "markdown",
   "id": "85f68698",
   "metadata": {
    "heading_collapsed": true
   },
   "source": [
    "### 2.3.1. Classificar as lojas pelo tamanho"
   ]
  },
  {
   "cell_type": "code",
   "execution_count": 37,
   "id": "fce183ac",
   "metadata": {
    "ExecuteTime": {
     "end_time": "2023-12-17T13:58:11.058186Z",
     "start_time": "2023-12-17T13:58:10.988407Z"
    },
    "hidden": true
   },
   "outputs": [],
   "source": [
    "q1 = df2['tamanho'].quantile(0.25)\n",
    "q2 = df2['tamanho'].quantile(0.5)\n",
    "q3 = df2['tamanho'].quantile(0.75)"
   ]
  },
  {
   "cell_type": "code",
   "execution_count": 38,
   "id": "6d1b11d4",
   "metadata": {
    "ExecuteTime": {
     "end_time": "2023-12-17T13:58:11.196982Z",
     "start_time": "2023-12-17T13:58:11.071243Z"
    },
    "hidden": true
   },
   "outputs": [],
   "source": [
    "df2['tipo_de_loja'] = df2['tamanho'].apply(lambda x: 'A' if x < q1 else\n",
    "                                                     'B' if x < q3 else 'C')"
   ]
  },
  {
   "cell_type": "code",
   "execution_count": 39,
   "id": "c1224d0e",
   "metadata": {
    "ExecuteTime": {
     "end_time": "2023-12-17T13:58:11.290482Z",
     "start_time": "2023-12-17T13:58:11.202568Z"
    },
    "hidden": true
   },
   "outputs": [
    {
     "data": {
      "text/html": [
       "<div>\n",
       "<style scoped>\n",
       "    .dataframe tbody tr th:only-of-type {\n",
       "        vertical-align: middle;\n",
       "    }\n",
       "\n",
       "    .dataframe tbody tr th {\n",
       "        vertical-align: top;\n",
       "    }\n",
       "\n",
       "    .dataframe thead th {\n",
       "        text-align: right;\n",
       "    }\n",
       "</style>\n",
       "<table border=\"1\" class=\"dataframe\">\n",
       "  <thead>\n",
       "    <tr style=\"text-align: right;\">\n",
       "      <th></th>\n",
       "      <th>vendas_semanais</th>\n",
       "    </tr>\n",
       "    <tr>\n",
       "      <th>tipo_de_loja</th>\n",
       "      <th></th>\n",
       "    </tr>\n",
       "  </thead>\n",
       "  <tbody>\n",
       "    <tr>\n",
       "      <th>A</th>\n",
       "      <td>10141.975</td>\n",
       "    </tr>\n",
       "    <tr>\n",
       "      <th>B</th>\n",
       "      <td>7918.290</td>\n",
       "    </tr>\n",
       "    <tr>\n",
       "      <th>C</th>\n",
       "      <td>12331.350</td>\n",
       "    </tr>\n",
       "  </tbody>\n",
       "</table>\n",
       "</div>"
      ],
      "text/plain": [
       "              vendas_semanais\n",
       "tipo_de_loja                 \n",
       "A                   10141.975\n",
       "B                    7918.290\n",
       "C                   12331.350"
      ]
     },
     "execution_count": 39,
     "metadata": {},
     "output_type": "execute_result"
    }
   ],
   "source": [
    "df2.loc[:, ['tipo_de_loja', 'vendas_semanais']].groupby('tipo_de_loja').median()"
   ]
  },
  {
   "cell_type": "markdown",
   "id": "b64b5ab3",
   "metadata": {
    "heading_collapsed": true
   },
   "source": [
    "### 2.3.2. Somar os desconto semana"
   ]
  },
  {
   "cell_type": "code",
   "execution_count": 40,
   "id": "48b4ee09",
   "metadata": {
    "ExecuteTime": {
     "end_time": "2023-12-17T13:58:11.352035Z",
     "start_time": "2023-12-17T13:58:11.310554Z"
    },
    "hidden": true
   },
   "outputs": [],
   "source": [
    "df2['desconto'] = df2['desconto_1'] + df2['desconto_2'] + df2['desconto_3'] + df2['desconto_4'] + df2['desconto_5']"
   ]
  },
  {
   "cell_type": "code",
   "execution_count": 41,
   "id": "62bdd436",
   "metadata": {
    "ExecuteTime": {
     "end_time": "2023-12-17T13:58:11.430362Z",
     "start_time": "2023-12-17T13:58:11.357045Z"
    },
    "hidden": true
   },
   "outputs": [],
   "source": [
    "df2.drop(['desconto_1', 'desconto_2', 'desconto_3', 'desconto_4', 'desconto_5'], axis=1, inplace=True)"
   ]
  },
  {
   "cell_type": "code",
   "execution_count": 42,
   "id": "bf3d1421",
   "metadata": {
    "ExecuteTime": {
     "end_time": "2023-12-17T13:58:11.508216Z",
     "start_time": "2023-12-17T13:58:11.438372Z"
    },
    "hidden": true
   },
   "outputs": [
    {
     "data": {
      "text/html": [
       "<div>\n",
       "<style scoped>\n",
       "    .dataframe tbody tr th:only-of-type {\n",
       "        vertical-align: middle;\n",
       "    }\n",
       "\n",
       "    .dataframe tbody tr th {\n",
       "        vertical-align: top;\n",
       "    }\n",
       "\n",
       "    .dataframe thead th {\n",
       "        text-align: right;\n",
       "    }\n",
       "</style>\n",
       "<table border=\"1\" class=\"dataframe\">\n",
       "  <thead>\n",
       "    <tr style=\"text-align: right;\">\n",
       "      <th></th>\n",
       "      <th>id</th>\n",
       "      <th>loja</th>\n",
       "      <th>setor</th>\n",
       "      <th>data</th>\n",
       "      <th>vendas_semanais</th>\n",
       "      <th>feriado</th>\n",
       "      <th>tipo</th>\n",
       "      <th>tamanho</th>\n",
       "      <th>combustivel</th>\n",
       "      <th>desemprego</th>\n",
       "      <th>distancia_competidores</th>\n",
       "      <th>clientes</th>\n",
       "      <th>week_of_year</th>\n",
       "      <th>tipo_de_loja</th>\n",
       "      <th>desconto</th>\n",
       "    </tr>\n",
       "  </thead>\n",
       "  <tbody>\n",
       "    <tr>\n",
       "      <th>0</th>\n",
       "      <td>140679</td>\n",
       "      <td>17</td>\n",
       "      <td>93</td>\n",
       "      <td>2023-01-07</td>\n",
       "      <td>6283.00</td>\n",
       "      <td>0</td>\n",
       "      <td>eletronico</td>\n",
       "      <td>93188.0</td>\n",
       "      <td>2.891</td>\n",
       "      <td>0.06866</td>\n",
       "      <td>300000.0</td>\n",
       "      <td>541</td>\n",
       "      <td>01</td>\n",
       "      <td>B</td>\n",
       "      <td>0.0</td>\n",
       "    </tr>\n",
       "    <tr>\n",
       "      <th>1</th>\n",
       "      <td>140696</td>\n",
       "      <td>17</td>\n",
       "      <td>16</td>\n",
       "      <td>2023-01-07</td>\n",
       "      <td>1641.25</td>\n",
       "      <td>0</td>\n",
       "      <td>eletronico</td>\n",
       "      <td>93188.0</td>\n",
       "      <td>2.891</td>\n",
       "      <td>0.06866</td>\n",
       "      <td>300000.0</td>\n",
       "      <td>541</td>\n",
       "      <td>01</td>\n",
       "      <td>B</td>\n",
       "      <td>0.0</td>\n",
       "    </tr>\n",
       "    <tr>\n",
       "      <th>2</th>\n",
       "      <td>140701</td>\n",
       "      <td>17</td>\n",
       "      <td>4</td>\n",
       "      <td>2023-01-07</td>\n",
       "      <td>39775.45</td>\n",
       "      <td>0</td>\n",
       "      <td>eletronico</td>\n",
       "      <td>93188.0</td>\n",
       "      <td>2.891</td>\n",
       "      <td>0.06866</td>\n",
       "      <td>300000.0</td>\n",
       "      <td>541</td>\n",
       "      <td>01</td>\n",
       "      <td>B</td>\n",
       "      <td>0.0</td>\n",
       "    </tr>\n",
       "    <tr>\n",
       "      <th>3</th>\n",
       "      <td>140733</td>\n",
       "      <td>17</td>\n",
       "      <td>14</td>\n",
       "      <td>2023-01-07</td>\n",
       "      <td>29555.43</td>\n",
       "      <td>0</td>\n",
       "      <td>eletronico</td>\n",
       "      <td>93188.0</td>\n",
       "      <td>2.891</td>\n",
       "      <td>0.06866</td>\n",
       "      <td>300000.0</td>\n",
       "      <td>541</td>\n",
       "      <td>01</td>\n",
       "      <td>B</td>\n",
       "      <td>0.0</td>\n",
       "    </tr>\n",
       "    <tr>\n",
       "      <th>4</th>\n",
       "      <td>140742</td>\n",
       "      <td>17</td>\n",
       "      <td>48</td>\n",
       "      <td>2023-01-07</td>\n",
       "      <td>414.00</td>\n",
       "      <td>0</td>\n",
       "      <td>eletronico</td>\n",
       "      <td>93188.0</td>\n",
       "      <td>2.891</td>\n",
       "      <td>0.06866</td>\n",
       "      <td>300000.0</td>\n",
       "      <td>541</td>\n",
       "      <td>01</td>\n",
       "      <td>B</td>\n",
       "      <td>0.0</td>\n",
       "    </tr>\n",
       "  </tbody>\n",
       "</table>\n",
       "</div>"
      ],
      "text/plain": [
       "       id  loja  setor       data  vendas_semanais  feriado        tipo  \\\n",
       "0  140679    17     93 2023-01-07          6283.00        0  eletronico   \n",
       "1  140696    17     16 2023-01-07          1641.25        0  eletronico   \n",
       "2  140701    17      4 2023-01-07         39775.45        0  eletronico   \n",
       "3  140733    17     14 2023-01-07         29555.43        0  eletronico   \n",
       "4  140742    17     48 2023-01-07           414.00        0  eletronico   \n",
       "\n",
       "   tamanho  combustivel  desemprego  distancia_competidores  clientes  \\\n",
       "0  93188.0        2.891     0.06866                300000.0       541   \n",
       "1  93188.0        2.891     0.06866                300000.0       541   \n",
       "2  93188.0        2.891     0.06866                300000.0       541   \n",
       "3  93188.0        2.891     0.06866                300000.0       541   \n",
       "4  93188.0        2.891     0.06866                300000.0       541   \n",
       "\n",
       "  week_of_year tipo_de_loja  desconto  \n",
       "0           01            B       0.0  \n",
       "1           01            B       0.0  \n",
       "2           01            B       0.0  \n",
       "3           01            B       0.0  \n",
       "4           01            B       0.0  "
      ]
     },
     "execution_count": 42,
     "metadata": {},
     "output_type": "execute_result"
    }
   ],
   "source": [
    "df2.head()"
   ]
  },
  {
   "cell_type": "markdown",
   "id": "c1abfa76",
   "metadata": {
    "heading_collapsed": true
   },
   "source": [
    "### 2.3.4. Remover os dias com desconto"
   ]
  },
  {
   "cell_type": "code",
   "execution_count": 43,
   "id": "6e7da547",
   "metadata": {
    "ExecuteTime": {
     "end_time": "2023-12-17T13:58:11.615180Z",
     "start_time": "2023-12-17T13:58:11.513783Z"
    },
    "hidden": true
   },
   "outputs": [
    {
     "data": {
      "text/html": [
       "<div>\n",
       "<style scoped>\n",
       "    .dataframe tbody tr th:only-of-type {\n",
       "        vertical-align: middle;\n",
       "    }\n",
       "\n",
       "    .dataframe tbody tr th {\n",
       "        vertical-align: top;\n",
       "    }\n",
       "\n",
       "    .dataframe thead th {\n",
       "        text-align: right;\n",
       "    }\n",
       "</style>\n",
       "<table border=\"1\" class=\"dataframe\">\n",
       "  <thead>\n",
       "    <tr style=\"text-align: right;\">\n",
       "      <th></th>\n",
       "      <th>id</th>\n",
       "      <th>loja</th>\n",
       "      <th>setor</th>\n",
       "      <th>data</th>\n",
       "      <th>vendas_semanais</th>\n",
       "      <th>feriado</th>\n",
       "      <th>tipo</th>\n",
       "      <th>tamanho</th>\n",
       "      <th>combustivel</th>\n",
       "      <th>desemprego</th>\n",
       "      <th>distancia_competidores</th>\n",
       "      <th>clientes</th>\n",
       "      <th>week_of_year</th>\n",
       "      <th>tipo_de_loja</th>\n",
       "      <th>desconto</th>\n",
       "    </tr>\n",
       "  </thead>\n",
       "  <tbody>\n",
       "    <tr>\n",
       "      <th>109793</th>\n",
       "      <td>270035</td>\n",
       "      <td>33</td>\n",
       "      <td>2</td>\n",
       "      <td>2023-11-04</td>\n",
       "      <td>7008.400000</td>\n",
       "      <td>0</td>\n",
       "      <td>eletrodomestico</td>\n",
       "      <td>39690.0</td>\n",
       "      <td>3.828</td>\n",
       "      <td>0.0801</td>\n",
       "      <td>300000.0</td>\n",
       "      <td>259</td>\n",
       "      <td>44</td>\n",
       "      <td>B</td>\n",
       "      <td>0.0</td>\n",
       "    </tr>\n",
       "    <tr>\n",
       "      <th>109794</th>\n",
       "      <td>270074</td>\n",
       "      <td>33</td>\n",
       "      <td>7</td>\n",
       "      <td>2023-11-04</td>\n",
       "      <td>231.710000</td>\n",
       "      <td>0</td>\n",
       "      <td>eletrodomestico</td>\n",
       "      <td>39690.0</td>\n",
       "      <td>3.828</td>\n",
       "      <td>0.0801</td>\n",
       "      <td>300000.0</td>\n",
       "      <td>259</td>\n",
       "      <td>44</td>\n",
       "      <td>B</td>\n",
       "      <td>0.0</td>\n",
       "    </tr>\n",
       "    <tr>\n",
       "      <th>109795</th>\n",
       "      <td>270078</td>\n",
       "      <td>33</td>\n",
       "      <td>87</td>\n",
       "      <td>2023-11-04</td>\n",
       "      <td>399.360000</td>\n",
       "      <td>0</td>\n",
       "      <td>eletrodomestico</td>\n",
       "      <td>39690.0</td>\n",
       "      <td>3.828</td>\n",
       "      <td>0.0801</td>\n",
       "      <td>300000.0</td>\n",
       "      <td>259</td>\n",
       "      <td>44</td>\n",
       "      <td>B</td>\n",
       "      <td>0.0</td>\n",
       "    </tr>\n",
       "    <tr>\n",
       "      <th>109796</th>\n",
       "      <td>270095</td>\n",
       "      <td>33</td>\n",
       "      <td>5</td>\n",
       "      <td>2023-11-04</td>\n",
       "      <td>890215.052507</td>\n",
       "      <td>0</td>\n",
       "      <td>eletrodomestico</td>\n",
       "      <td>39690.0</td>\n",
       "      <td>3.828</td>\n",
       "      <td>0.0801</td>\n",
       "      <td>300000.0</td>\n",
       "      <td>259</td>\n",
       "      <td>44</td>\n",
       "      <td>B</td>\n",
       "      <td>0.0</td>\n",
       "    </tr>\n",
       "    <tr>\n",
       "      <th>109797</th>\n",
       "      <td>270115</td>\n",
       "      <td>33</td>\n",
       "      <td>1</td>\n",
       "      <td>2023-11-04</td>\n",
       "      <td>6531.230000</td>\n",
       "      <td>0</td>\n",
       "      <td>eletrodomestico</td>\n",
       "      <td>39690.0</td>\n",
       "      <td>3.828</td>\n",
       "      <td>0.0801</td>\n",
       "      <td>300000.0</td>\n",
       "      <td>259</td>\n",
       "      <td>44</td>\n",
       "      <td>B</td>\n",
       "      <td>0.0</td>\n",
       "    </tr>\n",
       "  </tbody>\n",
       "</table>\n",
       "</div>"
      ],
      "text/plain": [
       "            id  loja  setor       data  vendas_semanais  feriado  \\\n",
       "109793  270035    33      2 2023-11-04      7008.400000        0   \n",
       "109794  270074    33      7 2023-11-04       231.710000        0   \n",
       "109795  270078    33     87 2023-11-04       399.360000        0   \n",
       "109796  270095    33      5 2023-11-04    890215.052507        0   \n",
       "109797  270115    33      1 2023-11-04      6531.230000        0   \n",
       "\n",
       "                   tipo  tamanho  combustivel  desemprego  \\\n",
       "109793  eletrodomestico  39690.0        3.828      0.0801   \n",
       "109794  eletrodomestico  39690.0        3.828      0.0801   \n",
       "109795  eletrodomestico  39690.0        3.828      0.0801   \n",
       "109796  eletrodomestico  39690.0        3.828      0.0801   \n",
       "109797  eletrodomestico  39690.0        3.828      0.0801   \n",
       "\n",
       "        distancia_competidores  clientes week_of_year tipo_de_loja  desconto  \n",
       "109793                300000.0       259           44            B       0.0  \n",
       "109794                300000.0       259           44            B       0.0  \n",
       "109795                300000.0       259           44            B       0.0  \n",
       "109796                300000.0       259           44            B       0.0  \n",
       "109797                300000.0       259           44            B       0.0  "
      ]
     },
     "execution_count": 43,
     "metadata": {},
     "output_type": "execute_result"
    }
   ],
   "source": [
    "reg_faltantes = df2.loc[df2['desconto'] > 0, :].index\n",
    "df2.drop(reg_faltantes, axis=0, inplace=True)\n",
    "\n",
    "df2.reset_index(inplace=True,drop=True)\n",
    "df2.tail()"
   ]
  },
  {
   "cell_type": "markdown",
   "id": "c69b8e3f",
   "metadata": {
    "heading_collapsed": true
   },
   "source": [
    "### 2.4.3. Separar vendas por loja"
   ]
  },
  {
   "cell_type": "code",
   "execution_count": 44,
   "id": "322b6bee",
   "metadata": {
    "ExecuteTime": {
     "end_time": "2023-12-17T13:58:11.676207Z",
     "start_time": "2023-12-17T13:58:11.621715Z"
    },
    "hidden": true
   },
   "outputs": [],
   "source": [
    "setor_por_dia = df2.groupby(['data', 'setor'])['vendas_semanais'].mean().reset_index()"
   ]
  },
  {
   "cell_type": "code",
   "execution_count": 45,
   "id": "8a3ef65d",
   "metadata": {
    "ExecuteTime": {
     "end_time": "2023-12-17T13:58:11.738414Z",
     "start_time": "2023-12-17T13:58:11.683349Z"
    },
    "hidden": true
   },
   "outputs": [
    {
     "data": {
      "text/html": [
       "<div>\n",
       "<style scoped>\n",
       "    .dataframe tbody tr th:only-of-type {\n",
       "        vertical-align: middle;\n",
       "    }\n",
       "\n",
       "    .dataframe tbody tr th {\n",
       "        vertical-align: top;\n",
       "    }\n",
       "\n",
       "    .dataframe thead th {\n",
       "        text-align: right;\n",
       "    }\n",
       "</style>\n",
       "<table border=\"1\" class=\"dataframe\">\n",
       "  <thead>\n",
       "    <tr style=\"text-align: right;\">\n",
       "      <th></th>\n",
       "      <th>data</th>\n",
       "      <th>setor</th>\n",
       "      <th>vendas_semanais</th>\n",
       "    </tr>\n",
       "  </thead>\n",
       "  <tbody>\n",
       "    <tr>\n",
       "      <th>0</th>\n",
       "      <td>2023-01-07</td>\n",
       "      <td>1</td>\n",
       "      <td>113848.322764</td>\n",
       "    </tr>\n",
       "    <tr>\n",
       "      <th>1</th>\n",
       "      <td>2023-01-07</td>\n",
       "      <td>2</td>\n",
       "      <td>117859.230165</td>\n",
       "    </tr>\n",
       "    <tr>\n",
       "      <th>2</th>\n",
       "      <td>2023-01-07</td>\n",
       "      <td>3</td>\n",
       "      <td>98052.430083</td>\n",
       "    </tr>\n",
       "    <tr>\n",
       "      <th>3</th>\n",
       "      <td>2023-01-07</td>\n",
       "      <td>4</td>\n",
       "      <td>108155.796432</td>\n",
       "    </tr>\n",
       "    <tr>\n",
       "      <th>4</th>\n",
       "      <td>2023-01-07</td>\n",
       "      <td>5</td>\n",
       "      <td>19486.681500</td>\n",
       "    </tr>\n",
       "    <tr>\n",
       "      <th>...</th>\n",
       "      <td>...</td>\n",
       "      <td>...</td>\n",
       "      <td>...</td>\n",
       "    </tr>\n",
       "    <tr>\n",
       "      <th>3282</th>\n",
       "      <td>2023-11-04</td>\n",
       "      <td>94</td>\n",
       "      <td>67569.841535</td>\n",
       "    </tr>\n",
       "    <tr>\n",
       "      <th>3283</th>\n",
       "      <td>2023-11-04</td>\n",
       "      <td>95</td>\n",
       "      <td>104736.469893</td>\n",
       "    </tr>\n",
       "    <tr>\n",
       "      <th>3284</th>\n",
       "      <td>2023-11-04</td>\n",
       "      <td>96</td>\n",
       "      <td>185102.759271</td>\n",
       "    </tr>\n",
       "    <tr>\n",
       "      <th>3285</th>\n",
       "      <td>2023-11-04</td>\n",
       "      <td>97</td>\n",
       "      <td>76370.629064</td>\n",
       "    </tr>\n",
       "    <tr>\n",
       "      <th>3286</th>\n",
       "      <td>2023-11-04</td>\n",
       "      <td>98</td>\n",
       "      <td>8088.505758</td>\n",
       "    </tr>\n",
       "  </tbody>\n",
       "</table>\n",
       "<p>3287 rows × 3 columns</p>\n",
       "</div>"
      ],
      "text/plain": [
       "           data  setor  vendas_semanais\n",
       "0    2023-01-07      1    113848.322764\n",
       "1    2023-01-07      2    117859.230165\n",
       "2    2023-01-07      3     98052.430083\n",
       "3    2023-01-07      4    108155.796432\n",
       "4    2023-01-07      5     19486.681500\n",
       "...         ...    ...              ...\n",
       "3282 2023-11-04     94     67569.841535\n",
       "3283 2023-11-04     95    104736.469893\n",
       "3284 2023-11-04     96    185102.759271\n",
       "3285 2023-11-04     97     76370.629064\n",
       "3286 2023-11-04     98      8088.505758\n",
       "\n",
       "[3287 rows x 3 columns]"
      ]
     },
     "execution_count": 45,
     "metadata": {},
     "output_type": "execute_result"
    }
   ],
   "source": [
    "setor_por_dia"
   ]
  },
  {
   "cell_type": "code",
   "execution_count": 46,
   "id": "e9333ede",
   "metadata": {
    "ExecuteTime": {
     "end_time": "2023-12-17T13:58:12.238667Z",
     "start_time": "2023-12-17T13:58:11.743668Z"
    },
    "hidden": true
   },
   "outputs": [
    {
     "data": {
      "image/png": "[encoded data removed]",
      "text/plain": [
       "<Figure size 1440x432 with 1 Axes>"
      ]
     },
     "metadata": {
      "needs_background": "light"
     },
     "output_type": "display_data"
    }
   ],
   "source": [
    "# Criando o boxplot com seaborn e ajustando o tamanho da figura\n",
    "plt.figure(figsize=(20, 6))  # Defina o tamanho desejado, por exemplo, (largura, altura)\n",
    "sns.boxplot(x=setor_por_dia['vendas_semanais'])\n",
    "plt.show()"
   ]
  },
  {
   "cell_type": "code",
   "execution_count": 47,
   "id": "20a87063",
   "metadata": {
    "ExecuteTime": {
     "end_time": "2023-12-17T13:58:28.169097Z",
     "start_time": "2023-12-17T13:58:12.242615Z"
    },
    "hidden": true
   },
   "outputs": [
    {
     "name": "stdout",
     "output_type": "stream",
     "text": [
      "<class 'pandas.core.frame.DataFrame'>\n",
      "RangeIndex: 87120 entries, 0 to 87119\n",
      "Data columns (total 14 columns):\n",
      " #   Column                  Non-Null Count  Dtype         \n",
      "---  ------                  --------------  -----         \n",
      " 0   loja                    87120 non-null  int64         \n",
      " 1   data_x                  87120 non-null  datetime64[ns]\n",
      " 2   feriado                 87120 non-null  int64         \n",
      " 3   tipo                    87120 non-null  object        \n",
      " 4   tamanho                 87120 non-null  float64       \n",
      " 5   combustivel             87120 non-null  float64       \n",
      " 6   desemprego              87120 non-null  float64       \n",
      " 7   distancia_competidores  87120 non-null  float64       \n",
      " 8   clientes                87120 non-null  int64         \n",
      " 9   week_of_year            87120 non-null  object        \n",
      " 10  tipo_de_loja            87120 non-null  object        \n",
      " 11  desconto                87120 non-null  float64       \n",
      " 12  data_y                  87120 non-null  datetime64[ns]\n",
      " 13  total_vendas_loja       87120 non-null  float64       \n",
      "dtypes: datetime64[ns](2), float64(6), int64(3), object(3)\n",
      "memory usage: 9.3+ MB\n"
     ]
    }
   ],
   "source": [
    "aux = df2.copy()\n",
    "\n",
    "#vendas_por_loja = aux.groupby(['loja', 'data'])['vendas_semanais'].sum().reset_index()\n",
    "#vendas_por_loja\n",
    "\n",
    "total_vendas_por_loja = aux.groupby(['loja', 'data'])['vendas_semanais'].sum().reset_index()\n",
    "\n",
    "total_vendas_por_loja.rename(columns={'vendas_semanais': 'total_vendas_loja'}, inplace=True)\n",
    "\n",
    "aux = pd.merge(aux, total_vendas_por_loja, on='loja', how='left')\n",
    "\n",
    "aux.drop(['id', 'setor', 'vendas_semanais'], axis=1, inplace=True)\n",
    "\n",
    "#aux.duplicated().sum()\n",
    "\n",
    "filtro_duplicados = aux.duplicated()\n",
    "aux[filtro_duplicados]\n",
    "\n",
    "aux.drop_duplicates(inplace=True)\n",
    "aux.duplicated().sum()\n",
    "\n",
    "aux.reset_index(inplace=True, drop=True)\n",
    "aux.info()"
   ]
  },
  {
   "cell_type": "code",
   "execution_count": 48,
   "id": "c38ac644",
   "metadata": {
    "ExecuteTime": {
     "end_time": "2023-12-17T13:58:28.230240Z",
     "start_time": "2023-12-17T13:58:28.174025Z"
    },
    "hidden": true
   },
   "outputs": [
    {
     "data": {
      "text/html": [
       "<div>\n",
       "<style scoped>\n",
       "    .dataframe tbody tr th:only-of-type {\n",
       "        vertical-align: middle;\n",
       "    }\n",
       "\n",
       "    .dataframe tbody tr th {\n",
       "        vertical-align: top;\n",
       "    }\n",
       "\n",
       "    .dataframe thead th {\n",
       "        text-align: right;\n",
       "    }\n",
       "</style>\n",
       "<table border=\"1\" class=\"dataframe\">\n",
       "  <thead>\n",
       "    <tr style=\"text-align: right;\">\n",
       "      <th></th>\n",
       "      <th>loja</th>\n",
       "      <th>data</th>\n",
       "      <th>total_vendas_loja</th>\n",
       "    </tr>\n",
       "  </thead>\n",
       "  <tbody>\n",
       "    <tr>\n",
       "      <th>0</th>\n",
       "      <td>1</td>\n",
       "      <td>2023-01-07</td>\n",
       "      <td>6.551174e+06</td>\n",
       "    </tr>\n",
       "    <tr>\n",
       "      <th>1</th>\n",
       "      <td>1</td>\n",
       "      <td>2023-01-14</td>\n",
       "      <td>3.767478e+06</td>\n",
       "    </tr>\n",
       "    <tr>\n",
       "      <th>2</th>\n",
       "      <td>1</td>\n",
       "      <td>2023-01-21</td>\n",
       "      <td>3.647739e+06</td>\n",
       "    </tr>\n",
       "    <tr>\n",
       "      <th>3</th>\n",
       "      <td>1</td>\n",
       "      <td>2023-01-28</td>\n",
       "      <td>2.183072e+06</td>\n",
       "    </tr>\n",
       "    <tr>\n",
       "      <th>4</th>\n",
       "      <td>1</td>\n",
       "      <td>2023-02-04</td>\n",
       "      <td>4.716687e+06</td>\n",
       "    </tr>\n",
       "    <tr>\n",
       "      <th>...</th>\n",
       "      <td>...</td>\n",
       "      <td>...</td>\n",
       "      <td>...</td>\n",
       "    </tr>\n",
       "    <tr>\n",
       "      <th>1975</th>\n",
       "      <td>45</td>\n",
       "      <td>2023-10-07</td>\n",
       "      <td>3.534487e+06</td>\n",
       "    </tr>\n",
       "    <tr>\n",
       "      <th>1976</th>\n",
       "      <td>45</td>\n",
       "      <td>2023-10-14</td>\n",
       "      <td>3.157072e+06</td>\n",
       "    </tr>\n",
       "    <tr>\n",
       "      <th>1977</th>\n",
       "      <td>45</td>\n",
       "      <td>2023-10-21</td>\n",
       "      <td>3.397391e+06</td>\n",
       "    </tr>\n",
       "    <tr>\n",
       "      <th>1978</th>\n",
       "      <td>45</td>\n",
       "      <td>2023-10-28</td>\n",
       "      <td>2.495561e+06</td>\n",
       "    </tr>\n",
       "    <tr>\n",
       "      <th>1979</th>\n",
       "      <td>45</td>\n",
       "      <td>2023-11-04</td>\n",
       "      <td>7.911575e+05</td>\n",
       "    </tr>\n",
       "  </tbody>\n",
       "</table>\n",
       "<p>1980 rows × 3 columns</p>\n",
       "</div>"
      ],
      "text/plain": [
       "      loja       data  total_vendas_loja\n",
       "0        1 2023-01-07       6.551174e+06\n",
       "1        1 2023-01-14       3.767478e+06\n",
       "2        1 2023-01-21       3.647739e+06\n",
       "3        1 2023-01-28       2.183072e+06\n",
       "4        1 2023-02-04       4.716687e+06\n",
       "...    ...        ...                ...\n",
       "1975    45 2023-10-07       3.534487e+06\n",
       "1976    45 2023-10-14       3.157072e+06\n",
       "1977    45 2023-10-21       3.397391e+06\n",
       "1978    45 2023-10-28       2.495561e+06\n",
       "1979    45 2023-11-04       7.911575e+05\n",
       "\n",
       "[1980 rows x 3 columns]"
      ]
     },
     "execution_count": 48,
     "metadata": {},
     "output_type": "execute_result"
    }
   ],
   "source": [
    "total_vendas_por_loja"
   ]
  },
  {
   "cell_type": "code",
   "execution_count": 49,
   "id": "bbd0feee",
   "metadata": {
    "ExecuteTime": {
     "end_time": "2023-12-17T13:58:28.261371Z",
     "start_time": "2023-12-17T13:58:28.236249Z"
    },
    "hidden": true
   },
   "outputs": [],
   "source": [
    "aux['vendas_liq'] = aux['total_vendas_loja'] - aux['desconto']"
   ]
  },
  {
   "cell_type": "code",
   "execution_count": 50,
   "id": "501e0748",
   "metadata": {
    "ExecuteTime": {
     "end_time": "2023-12-17T13:58:28.339092Z",
     "start_time": "2023-12-17T13:58:28.267374Z"
    },
    "hidden": true
   },
   "outputs": [
    {
     "data": {
      "text/html": [
       "<div>\n",
       "<style scoped>\n",
       "    .dataframe tbody tr th:only-of-type {\n",
       "        vertical-align: middle;\n",
       "    }\n",
       "\n",
       "    .dataframe tbody tr th {\n",
       "        vertical-align: top;\n",
       "    }\n",
       "\n",
       "    .dataframe thead th {\n",
       "        text-align: right;\n",
       "    }\n",
       "</style>\n",
       "<table border=\"1\" class=\"dataframe\">\n",
       "  <thead>\n",
       "    <tr style=\"text-align: right;\">\n",
       "      <th></th>\n",
       "      <th>loja</th>\n",
       "      <th>data_x</th>\n",
       "      <th>feriado</th>\n",
       "      <th>tipo</th>\n",
       "      <th>tamanho</th>\n",
       "      <th>combustivel</th>\n",
       "      <th>desemprego</th>\n",
       "      <th>distancia_competidores</th>\n",
       "      <th>clientes</th>\n",
       "      <th>week_of_year</th>\n",
       "      <th>tipo_de_loja</th>\n",
       "      <th>desconto</th>\n",
       "      <th>data_y</th>\n",
       "      <th>total_vendas_loja</th>\n",
       "      <th>vendas_liq</th>\n",
       "    </tr>\n",
       "  </thead>\n",
       "  <tbody>\n",
       "    <tr>\n",
       "      <th>0</th>\n",
       "      <td>17</td>\n",
       "      <td>2023-01-07</td>\n",
       "      <td>0</td>\n",
       "      <td>eletronico</td>\n",
       "      <td>93188.0</td>\n",
       "      <td>2.891</td>\n",
       "      <td>0.06866</td>\n",
       "      <td>300000.0</td>\n",
       "      <td>541</td>\n",
       "      <td>01</td>\n",
       "      <td>B</td>\n",
       "      <td>0.0</td>\n",
       "      <td>2023-01-07</td>\n",
       "      <td>2.709261e+06</td>\n",
       "      <td>2.709261e+06</td>\n",
       "    </tr>\n",
       "    <tr>\n",
       "      <th>1</th>\n",
       "      <td>17</td>\n",
       "      <td>2023-01-07</td>\n",
       "      <td>0</td>\n",
       "      <td>eletronico</td>\n",
       "      <td>93188.0</td>\n",
       "      <td>2.891</td>\n",
       "      <td>0.06866</td>\n",
       "      <td>300000.0</td>\n",
       "      <td>541</td>\n",
       "      <td>01</td>\n",
       "      <td>B</td>\n",
       "      <td>0.0</td>\n",
       "      <td>2023-01-14</td>\n",
       "      <td>4.771096e+06</td>\n",
       "      <td>4.771096e+06</td>\n",
       "    </tr>\n",
       "    <tr>\n",
       "      <th>2</th>\n",
       "      <td>17</td>\n",
       "      <td>2023-01-07</td>\n",
       "      <td>0</td>\n",
       "      <td>eletronico</td>\n",
       "      <td>93188.0</td>\n",
       "      <td>2.891</td>\n",
       "      <td>0.06866</td>\n",
       "      <td>300000.0</td>\n",
       "      <td>541</td>\n",
       "      <td>01</td>\n",
       "      <td>B</td>\n",
       "      <td>0.0</td>\n",
       "      <td>2023-01-21</td>\n",
       "      <td>3.925272e+06</td>\n",
       "      <td>3.925272e+06</td>\n",
       "    </tr>\n",
       "    <tr>\n",
       "      <th>3</th>\n",
       "      <td>17</td>\n",
       "      <td>2023-01-07</td>\n",
       "      <td>0</td>\n",
       "      <td>eletronico</td>\n",
       "      <td>93188.0</td>\n",
       "      <td>2.891</td>\n",
       "      <td>0.06866</td>\n",
       "      <td>300000.0</td>\n",
       "      <td>541</td>\n",
       "      <td>01</td>\n",
       "      <td>B</td>\n",
       "      <td>0.0</td>\n",
       "      <td>2023-01-28</td>\n",
       "      <td>2.606646e+06</td>\n",
       "      <td>2.606646e+06</td>\n",
       "    </tr>\n",
       "    <tr>\n",
       "      <th>4</th>\n",
       "      <td>17</td>\n",
       "      <td>2023-01-07</td>\n",
       "      <td>0</td>\n",
       "      <td>eletronico</td>\n",
       "      <td>93188.0</td>\n",
       "      <td>2.891</td>\n",
       "      <td>0.06866</td>\n",
       "      <td>300000.0</td>\n",
       "      <td>541</td>\n",
       "      <td>01</td>\n",
       "      <td>B</td>\n",
       "      <td>0.0</td>\n",
       "      <td>2023-02-04</td>\n",
       "      <td>2.448465e+06</td>\n",
       "      <td>2.448465e+06</td>\n",
       "    </tr>\n",
       "  </tbody>\n",
       "</table>\n",
       "</div>"
      ],
      "text/plain": [
       "   loja     data_x  feriado        tipo  tamanho  combustivel  desemprego  \\\n",
       "0    17 2023-01-07        0  eletronico  93188.0        2.891     0.06866   \n",
       "1    17 2023-01-07        0  eletronico  93188.0        2.891     0.06866   \n",
       "2    17 2023-01-07        0  eletronico  93188.0        2.891     0.06866   \n",
       "3    17 2023-01-07        0  eletronico  93188.0        2.891     0.06866   \n",
       "4    17 2023-01-07        0  eletronico  93188.0        2.891     0.06866   \n",
       "\n",
       "   distancia_competidores  clientes week_of_year tipo_de_loja  desconto  \\\n",
       "0                300000.0       541           01            B       0.0   \n",
       "1                300000.0       541           01            B       0.0   \n",
       "2                300000.0       541           01            B       0.0   \n",
       "3                300000.0       541           01            B       0.0   \n",
       "4                300000.0       541           01            B       0.0   \n",
       "\n",
       "      data_y  total_vendas_loja    vendas_liq  \n",
       "0 2023-01-07       2.709261e+06  2.709261e+06  \n",
       "1 2023-01-14       4.771096e+06  4.771096e+06  \n",
       "2 2023-01-21       3.925272e+06  3.925272e+06  \n",
       "3 2023-01-28       2.606646e+06  2.606646e+06  \n",
       "4 2023-02-04       2.448465e+06  2.448465e+06  "
      ]
     },
     "execution_count": 50,
     "metadata": {},
     "output_type": "execute_result"
    }
   ],
   "source": [
    "aux.head()"
   ]
  },
  {
   "cell_type": "code",
   "execution_count": 51,
   "id": "64e1b4dd",
   "metadata": {
    "ExecuteTime": {
     "end_time": "2023-12-17T13:58:28.678001Z",
     "start_time": "2023-12-17T13:58:28.347690Z"
    },
    "hidden": true
   },
   "outputs": [
    {
     "data": {
      "image/png": "[encoded data removed]",
      "text/plain": [
       "<Figure size 1440x432 with 1 Axes>"
      ]
     },
     "metadata": {
      "needs_background": "light"
     },
     "output_type": "display_data"
    }
   ],
   "source": [
    "# Criando o boxplot com seaborn e ajustando o tamanho da figura\n",
    "plt.figure(figsize=(20, 6))  # Defina o tamanho desejado, por exemplo, (largura, altura)\n",
    "sns.boxplot(x=total_vendas_por_loja['total_vendas_loja'])\n",
    "plt.show()"
   ]
  },
  {
   "cell_type": "code",
   "execution_count": 52,
   "id": "22a73295",
   "metadata": {
    "ExecuteTime": {
     "end_time": "2023-12-17T13:58:28.709542Z",
     "start_time": "2023-12-17T13:58:28.686615Z"
    },
    "hidden": true
   },
   "outputs": [
    {
     "data": {
      "text/plain": [
       "11272209.620883811"
      ]
     },
     "execution_count": 52,
     "metadata": {},
     "output_type": "execute_result"
    }
   ],
   "source": [
    "aux['vendas_liq'].max()"
   ]
  },
  {
   "cell_type": "code",
   "execution_count": 53,
   "id": "c21947ef",
   "metadata": {
    "ExecuteTime": {
     "end_time": "2023-12-17T13:58:28.771123Z",
     "start_time": "2023-12-17T13:58:28.715629Z"
    },
    "hidden": true
   },
   "outputs": [
    {
     "data": {
      "text/html": [
       "<div>\n",
       "<style scoped>\n",
       "    .dataframe tbody tr th:only-of-type {\n",
       "        vertical-align: middle;\n",
       "    }\n",
       "\n",
       "    .dataframe tbody tr th {\n",
       "        vertical-align: top;\n",
       "    }\n",
       "\n",
       "    .dataframe thead th {\n",
       "        text-align: right;\n",
       "    }\n",
       "</style>\n",
       "<table border=\"1\" class=\"dataframe\">\n",
       "  <thead>\n",
       "    <tr style=\"text-align: right;\">\n",
       "      <th></th>\n",
       "      <th>loja</th>\n",
       "      <th>data_x</th>\n",
       "      <th>feriado</th>\n",
       "      <th>tipo</th>\n",
       "      <th>tamanho</th>\n",
       "      <th>combustivel</th>\n",
       "      <th>desemprego</th>\n",
       "      <th>distancia_competidores</th>\n",
       "      <th>clientes</th>\n",
       "      <th>week_of_year</th>\n",
       "      <th>tipo_de_loja</th>\n",
       "      <th>desconto</th>\n",
       "      <th>data_y</th>\n",
       "      <th>total_vendas_loja</th>\n",
       "      <th>vendas_liq</th>\n",
       "    </tr>\n",
       "  </thead>\n",
       "  <tbody>\n",
       "    <tr>\n",
       "      <th>0</th>\n",
       "      <td>17</td>\n",
       "      <td>2023-01-07</td>\n",
       "      <td>0</td>\n",
       "      <td>eletronico</td>\n",
       "      <td>93188.0</td>\n",
       "      <td>2.891</td>\n",
       "      <td>0.06866</td>\n",
       "      <td>300000.0</td>\n",
       "      <td>541</td>\n",
       "      <td>01</td>\n",
       "      <td>B</td>\n",
       "      <td>0.0</td>\n",
       "      <td>2023-01-07</td>\n",
       "      <td>2.709261e+06</td>\n",
       "      <td>2.709261e+06</td>\n",
       "    </tr>\n",
       "    <tr>\n",
       "      <th>1</th>\n",
       "      <td>17</td>\n",
       "      <td>2023-01-07</td>\n",
       "      <td>0</td>\n",
       "      <td>eletronico</td>\n",
       "      <td>93188.0</td>\n",
       "      <td>2.891</td>\n",
       "      <td>0.06866</td>\n",
       "      <td>300000.0</td>\n",
       "      <td>541</td>\n",
       "      <td>01</td>\n",
       "      <td>B</td>\n",
       "      <td>0.0</td>\n",
       "      <td>2023-01-14</td>\n",
       "      <td>4.771096e+06</td>\n",
       "      <td>4.771096e+06</td>\n",
       "    </tr>\n",
       "    <tr>\n",
       "      <th>2</th>\n",
       "      <td>17</td>\n",
       "      <td>2023-01-07</td>\n",
       "      <td>0</td>\n",
       "      <td>eletronico</td>\n",
       "      <td>93188.0</td>\n",
       "      <td>2.891</td>\n",
       "      <td>0.06866</td>\n",
       "      <td>300000.0</td>\n",
       "      <td>541</td>\n",
       "      <td>01</td>\n",
       "      <td>B</td>\n",
       "      <td>0.0</td>\n",
       "      <td>2023-01-21</td>\n",
       "      <td>3.925272e+06</td>\n",
       "      <td>3.925272e+06</td>\n",
       "    </tr>\n",
       "    <tr>\n",
       "      <th>3</th>\n",
       "      <td>17</td>\n",
       "      <td>2023-01-07</td>\n",
       "      <td>0</td>\n",
       "      <td>eletronico</td>\n",
       "      <td>93188.0</td>\n",
       "      <td>2.891</td>\n",
       "      <td>0.06866</td>\n",
       "      <td>300000.0</td>\n",
       "      <td>541</td>\n",
       "      <td>01</td>\n",
       "      <td>B</td>\n",
       "      <td>0.0</td>\n",
       "      <td>2023-01-28</td>\n",
       "      <td>2.606646e+06</td>\n",
       "      <td>2.606646e+06</td>\n",
       "    </tr>\n",
       "    <tr>\n",
       "      <th>4</th>\n",
       "      <td>17</td>\n",
       "      <td>2023-01-07</td>\n",
       "      <td>0</td>\n",
       "      <td>eletronico</td>\n",
       "      <td>93188.0</td>\n",
       "      <td>2.891</td>\n",
       "      <td>0.06866</td>\n",
       "      <td>300000.0</td>\n",
       "      <td>541</td>\n",
       "      <td>01</td>\n",
       "      <td>B</td>\n",
       "      <td>0.0</td>\n",
       "      <td>2023-02-04</td>\n",
       "      <td>2.448465e+06</td>\n",
       "      <td>2.448465e+06</td>\n",
       "    </tr>\n",
       "  </tbody>\n",
       "</table>\n",
       "</div>"
      ],
      "text/plain": [
       "   loja     data_x  feriado        tipo  tamanho  combustivel  desemprego  \\\n",
       "0    17 2023-01-07        0  eletronico  93188.0        2.891     0.06866   \n",
       "1    17 2023-01-07        0  eletronico  93188.0        2.891     0.06866   \n",
       "2    17 2023-01-07        0  eletronico  93188.0        2.891     0.06866   \n",
       "3    17 2023-01-07        0  eletronico  93188.0        2.891     0.06866   \n",
       "4    17 2023-01-07        0  eletronico  93188.0        2.891     0.06866   \n",
       "\n",
       "   distancia_competidores  clientes week_of_year tipo_de_loja  desconto  \\\n",
       "0                300000.0       541           01            B       0.0   \n",
       "1                300000.0       541           01            B       0.0   \n",
       "2                300000.0       541           01            B       0.0   \n",
       "3                300000.0       541           01            B       0.0   \n",
       "4                300000.0       541           01            B       0.0   \n",
       "\n",
       "      data_y  total_vendas_loja    vendas_liq  \n",
       "0 2023-01-07       2.709261e+06  2.709261e+06  \n",
       "1 2023-01-14       4.771096e+06  4.771096e+06  \n",
       "2 2023-01-21       3.925272e+06  3.925272e+06  \n",
       "3 2023-01-28       2.606646e+06  2.606646e+06  \n",
       "4 2023-02-04       2.448465e+06  2.448465e+06  "
      ]
     },
     "execution_count": 53,
     "metadata": {},
     "output_type": "execute_result"
    }
   ],
   "source": [
    "aux.head()"
   ]
  },
  {
   "cell_type": "code",
   "execution_count": 54,
   "id": "ea1bc7ac",
   "metadata": {
    "ExecuteTime": {
     "end_time": "2023-12-17T13:58:28.801361Z",
     "start_time": "2023-12-17T13:58:28.775127Z"
    },
    "hidden": true
   },
   "outputs": [
    {
     "data": {
      "text/html": [
       "<div>\n",
       "<style scoped>\n",
       "    .dataframe tbody tr th:only-of-type {\n",
       "        vertical-align: middle;\n",
       "    }\n",
       "\n",
       "    .dataframe tbody tr th {\n",
       "        vertical-align: top;\n",
       "    }\n",
       "\n",
       "    .dataframe thead th {\n",
       "        text-align: right;\n",
       "    }\n",
       "</style>\n",
       "<table border=\"1\" class=\"dataframe\">\n",
       "  <thead>\n",
       "    <tr style=\"text-align: right;\">\n",
       "      <th></th>\n",
       "      <th>id</th>\n",
       "      <th>loja</th>\n",
       "      <th>setor</th>\n",
       "      <th>data</th>\n",
       "      <th>feriado</th>\n",
       "    </tr>\n",
       "  </thead>\n",
       "  <tbody>\n",
       "    <tr>\n",
       "      <th>0</th>\n",
       "      <td>276064</td>\n",
       "      <td>20</td>\n",
       "      <td>16</td>\n",
       "      <td>11-25</td>\n",
       "      <td>sim</td>\n",
       "    </tr>\n",
       "    <tr>\n",
       "      <th>1</th>\n",
       "      <td>276065</td>\n",
       "      <td>39</td>\n",
       "      <td>14</td>\n",
       "      <td>11-25</td>\n",
       "      <td>sim</td>\n",
       "    </tr>\n",
       "    <tr>\n",
       "      <th>2</th>\n",
       "      <td>276066</td>\n",
       "      <td>40</td>\n",
       "      <td>5</td>\n",
       "      <td>11-25</td>\n",
       "      <td>sim</td>\n",
       "    </tr>\n",
       "    <tr>\n",
       "      <th>3</th>\n",
       "      <td>276067</td>\n",
       "      <td>24</td>\n",
       "      <td>92</td>\n",
       "      <td>11-25</td>\n",
       "      <td>sim</td>\n",
       "    </tr>\n",
       "    <tr>\n",
       "      <th>4</th>\n",
       "      <td>276068</td>\n",
       "      <td>22</td>\n",
       "      <td>20</td>\n",
       "      <td>11-25</td>\n",
       "      <td>sim</td>\n",
       "    </tr>\n",
       "  </tbody>\n",
       "</table>\n",
       "</div>"
      ],
      "text/plain": [
       "       id  loja  setor   data feriado\n",
       "0  276064    20     16  11-25     sim\n",
       "1  276065    39     14  11-25     sim\n",
       "2  276066    40      5  11-25     sim\n",
       "3  276067    24     92  11-25     sim\n",
       "4  276068    22     20  11-25     sim"
      ]
     },
     "execution_count": 54,
     "metadata": {},
     "output_type": "execute_result"
    }
   ],
   "source": [
    "test.head()"
   ]
  },
  {
   "cell_type": "code",
   "execution_count": 55,
   "id": "8b13df90",
   "metadata": {
    "ExecuteTime": {
     "end_time": "2023-12-17T13:58:28.863136Z",
     "start_time": "2023-12-17T13:58:28.806378Z"
    },
    "hidden": true
   },
   "outputs": [
    {
     "data": {
      "text/html": [
       "<div>\n",
       "<style scoped>\n",
       "    .dataframe tbody tr th:only-of-type {\n",
       "        vertical-align: middle;\n",
       "    }\n",
       "\n",
       "    .dataframe tbody tr th {\n",
       "        vertical-align: top;\n",
       "    }\n",
       "\n",
       "    .dataframe thead th {\n",
       "        text-align: right;\n",
       "    }\n",
       "</style>\n",
       "<table border=\"1\" class=\"dataframe\">\n",
       "  <thead>\n",
       "    <tr style=\"text-align: right;\">\n",
       "      <th></th>\n",
       "      <th>count</th>\n",
       "      <th>content</th>\n",
       "    </tr>\n",
       "  </thead>\n",
       "  <tbody>\n",
       "    <tr>\n",
       "      <th>id</th>\n",
       "      <td>18068</td>\n",
       "      <td>[276064, 276065, 276066, 276067, 276068, 27606...</td>\n",
       "    </tr>\n",
       "    <tr>\n",
       "      <th>loja</th>\n",
       "      <td>45</td>\n",
       "      <td>[20, 39, 40, 24, 22, 45, 21, 28, 31, 41, 17, 1...</td>\n",
       "    </tr>\n",
       "    <tr>\n",
       "      <th>setor</th>\n",
       "      <td>81</td>\n",
       "      <td>[16, 14, 5, 92, 20, 94, 98, 31, 37, 38, 21, 25...</td>\n",
       "    </tr>\n",
       "    <tr>\n",
       "      <th>data</th>\n",
       "      <td>6</td>\n",
       "      <td>[11-25, 12-02, 12-09, 12-16, 12-23, 12-30]</td>\n",
       "    </tr>\n",
       "    <tr>\n",
       "      <th>feriado</th>\n",
       "      <td>2</td>\n",
       "      <td>[sim, nao]</td>\n",
       "    </tr>\n",
       "  </tbody>\n",
       "</table>\n",
       "</div>"
      ],
      "text/plain": [
       "         count                                            content\n",
       "id       18068  [276064, 276065, 276066, 276067, 276068, 27606...\n",
       "loja        45  [20, 39, 40, 24, 22, 45, 21, 28, 31, 41, 17, 1...\n",
       "setor       81  [16, 14, 5, 92, 20, 94, 98, 31, 37, 38, 21, 25...\n",
       "data         6         [11-25, 12-02, 12-09, 12-16, 12-23, 12-30]\n",
       "feriado      2                                         [sim, nao]"
      ]
     },
     "execution_count": 55,
     "metadata": {},
     "output_type": "execute_result"
    }
   ],
   "source": [
    "tab_unique(test)"
   ]
  },
  {
   "cell_type": "code",
   "execution_count": 56,
   "id": "4cfb586a",
   "metadata": {
    "ExecuteTime": {
     "end_time": "2023-12-17T13:58:28.910970Z",
     "start_time": "2023-12-17T13:58:28.869660Z"
    },
    "hidden": true
   },
   "outputs": [
    {
     "data": {
      "text/html": [
       "<div>\n",
       "<style scoped>\n",
       "    .dataframe tbody tr th:only-of-type {\n",
       "        vertical-align: middle;\n",
       "    }\n",
       "\n",
       "    .dataframe tbody tr th {\n",
       "        vertical-align: top;\n",
       "    }\n",
       "\n",
       "    .dataframe thead th {\n",
       "        text-align: right;\n",
       "    }\n",
       "</style>\n",
       "<table border=\"1\" class=\"dataframe\">\n",
       "  <thead>\n",
       "    <tr style=\"text-align: right;\">\n",
       "      <th></th>\n",
       "      <th>id</th>\n",
       "      <th>loja</th>\n",
       "      <th>setor</th>\n",
       "      <th>data</th>\n",
       "      <th>vendas_semanais</th>\n",
       "      <th>feriado</th>\n",
       "      <th>tipo</th>\n",
       "      <th>tamanho</th>\n",
       "      <th>combustivel</th>\n",
       "      <th>desemprego</th>\n",
       "      <th>distancia_competidores</th>\n",
       "      <th>clientes</th>\n",
       "      <th>week_of_year</th>\n",
       "      <th>tipo_de_loja</th>\n",
       "      <th>desconto</th>\n",
       "    </tr>\n",
       "  </thead>\n",
       "  <tbody>\n",
       "    <tr>\n",
       "      <th>0</th>\n",
       "      <td>140679</td>\n",
       "      <td>17</td>\n",
       "      <td>93</td>\n",
       "      <td>2023-01-07</td>\n",
       "      <td>6283.00</td>\n",
       "      <td>0</td>\n",
       "      <td>eletronico</td>\n",
       "      <td>93188.0</td>\n",
       "      <td>2.891</td>\n",
       "      <td>0.06866</td>\n",
       "      <td>300000.0</td>\n",
       "      <td>541</td>\n",
       "      <td>01</td>\n",
       "      <td>B</td>\n",
       "      <td>0.0</td>\n",
       "    </tr>\n",
       "    <tr>\n",
       "      <th>1</th>\n",
       "      <td>140696</td>\n",
       "      <td>17</td>\n",
       "      <td>16</td>\n",
       "      <td>2023-01-07</td>\n",
       "      <td>1641.25</td>\n",
       "      <td>0</td>\n",
       "      <td>eletronico</td>\n",
       "      <td>93188.0</td>\n",
       "      <td>2.891</td>\n",
       "      <td>0.06866</td>\n",
       "      <td>300000.0</td>\n",
       "      <td>541</td>\n",
       "      <td>01</td>\n",
       "      <td>B</td>\n",
       "      <td>0.0</td>\n",
       "    </tr>\n",
       "    <tr>\n",
       "      <th>2</th>\n",
       "      <td>140701</td>\n",
       "      <td>17</td>\n",
       "      <td>4</td>\n",
       "      <td>2023-01-07</td>\n",
       "      <td>39775.45</td>\n",
       "      <td>0</td>\n",
       "      <td>eletronico</td>\n",
       "      <td>93188.0</td>\n",
       "      <td>2.891</td>\n",
       "      <td>0.06866</td>\n",
       "      <td>300000.0</td>\n",
       "      <td>541</td>\n",
       "      <td>01</td>\n",
       "      <td>B</td>\n",
       "      <td>0.0</td>\n",
       "    </tr>\n",
       "    <tr>\n",
       "      <th>3</th>\n",
       "      <td>140733</td>\n",
       "      <td>17</td>\n",
       "      <td>14</td>\n",
       "      <td>2023-01-07</td>\n",
       "      <td>29555.43</td>\n",
       "      <td>0</td>\n",
       "      <td>eletronico</td>\n",
       "      <td>93188.0</td>\n",
       "      <td>2.891</td>\n",
       "      <td>0.06866</td>\n",
       "      <td>300000.0</td>\n",
       "      <td>541</td>\n",
       "      <td>01</td>\n",
       "      <td>B</td>\n",
       "      <td>0.0</td>\n",
       "    </tr>\n",
       "    <tr>\n",
       "      <th>4</th>\n",
       "      <td>140742</td>\n",
       "      <td>17</td>\n",
       "      <td>48</td>\n",
       "      <td>2023-01-07</td>\n",
       "      <td>414.00</td>\n",
       "      <td>0</td>\n",
       "      <td>eletronico</td>\n",
       "      <td>93188.0</td>\n",
       "      <td>2.891</td>\n",
       "      <td>0.06866</td>\n",
       "      <td>300000.0</td>\n",
       "      <td>541</td>\n",
       "      <td>01</td>\n",
       "      <td>B</td>\n",
       "      <td>0.0</td>\n",
       "    </tr>\n",
       "  </tbody>\n",
       "</table>\n",
       "</div>"
      ],
      "text/plain": [
       "       id  loja  setor       data  vendas_semanais  feriado        tipo  \\\n",
       "0  140679    17     93 2023-01-07          6283.00        0  eletronico   \n",
       "1  140696    17     16 2023-01-07          1641.25        0  eletronico   \n",
       "2  140701    17      4 2023-01-07         39775.45        0  eletronico   \n",
       "3  140733    17     14 2023-01-07         29555.43        0  eletronico   \n",
       "4  140742    17     48 2023-01-07           414.00        0  eletronico   \n",
       "\n",
       "   tamanho  combustivel  desemprego  distancia_competidores  clientes  \\\n",
       "0  93188.0        2.891     0.06866                300000.0       541   \n",
       "1  93188.0        2.891     0.06866                300000.0       541   \n",
       "2  93188.0        2.891     0.06866                300000.0       541   \n",
       "3  93188.0        2.891     0.06866                300000.0       541   \n",
       "4  93188.0        2.891     0.06866                300000.0       541   \n",
       "\n",
       "  week_of_year tipo_de_loja  desconto  \n",
       "0           01            B       0.0  \n",
       "1           01            B       0.0  \n",
       "2           01            B       0.0  \n",
       "3           01            B       0.0  \n",
       "4           01            B       0.0  "
      ]
     },
     "execution_count": 56,
     "metadata": {},
     "output_type": "execute_result"
    }
   ],
   "source": [
    "df2.head()"
   ]
  },
  {
   "cell_type": "code",
   "execution_count": 57,
   "id": "c8c544df",
   "metadata": {
    "ExecuteTime": {
     "end_time": "2023-12-17T13:58:28.941340Z",
     "start_time": "2023-12-17T13:58:28.918980Z"
    },
    "hidden": true
   },
   "outputs": [
    {
     "data": {
      "text/plain": [
       "0"
      ]
     },
     "execution_count": 57,
     "metadata": {},
     "output_type": "execute_result"
    }
   ],
   "source": [
    "df2.loc[df2['desconto'] > 0, :].shape[0]"
   ]
  },
  {
   "cell_type": "code",
   "execution_count": 58,
   "id": "2a5f961f",
   "metadata": {
    "ExecuteTime": {
     "end_time": "2023-12-17T13:58:28.972887Z",
     "start_time": "2023-12-17T13:58:28.945357Z"
    },
    "hidden": true
   },
   "outputs": [
    {
     "data": {
      "text/plain": [
       "109798"
      ]
     },
     "execution_count": 58,
     "metadata": {},
     "output_type": "execute_result"
    }
   ],
   "source": [
    "df2.shape[0]"
   ]
  },
  {
   "cell_type": "code",
   "execution_count": 59,
   "id": "ea6f6265",
   "metadata": {
    "ExecuteTime": {
     "end_time": "2023-12-17T13:58:29.002709Z",
     "start_time": "2023-12-17T13:58:28.975901Z"
    },
    "hidden": true
   },
   "outputs": [
    {
     "data": {
      "text/plain": [
       "0.0"
      ]
     },
     "execution_count": 59,
     "metadata": {},
     "output_type": "execute_result"
    }
   ],
   "source": [
    "df2.loc[df2['desconto'] > 0, :].shape[0]/df2.shape[0]"
   ]
  },
  {
   "cell_type": "markdown",
   "id": "0cb50bdf",
   "metadata": {},
   "source": [
    "# 3. EXPLORATORY DATA ANALYSIS (EDA)"
   ]
  },
  {
   "cell_type": "code",
   "execution_count": 60,
   "id": "19f1a0e3",
   "metadata": {
    "ExecuteTime": {
     "end_time": "2023-12-17T13:58:29.033478Z",
     "start_time": "2023-12-17T13:58:29.005721Z"
    }
   },
   "outputs": [],
   "source": [
    "df3 = df2.copy()"
   ]
  },
  {
   "cell_type": "code",
   "execution_count": 61,
   "id": "91ecad92",
   "metadata": {
    "ExecuteTime": {
     "end_time": "2023-12-17T13:58:29.079344Z",
     "start_time": "2023-12-17T13:58:29.036485Z"
    }
   },
   "outputs": [
    {
     "data": {
      "text/html": [
       "<div>\n",
       "<style scoped>\n",
       "    .dataframe tbody tr th:only-of-type {\n",
       "        vertical-align: middle;\n",
       "    }\n",
       "\n",
       "    .dataframe tbody tr th {\n",
       "        vertical-align: top;\n",
       "    }\n",
       "\n",
       "    .dataframe thead th {\n",
       "        text-align: right;\n",
       "    }\n",
       "</style>\n",
       "<table border=\"1\" class=\"dataframe\">\n",
       "  <thead>\n",
       "    <tr style=\"text-align: right;\">\n",
       "      <th></th>\n",
       "      <th>id</th>\n",
       "      <th>loja</th>\n",
       "      <th>setor</th>\n",
       "      <th>data</th>\n",
       "      <th>vendas_semanais</th>\n",
       "      <th>feriado</th>\n",
       "      <th>tipo</th>\n",
       "      <th>tamanho</th>\n",
       "      <th>combustivel</th>\n",
       "      <th>desemprego</th>\n",
       "      <th>distancia_competidores</th>\n",
       "      <th>clientes</th>\n",
       "      <th>week_of_year</th>\n",
       "      <th>tipo_de_loja</th>\n",
       "      <th>desconto</th>\n",
       "    </tr>\n",
       "  </thead>\n",
       "  <tbody>\n",
       "    <tr>\n",
       "      <th>0</th>\n",
       "      <td>140679</td>\n",
       "      <td>17</td>\n",
       "      <td>93</td>\n",
       "      <td>2023-01-07</td>\n",
       "      <td>6283.00</td>\n",
       "      <td>0</td>\n",
       "      <td>eletronico</td>\n",
       "      <td>93188.0</td>\n",
       "      <td>2.891</td>\n",
       "      <td>0.06866</td>\n",
       "      <td>300000.0</td>\n",
       "      <td>541</td>\n",
       "      <td>01</td>\n",
       "      <td>B</td>\n",
       "      <td>0.0</td>\n",
       "    </tr>\n",
       "    <tr>\n",
       "      <th>1</th>\n",
       "      <td>140696</td>\n",
       "      <td>17</td>\n",
       "      <td>16</td>\n",
       "      <td>2023-01-07</td>\n",
       "      <td>1641.25</td>\n",
       "      <td>0</td>\n",
       "      <td>eletronico</td>\n",
       "      <td>93188.0</td>\n",
       "      <td>2.891</td>\n",
       "      <td>0.06866</td>\n",
       "      <td>300000.0</td>\n",
       "      <td>541</td>\n",
       "      <td>01</td>\n",
       "      <td>B</td>\n",
       "      <td>0.0</td>\n",
       "    </tr>\n",
       "    <tr>\n",
       "      <th>2</th>\n",
       "      <td>140701</td>\n",
       "      <td>17</td>\n",
       "      <td>4</td>\n",
       "      <td>2023-01-07</td>\n",
       "      <td>39775.45</td>\n",
       "      <td>0</td>\n",
       "      <td>eletronico</td>\n",
       "      <td>93188.0</td>\n",
       "      <td>2.891</td>\n",
       "      <td>0.06866</td>\n",
       "      <td>300000.0</td>\n",
       "      <td>541</td>\n",
       "      <td>01</td>\n",
       "      <td>B</td>\n",
       "      <td>0.0</td>\n",
       "    </tr>\n",
       "    <tr>\n",
       "      <th>3</th>\n",
       "      <td>140733</td>\n",
       "      <td>17</td>\n",
       "      <td>14</td>\n",
       "      <td>2023-01-07</td>\n",
       "      <td>29555.43</td>\n",
       "      <td>0</td>\n",
       "      <td>eletronico</td>\n",
       "      <td>93188.0</td>\n",
       "      <td>2.891</td>\n",
       "      <td>0.06866</td>\n",
       "      <td>300000.0</td>\n",
       "      <td>541</td>\n",
       "      <td>01</td>\n",
       "      <td>B</td>\n",
       "      <td>0.0</td>\n",
       "    </tr>\n",
       "    <tr>\n",
       "      <th>4</th>\n",
       "      <td>140742</td>\n",
       "      <td>17</td>\n",
       "      <td>48</td>\n",
       "      <td>2023-01-07</td>\n",
       "      <td>414.00</td>\n",
       "      <td>0</td>\n",
       "      <td>eletronico</td>\n",
       "      <td>93188.0</td>\n",
       "      <td>2.891</td>\n",
       "      <td>0.06866</td>\n",
       "      <td>300000.0</td>\n",
       "      <td>541</td>\n",
       "      <td>01</td>\n",
       "      <td>B</td>\n",
       "      <td>0.0</td>\n",
       "    </tr>\n",
       "  </tbody>\n",
       "</table>\n",
       "</div>"
      ],
      "text/plain": [
       "       id  loja  setor       data  vendas_semanais  feriado        tipo  \\\n",
       "0  140679    17     93 2023-01-07          6283.00        0  eletronico   \n",
       "1  140696    17     16 2023-01-07          1641.25        0  eletronico   \n",
       "2  140701    17      4 2023-01-07         39775.45        0  eletronico   \n",
       "3  140733    17     14 2023-01-07         29555.43        0  eletronico   \n",
       "4  140742    17     48 2023-01-07           414.00        0  eletronico   \n",
       "\n",
       "   tamanho  combustivel  desemprego  distancia_competidores  clientes  \\\n",
       "0  93188.0        2.891     0.06866                300000.0       541   \n",
       "1  93188.0        2.891     0.06866                300000.0       541   \n",
       "2  93188.0        2.891     0.06866                300000.0       541   \n",
       "3  93188.0        2.891     0.06866                300000.0       541   \n",
       "4  93188.0        2.891     0.06866                300000.0       541   \n",
       "\n",
       "  week_of_year tipo_de_loja  desconto  \n",
       "0           01            B       0.0  \n",
       "1           01            B       0.0  \n",
       "2           01            B       0.0  \n",
       "3           01            B       0.0  \n",
       "4           01            B       0.0  "
      ]
     },
     "execution_count": 61,
     "metadata": {},
     "output_type": "execute_result"
    }
   ],
   "source": [
    "df3.head()"
   ]
  },
  {
   "cell_type": "markdown",
   "id": "ca01f977",
   "metadata": {},
   "source": [
    "## 3.1. Análise Univariada"
   ]
  },
  {
   "cell_type": "markdown",
   "id": "e6b00716",
   "metadata": {},
   "source": [
    "### 3.1.1. Vendas"
   ]
  },
  {
   "cell_type": "code",
   "execution_count": 62,
   "id": "4aa32023",
   "metadata": {
    "ExecuteTime": {
     "end_time": "2023-12-17T13:58:29.220872Z",
     "start_time": "2023-12-17T13:58:29.085352Z"
    }
   },
   "outputs": [
    {
     "data": {
      "text/html": [
       "<div>\n",
       "<style scoped>\n",
       "    .dataframe tbody tr th:only-of-type {\n",
       "        vertical-align: middle;\n",
       "    }\n",
       "\n",
       "    .dataframe tbody tr th {\n",
       "        vertical-align: top;\n",
       "    }\n",
       "\n",
       "    .dataframe thead th {\n",
       "        text-align: right;\n",
       "    }\n",
       "</style>\n",
       "<table border=\"1\" class=\"dataframe\">\n",
       "  <thead>\n",
       "    <tr style=\"text-align: right;\">\n",
       "      <th></th>\n",
       "      <th>count</th>\n",
       "      <th>mean</th>\n",
       "      <th>std</th>\n",
       "      <th>min</th>\n",
       "      <th>25%</th>\n",
       "      <th>50%</th>\n",
       "      <th>75%</th>\n",
       "      <th>max</th>\n",
       "    </tr>\n",
       "  </thead>\n",
       "  <tbody>\n",
       "    <tr>\n",
       "      <th>id</th>\n",
       "      <td>109798.0</td>\n",
       "      <td>205313.810115</td>\n",
       "      <td>37421.663032</td>\n",
       "      <td>140679.0000</td>\n",
       "      <td>172846.25000</td>\n",
       "      <td>205275.000000</td>\n",
       "      <td>237777.50000</td>\n",
       "      <td>270137.000000</td>\n",
       "    </tr>\n",
       "    <tr>\n",
       "      <th>loja</th>\n",
       "      <td>109798.0</td>\n",
       "      <td>21.852693</td>\n",
       "      <td>12.702829</td>\n",
       "      <td>1.0000</td>\n",
       "      <td>11.00000</td>\n",
       "      <td>21.000000</td>\n",
       "      <td>32.00000</td>\n",
       "      <td>45.000000</td>\n",
       "    </tr>\n",
       "    <tr>\n",
       "      <th>setor</th>\n",
       "      <td>109798.0</td>\n",
       "      <td>44.021321</td>\n",
       "      <td>30.853652</td>\n",
       "      <td>1.0000</td>\n",
       "      <td>17.00000</td>\n",
       "      <td>36.000000</td>\n",
       "      <td>74.00000</td>\n",
       "      <td>99.000000</td>\n",
       "    </tr>\n",
       "    <tr>\n",
       "      <th>vendas_semanais</th>\n",
       "      <td>109798.0</td>\n",
       "      <td>67433.612238</td>\n",
       "      <td>204755.166806</td>\n",
       "      <td>100.0000</td>\n",
       "      <td>3071.72000</td>\n",
       "      <td>9321.175000</td>\n",
       "      <td>25518.04500</td>\n",
       "      <td>999944.947336</td>\n",
       "    </tr>\n",
       "    <tr>\n",
       "      <th>feriado</th>\n",
       "      <td>109798.0</td>\n",
       "      <td>0.045793</td>\n",
       "      <td>0.209037</td>\n",
       "      <td>0.0000</td>\n",
       "      <td>0.00000</td>\n",
       "      <td>0.000000</td>\n",
       "      <td>0.00000</td>\n",
       "      <td>1.000000</td>\n",
       "    </tr>\n",
       "    <tr>\n",
       "      <th>tamanho</th>\n",
       "      <td>109798.0</td>\n",
       "      <td>101736.361309</td>\n",
       "      <td>75939.308856</td>\n",
       "      <td>0.0000</td>\n",
       "      <td>34875.00000</td>\n",
       "      <td>119557.000000</td>\n",
       "      <td>155083.00000</td>\n",
       "      <td>219622.000000</td>\n",
       "    </tr>\n",
       "    <tr>\n",
       "      <th>combustivel</th>\n",
       "      <td>109798.0</td>\n",
       "      <td>3.598831</td>\n",
       "      <td>0.226396</td>\n",
       "      <td>2.8910</td>\n",
       "      <td>3.56600</td>\n",
       "      <td>3.596658</td>\n",
       "      <td>3.68400</td>\n",
       "      <td>4.211000</td>\n",
       "    </tr>\n",
       "    <tr>\n",
       "      <th>desemprego</th>\n",
       "      <td>109798.0</td>\n",
       "      <td>0.080594</td>\n",
       "      <td>0.018562</td>\n",
       "      <td>0.0442</td>\n",
       "      <td>0.06934</td>\n",
       "      <td>0.078520</td>\n",
       "      <td>0.08523</td>\n",
       "      <td>0.140210</td>\n",
       "    </tr>\n",
       "    <tr>\n",
       "      <th>distancia_competidores</th>\n",
       "      <td>109798.0</td>\n",
       "      <td>300000.000000</td>\n",
       "      <td>0.000000</td>\n",
       "      <td>300000.0000</td>\n",
       "      <td>300000.00000</td>\n",
       "      <td>300000.000000</td>\n",
       "      <td>300000.00000</td>\n",
       "      <td>300000.000000</td>\n",
       "    </tr>\n",
       "    <tr>\n",
       "      <th>clientes</th>\n",
       "      <td>109798.0</td>\n",
       "      <td>507.233839</td>\n",
       "      <td>290.801846</td>\n",
       "      <td>1.0000</td>\n",
       "      <td>254.00000</td>\n",
       "      <td>517.000000</td>\n",
       "      <td>760.00000</td>\n",
       "      <td>999.000000</td>\n",
       "    </tr>\n",
       "    <tr>\n",
       "      <th>desconto</th>\n",
       "      <td>109798.0</td>\n",
       "      <td>0.000000</td>\n",
       "      <td>0.000000</td>\n",
       "      <td>0.0000</td>\n",
       "      <td>0.00000</td>\n",
       "      <td>0.000000</td>\n",
       "      <td>0.00000</td>\n",
       "      <td>0.000000</td>\n",
       "    </tr>\n",
       "  </tbody>\n",
       "</table>\n",
       "</div>"
      ],
      "text/plain": [
       "                           count           mean            std          min  \\\n",
       "id                      109798.0  205313.810115   37421.663032  140679.0000   \n",
       "loja                    109798.0      21.852693      12.702829       1.0000   \n",
       "setor                   109798.0      44.021321      30.853652       1.0000   \n",
       "vendas_semanais         109798.0   67433.612238  204755.166806     100.0000   \n",
       "feriado                 109798.0       0.045793       0.209037       0.0000   \n",
       "tamanho                 109798.0  101736.361309   75939.308856       0.0000   \n",
       "combustivel             109798.0       3.598831       0.226396       2.8910   \n",
       "desemprego              109798.0       0.080594       0.018562       0.0442   \n",
       "distancia_competidores  109798.0  300000.000000       0.000000  300000.0000   \n",
       "clientes                109798.0     507.233839     290.801846       1.0000   \n",
       "desconto                109798.0       0.000000       0.000000       0.0000   \n",
       "\n",
       "                                 25%            50%           75%  \\\n",
       "id                      172846.25000  205275.000000  237777.50000   \n",
       "loja                        11.00000      21.000000      32.00000   \n",
       "setor                       17.00000      36.000000      74.00000   \n",
       "vendas_semanais           3071.72000    9321.175000   25518.04500   \n",
       "feriado                      0.00000       0.000000       0.00000   \n",
       "tamanho                  34875.00000  119557.000000  155083.00000   \n",
       "combustivel                  3.56600       3.596658       3.68400   \n",
       "desemprego                   0.06934       0.078520       0.08523   \n",
       "distancia_competidores  300000.00000  300000.000000  300000.00000   \n",
       "clientes                   254.00000     517.000000     760.00000   \n",
       "desconto                     0.00000       0.000000       0.00000   \n",
       "\n",
       "                                  max  \n",
       "id                      270137.000000  \n",
       "loja                        45.000000  \n",
       "setor                       99.000000  \n",
       "vendas_semanais         999944.947336  \n",
       "feriado                      1.000000  \n",
       "tamanho                 219622.000000  \n",
       "combustivel                  4.211000  \n",
       "desemprego                   0.140210  \n",
       "distancia_competidores  300000.000000  \n",
       "clientes                   999.000000  \n",
       "desconto                     0.000000  "
      ]
     },
     "execution_count": 62,
     "metadata": {},
     "output_type": "execute_result"
    }
   ],
   "source": [
    "df3.describe().T"
   ]
  },
  {
   "cell_type": "code",
   "execution_count": 63,
   "id": "a4ada195",
   "metadata": {
    "ExecuteTime": {
     "end_time": "2023-12-17T13:58:34.100604Z",
     "start_time": "2023-12-17T13:58:29.223877Z"
    }
   },
   "outputs": [
    {
     "data": {
      "image/png": "[encoded data removed]",
      "text/plain": [
       "<Figure size 576x288 with 1 Axes>"
      ]
     },
     "metadata": {
      "needs_background": "light"
     },
     "output_type": "display_data"
    }
   ],
   "source": [
    "maximo = int(df3['vendas_semanais'].max())\n",
    "\n",
    "# Cria o gráfico\n",
    "fig = plt.figure( figsize = (8, 4))\n",
    "ax = fig.add_axes([0, 0, 1, 1])\n",
    "\n",
    "# Configura o título e os eixos\n",
    "ax.set_title('Frequência de vendas', fontsize=25)\n",
    "ax.set_xlabel('Qtde de vendas', fontsize=20)\n",
    "ax.set_ylabel('Frequência', fontsize=20)\n",
    "\n",
    "# Plota e mostra o gráfico\n",
    "ax.hist(df3['vendas_semanais'], bins=range(0, maximo + 1001, 1000), color='midnightblue')\n",
    "plt.show()"
   ]
  },
  {
   "cell_type": "code",
   "execution_count": 64,
   "id": "b1ee5a0b",
   "metadata": {
    "ExecuteTime": {
     "end_time": "2023-12-17T13:58:34.627632Z",
     "start_time": "2023-12-17T13:58:34.106221Z"
    }
   },
   "outputs": [
    {
     "data": {
      "image/png": "[encoded data removed]",
      "text/plain": [
       "<Figure size 1440x432 with 1 Axes>"
      ]
     },
     "metadata": {
      "needs_background": "light"
     },
     "output_type": "display_data"
    }
   ],
   "source": [
    "# Criando o boxplot com seaborn e ajustando o tamanho da figura\n",
    "plt.figure(figsize=(20, 6))  # Defina o tamanho desejado, por exemplo, (largura, altura)\n",
    "sns.boxplot(x=df3['vendas_semanais'])\n",
    "plt.show()"
   ]
  },
  {
   "cell_type": "code",
   "execution_count": 65,
   "id": "63061cd0",
   "metadata": {
    "ExecuteTime": {
     "end_time": "2023-12-17T13:58:34.706013Z",
     "start_time": "2023-12-17T13:58:34.636227Z"
    }
   },
   "outputs": [
    {
     "data": {
      "text/html": [
       "<div>\n",
       "<style scoped>\n",
       "    .dataframe tbody tr th:only-of-type {\n",
       "        vertical-align: middle;\n",
       "    }\n",
       "\n",
       "    .dataframe tbody tr th {\n",
       "        vertical-align: top;\n",
       "    }\n",
       "\n",
       "    .dataframe thead th {\n",
       "        text-align: right;\n",
       "    }\n",
       "</style>\n",
       "<table border=\"1\" class=\"dataframe\">\n",
       "  <thead>\n",
       "    <tr style=\"text-align: right;\">\n",
       "      <th></th>\n",
       "      <th>id</th>\n",
       "      <th>loja</th>\n",
       "      <th>setor</th>\n",
       "      <th>data</th>\n",
       "      <th>vendas_semanais</th>\n",
       "      <th>feriado</th>\n",
       "      <th>tipo</th>\n",
       "      <th>tamanho</th>\n",
       "      <th>combustivel</th>\n",
       "      <th>desemprego</th>\n",
       "      <th>distancia_competidores</th>\n",
       "      <th>clientes</th>\n",
       "      <th>week_of_year</th>\n",
       "      <th>tipo_de_loja</th>\n",
       "      <th>desconto</th>\n",
       "    </tr>\n",
       "  </thead>\n",
       "  <tbody>\n",
       "    <tr>\n",
       "      <th>0</th>\n",
       "      <td>140679</td>\n",
       "      <td>17</td>\n",
       "      <td>93</td>\n",
       "      <td>2023-01-07</td>\n",
       "      <td>6283.00</td>\n",
       "      <td>0</td>\n",
       "      <td>eletronico</td>\n",
       "      <td>93188.0</td>\n",
       "      <td>2.891</td>\n",
       "      <td>0.06866</td>\n",
       "      <td>300000.0</td>\n",
       "      <td>541</td>\n",
       "      <td>01</td>\n",
       "      <td>B</td>\n",
       "      <td>0.0</td>\n",
       "    </tr>\n",
       "    <tr>\n",
       "      <th>1</th>\n",
       "      <td>140696</td>\n",
       "      <td>17</td>\n",
       "      <td>16</td>\n",
       "      <td>2023-01-07</td>\n",
       "      <td>1641.25</td>\n",
       "      <td>0</td>\n",
       "      <td>eletronico</td>\n",
       "      <td>93188.0</td>\n",
       "      <td>2.891</td>\n",
       "      <td>0.06866</td>\n",
       "      <td>300000.0</td>\n",
       "      <td>541</td>\n",
       "      <td>01</td>\n",
       "      <td>B</td>\n",
       "      <td>0.0</td>\n",
       "    </tr>\n",
       "    <tr>\n",
       "      <th>2</th>\n",
       "      <td>140701</td>\n",
       "      <td>17</td>\n",
       "      <td>4</td>\n",
       "      <td>2023-01-07</td>\n",
       "      <td>39775.45</td>\n",
       "      <td>0</td>\n",
       "      <td>eletronico</td>\n",
       "      <td>93188.0</td>\n",
       "      <td>2.891</td>\n",
       "      <td>0.06866</td>\n",
       "      <td>300000.0</td>\n",
       "      <td>541</td>\n",
       "      <td>01</td>\n",
       "      <td>B</td>\n",
       "      <td>0.0</td>\n",
       "    </tr>\n",
       "    <tr>\n",
       "      <th>3</th>\n",
       "      <td>140733</td>\n",
       "      <td>17</td>\n",
       "      <td>14</td>\n",
       "      <td>2023-01-07</td>\n",
       "      <td>29555.43</td>\n",
       "      <td>0</td>\n",
       "      <td>eletronico</td>\n",
       "      <td>93188.0</td>\n",
       "      <td>2.891</td>\n",
       "      <td>0.06866</td>\n",
       "      <td>300000.0</td>\n",
       "      <td>541</td>\n",
       "      <td>01</td>\n",
       "      <td>B</td>\n",
       "      <td>0.0</td>\n",
       "    </tr>\n",
       "    <tr>\n",
       "      <th>4</th>\n",
       "      <td>140742</td>\n",
       "      <td>17</td>\n",
       "      <td>48</td>\n",
       "      <td>2023-01-07</td>\n",
       "      <td>414.00</td>\n",
       "      <td>0</td>\n",
       "      <td>eletronico</td>\n",
       "      <td>93188.0</td>\n",
       "      <td>2.891</td>\n",
       "      <td>0.06866</td>\n",
       "      <td>300000.0</td>\n",
       "      <td>541</td>\n",
       "      <td>01</td>\n",
       "      <td>B</td>\n",
       "      <td>0.0</td>\n",
       "    </tr>\n",
       "  </tbody>\n",
       "</table>\n",
       "</div>"
      ],
      "text/plain": [
       "       id  loja  setor       data  vendas_semanais  feriado        tipo  \\\n",
       "0  140679    17     93 2023-01-07          6283.00        0  eletronico   \n",
       "1  140696    17     16 2023-01-07          1641.25        0  eletronico   \n",
       "2  140701    17      4 2023-01-07         39775.45        0  eletronico   \n",
       "3  140733    17     14 2023-01-07         29555.43        0  eletronico   \n",
       "4  140742    17     48 2023-01-07           414.00        0  eletronico   \n",
       "\n",
       "   tamanho  combustivel  desemprego  distancia_competidores  clientes  \\\n",
       "0  93188.0        2.891     0.06866                300000.0       541   \n",
       "1  93188.0        2.891     0.06866                300000.0       541   \n",
       "2  93188.0        2.891     0.06866                300000.0       541   \n",
       "3  93188.0        2.891     0.06866                300000.0       541   \n",
       "4  93188.0        2.891     0.06866                300000.0       541   \n",
       "\n",
       "  week_of_year tipo_de_loja  desconto  \n",
       "0           01            B       0.0  \n",
       "1           01            B       0.0  \n",
       "2           01            B       0.0  \n",
       "3           01            B       0.0  \n",
       "4           01            B       0.0  "
      ]
     },
     "execution_count": 65,
     "metadata": {},
     "output_type": "execute_result"
    }
   ],
   "source": [
    "df3.head()"
   ]
  },
  {
   "cell_type": "code",
   "execution_count": 66,
   "id": "7bbfe7eb",
   "metadata": {
    "ExecuteTime": {
     "end_time": "2023-12-17T13:58:35.249863Z",
     "start_time": "2023-12-17T13:58:34.712516Z"
    }
   },
   "outputs": [
    {
     "data": {
      "image/png": "[encoded data removed]",
      "text/plain": [
       "<Figure size 1440x432 with 1 Axes>"
      ]
     },
     "metadata": {
      "needs_background": "light"
     },
     "output_type": "display_data"
    }
   ],
   "source": [
    "# Criando o boxplot com seaborn e ajustando o tamanho da figura\n",
    "aux = df3[(df3['week_of_year'] != '45') | (df3['week_of_year'] != '46')]\n",
    "plt.figure(figsize=(20, 6))  # Defina o tamanho desejado, por exemplo, (largura, altura)\n",
    "sns.boxplot(x=aux['vendas_semanais'])\n",
    "plt.show()"
   ]
  },
  {
   "cell_type": "markdown",
   "id": "65bf2dd5",
   "metadata": {
    "heading_collapsed": true
   },
   "source": [
    "#### 3.1.1.1. Análise de outliers"
   ]
  },
  {
   "cell_type": "code",
   "execution_count": null,
   "id": "cfa1cf32",
   "metadata": {
    "ExecuteTime": {
     "end_time": "2023-12-17T13:58:43.751925Z",
     "start_time": "2023-12-17T13:58:43.751925Z"
    },
    "hidden": true
   },
   "outputs": [],
   "source": [
    "q1 = df3['vendas_semanais'].quantile(0.25)\n",
    "q3 = df3['vendas_semanais'].quantile(0.75)"
   ]
  },
  {
   "cell_type": "code",
   "execution_count": null,
   "id": "0ebe63ae",
   "metadata": {
    "ExecuteTime": {
     "end_time": "2023-12-17T13:58:43.758962Z",
     "start_time": "2023-12-17T13:58:43.758962Z"
    },
    "hidden": true
   },
   "outputs": [],
   "source": [
    "iqr = q3 - q1\n",
    "iqr"
   ]
  },
  {
   "cell_type": "code",
   "execution_count": null,
   "id": "8e7e83cc",
   "metadata": {
    "ExecuteTime": {
     "end_time": "2023-12-17T13:58:43.765569Z",
     "start_time": "2023-12-17T13:58:43.764574Z"
    },
    "hidden": true
   },
   "outputs": [],
   "source": [
    "limite_superior = q3 + 1.5 * iqr\n",
    "limite_inferior = q1 - 1.5 * iqr"
   ]
  },
  {
   "cell_type": "code",
   "execution_count": null,
   "id": "6e5acb14",
   "metadata": {
    "ExecuteTime": {
     "end_time": "2023-12-17T13:58:43.773207Z",
     "start_time": "2023-12-17T13:58:43.773207Z"
    },
    "hidden": true
   },
   "outputs": [],
   "source": [
    "limite_superior"
   ]
  },
  {
   "cell_type": "code",
   "execution_count": null,
   "id": "dd1809f5",
   "metadata": {
    "ExecuteTime": {
     "end_time": "2023-12-17T13:58:43.781802Z",
     "start_time": "2023-12-17T13:58:43.781802Z"
    },
    "hidden": true
   },
   "outputs": [],
   "source": [
    "limite_inferior"
   ]
  },
  {
   "cell_type": "code",
   "execution_count": null,
   "id": "e0f31edb",
   "metadata": {
    "ExecuteTime": {
     "end_time": "2023-12-17T13:58:43.795504Z",
     "start_time": "2023-12-17T13:58:43.795504Z"
    },
    "hidden": true
   },
   "outputs": [],
   "source": [
    "df3.loc[df3['vendas_semanais'] < 0, :]"
   ]
  },
  {
   "cell_type": "markdown",
   "id": "5c8542cb",
   "metadata": {
    "heading_collapsed": true
   },
   "source": [
    "### 3.1.2. Tamanho da loja"
   ]
  },
  {
   "cell_type": "code",
   "execution_count": null,
   "id": "28231a4e",
   "metadata": {
    "ExecuteTime": {
     "end_time": "2023-12-17T13:58:43.804129Z",
     "start_time": "2023-12-17T13:58:43.803117Z"
    },
    "hidden": true
   },
   "outputs": [],
   "source": [
    "maximo = int(df3['tamanho'].max())\n",
    "\n",
    "# Cria o gráfico\n",
    "fig = plt.figure( figsize = (8, 4))\n",
    "ax = fig.add_axes([0, 0, 1, 1])\n",
    "\n",
    "# Configura o título e os eixos\n",
    "ax.set_title('Frequência de vendas', fontsize=25)\n",
    "ax.set_xlabel('Qtde de vendas', fontsize=20)\n",
    "ax.set_ylabel('Frequência', fontsize=20)\n",
    "\n",
    "# Plota e mostra o gráfico\n",
    "ax.hist(df3['tamanho'], bins=range(0, maximo + 1001, 1000), color='midnightblue')\n",
    "plt.show()"
   ]
  },
  {
   "cell_type": "code",
   "execution_count": null,
   "id": "5120c243",
   "metadata": {
    "ExecuteTime": {
     "end_time": "2023-12-17T13:58:43.813252Z",
     "start_time": "2023-12-17T13:58:43.813252Z"
    },
    "hidden": true
   },
   "outputs": [],
   "source": [
    "# Criando o boxplot com seaborn e ajustando o tamanho da figura\n",
    "plt.figure(figsize=(20, 6))  # Defina o tamanho desejado, por exemplo, (largura, altura)\n",
    "sns.boxplot(x=df3['tamanho'])\n",
    "plt.show()"
   ]
  },
  {
   "cell_type": "code",
   "execution_count": null,
   "id": "431e3a0e",
   "metadata": {
    "ExecuteTime": {
     "end_time": "2023-12-17T13:58:43.823000Z",
     "start_time": "2023-12-17T13:58:43.823000Z"
    },
    "hidden": true
   },
   "outputs": [],
   "source": [
    "# Criando o boxplot com seaborn e ajustando o tamanho da figura\n",
    "plt.figure(figsize=(20, 6))  # Defina o tamanho desejado, por exemplo, (largura, altura)\n",
    "sns.boxplot(x='tamanho', data=aux)\n",
    "plt.show()"
   ]
  },
  {
   "cell_type": "code",
   "execution_count": null,
   "id": "772d4aa9",
   "metadata": {
    "ExecuteTime": {
     "end_time": "2023-12-17T13:58:43.832569Z",
     "start_time": "2023-12-17T13:58:43.832569Z"
    },
    "hidden": true
   },
   "outputs": [],
   "source": [
    "aux = df3.loc[df3['tamanho']!=df3['tamanho'].median(), :].reset_index()\n",
    "aux"
   ]
  },
  {
   "cell_type": "code",
   "execution_count": null,
   "id": "07f3a1ac",
   "metadata": {
    "ExecuteTime": {
     "end_time": "2023-12-17T13:58:43.843325Z",
     "start_time": "2023-12-17T13:58:43.842273Z"
    },
    "hidden": true
   },
   "outputs": [],
   "source": [
    "aux2 = df3.loc[df3['tamanho']==df3['tamanho'].median(), :].reset_index()\n",
    "aux2"
   ]
  },
  {
   "cell_type": "code",
   "execution_count": null,
   "id": "e52e3538",
   "metadata": {
    "ExecuteTime": {
     "end_time": "2023-12-17T13:58:43.848314Z",
     "start_time": "2023-12-17T13:58:43.848314Z"
    },
    "hidden": true
   },
   "outputs": [],
   "source": [
    "aux2['vendas_semanais'].std()"
   ]
  },
  {
   "cell_type": "markdown",
   "id": "0e3eedcd",
   "metadata": {},
   "source": [
    "## 3.2. Análise bivariada"
   ]
  },
  {
   "cell_type": "markdown",
   "id": "a12060a5",
   "metadata": {
    "heading_collapsed": true
   },
   "source": [
    "### 3.2.1. Vendas por sazonalidade"
   ]
  },
  {
   "cell_type": "code",
   "execution_count": null,
   "id": "c9c713eb",
   "metadata": {
    "ExecuteTime": {
     "end_time": "2023-12-17T13:58:43.854932Z",
     "start_time": "2023-12-17T13:58:43.854932Z"
    },
    "hidden": true
   },
   "outputs": [],
   "source": [
    "vendas_por_dia_da_semana = df3.groupby('week_of_year')['vendas_semanais'].sum().reset_index()\n",
    "vendas_por_dia_da_semana.head()\n",
    "\n",
    "# Cria o gráfico\n",
    "fig = plt.figure(figsize=(20,5))\n",
    "ax = fig.add_axes([0,0,1,1])\n",
    "\n",
    "# Define a lista de cores e destaca a maior\n",
    "colors = ['midnightblue']*7\n",
    "max_sales_idx = np.argmax(vendas_por_dia_da_semana['vendas_semanais'])\n",
    "\n",
    "# Configura o título e os eixos\n",
    "ax.set_title('Vendas por semana', fontsize=25, pad=10)\n",
    "ax.set_xlabel('Semana', fontsize=20)\n",
    "ax.set_ylabel('$ vendas semanais', fontsize=20)\n",
    "\n",
    "# Plota e mostra o gráfico\n",
    "ax.bar(vendas_por_dia_da_semana['week_of_year'], vendas_por_dia_da_semana['vendas_semanais'])\n",
    "plt.show()"
   ]
  },
  {
   "cell_type": "markdown",
   "id": "9d20da49",
   "metadata": {
    "heading_collapsed": true
   },
   "source": [
    "### 3.2.2. Vendas por tipo"
   ]
  },
  {
   "cell_type": "code",
   "execution_count": null,
   "id": "d388fbf8",
   "metadata": {
    "ExecuteTime": {
     "end_time": "2023-12-17T13:58:43.859916Z",
     "start_time": "2023-12-17T13:58:43.859916Z"
    },
    "hidden": true
   },
   "outputs": [],
   "source": [
    "vendas_por_tipo = df2.loc[:, :].groupby('tipo').sum().reset_index()\n",
    "vendas_por_tipo.head()\n",
    "\n",
    "# Cria o gráfico\n",
    "fig = plt.figure(figsize=(20,5))\n",
    "ax = fig.add_axes([0,0,1,1])\n",
    "\n",
    "# Define a lista de cores e destaca a maior\n",
    "colors = ['midnightblue']*7\n",
    "max_sales_idx = np.argmax(vendas_por_tipo['vendas_semanais'])\n",
    "\n",
    "# Configura o título e os eixos\n",
    "ax.set_title('Vendas por tipo', fontsize=25, pad=10)\n",
    "ax.set_xlabel('Tipo', fontsize=20)\n",
    "ax.set_ylabel('$ vendas semanais', fontsize=20)\n",
    "\n",
    "# Plota e mostra o gráfico\n",
    "ax.bar(vendas_por_tipo['tipo'], vendas_por_tipo['vendas_semanais'])\n",
    "plt.show()"
   ]
  },
  {
   "cell_type": "markdown",
   "id": "cc627fc9",
   "metadata": {},
   "source": [
    "### 3.2.3. Vendas por setor"
   ]
  },
  {
   "cell_type": "code",
   "execution_count": null,
   "id": "965463b4",
   "metadata": {
    "ExecuteTime": {
     "end_time": "2023-12-17T13:58:43.864498Z",
     "start_time": "2023-12-17T13:58:43.864498Z"
    }
   },
   "outputs": [],
   "source": [
    "df3['setor'].nunique()"
   ]
  },
  {
   "cell_type": "code",
   "execution_count": null,
   "id": "c9e3ab57",
   "metadata": {
    "ExecuteTime": {
     "end_time": "2023-12-17T13:58:43.871078Z",
     "start_time": "2023-12-17T13:58:43.871078Z"
    }
   },
   "outputs": [],
   "source": [
    "vendas_por_setor = df2.loc[:, :].groupby('setor').sum().reset_index()\n",
    "vendas_por_setor.head()\n",
    "\n",
    "# Cria o gráfico\n",
    "fig = plt.figure(figsize=(20,5))\n",
    "ax = fig.add_axes([0,0,1,1])\n",
    "\n",
    "# Define a lista de cores e destaca a maior\n",
    "colors = ['midnightblue']*7\n",
    "max_sales_idx = np.argmax(vendas_por_setor['vendas_semanais'])\n",
    "\n",
    "# Configura o título e os eixos\n",
    "ax.set_title('Vendas por setor', fontsize=25, pad=10)\n",
    "ax.set_xlabel('Setor', fontsize=20)\n",
    "ax.set_ylabel('$ vendas semanais', fontsize=20)\n",
    "\n",
    "# Plota e mostra o gráfico\n",
    "ax.bar(vendas_por_setor['setor'], vendas_por_setor['vendas_semanais'])\n",
    "plt.show()"
   ]
  },
  {
   "cell_type": "markdown",
   "id": "0d179b42",
   "metadata": {},
   "source": [
    "### 3.2.4. Vendas semanais por setor"
   ]
  },
  {
   "cell_type": "code",
   "execution_count": null,
   "id": "0c813eee",
   "metadata": {},
   "outputs": [],
   "source": []
  },
  {
   "cell_type": "markdown",
   "id": "925651cc",
   "metadata": {},
   "source": [
    "## 3.1. Análise Multivariada"
   ]
  },
  {
   "cell_type": "markdown",
   "id": "63619a99",
   "metadata": {},
   "source": [
    "### 3.1.1. Profile"
   ]
  },
  {
   "cell_type": "code",
   "execution_count": null,
   "id": "373c35a2",
   "metadata": {
    "ExecuteTime": {
     "end_time": "2023-12-17T13:58:43.877107Z",
     "start_time": "2023-12-17T13:58:43.877107Z"
    }
   },
   "outputs": [],
   "source": [
    "profile = ydata_profiling.ProfileReport(df3, minimal=False)\n",
    "\n",
    "profile = df3.profile_report(\n",
    "    correlations={\n",
    "        \"pearson\": {\"calculate\": True},\n",
    "        \"spearman\": {\"calculate\": True},\n",
    "        \"kendall\": {\"calculate\": True},\n",
    "        \"cramers\": {\"calculate\": True},\n",
    "        \"phi_k\": {\"calculate\": False},\n",
    "    },)"
   ]
  },
  {
   "cell_type": "code",
   "execution_count": null,
   "id": "90af28ff",
   "metadata": {
    "ExecuteTime": {
     "end_time": "2023-12-17T13:58:43.884724Z",
     "start_time": "2023-12-17T13:58:43.884724Z"
    }
   },
   "outputs": [],
   "source": [
    "#profile"
   ]
  },
  {
   "cell_type": "markdown",
   "id": "d5e14dbc",
   "metadata": {
    "heading_collapsed": true
   },
   "source": [
    "### 3.1.2. HeatMap"
   ]
  },
  {
   "cell_type": "code",
   "execution_count": null,
   "id": "48108280",
   "metadata": {
    "ExecuteTime": {
     "end_time": "2023-12-16T16:40:35.911907Z",
     "start_time": "2023-12-16T16:40:35.893821Z"
    },
    "hidden": true
   },
   "outputs": [],
   "source": []
  },
  {
   "cell_type": "code",
   "execution_count": null,
   "id": "5ff3f8e5",
   "metadata": {
    "ExecuteTime": {
     "end_time": "2023-12-17T13:58:43.891266Z",
     "start_time": "2023-12-17T13:58:43.891266Z"
    },
    "hidden": true
   },
   "outputs": [],
   "source": [
    "# Criar o mapa de calor\n",
    "corr = df3.corr(method='pearson')\n",
    "fig, ax = plt.subplots(figsize=(16, 11))\n",
    "\n",
    "# Configura o título e os eixos\n",
    "ax.set_title('Mapa de calor', fontsize=25)\n",
    "ax.set_xticklabels(ax.get_xticklabels(), fontsize=15)\n",
    "ax.set_yticklabels(ax.get_yticklabels(), fontsize=15)\n",
    "\n",
    "# Plota e mostra o gráfico\n",
    "ax = sns.heatmap(corr, annot=True, cmap='Reds', ax=ax)\n",
    "plt.show()"
   ]
  },
  {
   "cell_type": "markdown",
   "id": "09f5b386",
   "metadata": {},
   "source": [
    "# 4. DATA PREPARATION"
   ]
  },
  {
   "cell_type": "markdown",
   "id": "67ccbe11",
   "metadata": {
    "heading_collapsed": true
   },
   "source": [
    "# 5. FEATURE SELECTION"
   ]
  },
  {
   "cell_type": "markdown",
   "id": "292ef5c5",
   "metadata": {
    "hidden": true
   },
   "source": [
    "## 5.1. Split dataframe into training and test"
   ]
  },
  {
   "cell_type": "markdown",
   "id": "e7da9870",
   "metadata": {
    "heading_collapsed": true
   },
   "source": [
    "# 6. MACHINE LEARNING MODELING"
   ]
  },
  {
   "cell_type": "markdown",
   "id": "13aa8cb3",
   "metadata": {
    "hidden": true
   },
   "source": [
    "## 6.1. Treinar, testar e medir"
   ]
  },
  {
   "cell_type": "markdown",
   "id": "6ed53368",
   "metadata": {
    "hidden": true
   },
   "source": [
    "## 6.2. Validar métricas"
   ]
  },
  {
   "cell_type": "markdown",
   "id": "f1592886",
   "metadata": {
    "heading_collapsed": true
   },
   "source": [
    "# 7. ERROR TRANSLATION AND INTERPRETATION"
   ]
  },
  {
   "cell_type": "markdown",
   "id": "da232729",
   "metadata": {
    "heading_collapsed": true
   },
   "source": [
    "# 8. DEPLOY / SUBMISSION"
   ]
  }
 ],
 "metadata": {
  "kernelspec": {
   "display_name": "Python 3 (ipykernel)",
   "language": "python",
   "name": "python3"
  },
  "language_info": {
   "codemirror_mode": {
    "name": "ipython",
    "version": 3
   },
   "file_extension": ".py",
   "mimetype": "text/x-python",
   "name": "python",
   "nbconvert_exporter": "python",
   "pygments_lexer": "ipython3",
   "version": "3.9.12"
  }
 },
 "nbformat": 4,
 "nbformat_minor": 5
}
