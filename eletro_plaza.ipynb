{
 "cells": [
  {
   "cell_type": "markdown",
   "id": "69186dba",
   "metadata": {
    "heading_collapsed": true
   },
   "source": [
    "# 0.IMPORTS"
   ]
  },
  {
   "cell_type": "markdown",
   "id": "a8674d8b",
   "metadata": {
    "heading_collapsed": true,
    "hidden": true
   },
   "source": [
    "## 0.1. Importing libraries"
   ]
  },
  {
   "cell_type": "code",
   "execution_count": 1,
   "id": "9da84dc9",
   "metadata": {
    "ExecuteTime": {
     "end_time": "2023-12-16T15:22:12.884690Z",
     "start_time": "2023-12-16T15:22:12.866163Z"
    },
    "hidden": true
   },
   "outputs": [],
   "source": [
    "import pandas as pd\n",
    "import math"
   ]
  },
  {
   "cell_type": "markdown",
   "id": "febea0be",
   "metadata": {
    "heading_collapsed": true,
    "hidden": true
   },
   "source": [
    "## 0.2. Loading data"
   ]
  },
  {
   "cell_type": "code",
   "execution_count": 3,
   "id": "829757da",
   "metadata": {
    "ExecuteTime": {
     "end_time": "2023-12-16T14:15:54.348299Z",
     "start_time": "2023-12-16T14:15:54.036411Z"
    },
    "hidden": true
   },
   "outputs": [],
   "source": [
    "stores         = pd.read_csv('test-hackday-7/stores.csv', low_memory=False)\n",
    "train          = pd.read_csv('test-hackday-7/train.csv', low_memory=False)\n",
    "train_features = pd.read_csv('test-hackday-7/train_features.csv', low_memory=False)\n",
    "\n",
    "#test = pd.read_csv('datasets/test.csv', low_memory=False)\n",
    "#test_features = pd.read_csv('datasets/test_features.csv', low_memory=False)"
   ]
  },
  {
   "cell_type": "code",
   "execution_count": 4,
   "id": "0c5c5eb8",
   "metadata": {
    "ExecuteTime": {
     "end_time": "2023-12-16T15:49:25.563171Z",
     "start_time": "2023-12-16T15:49:25.496834Z"
    },
    "hidden": true
   },
   "outputs": [
    {
     "data": {
      "text/html": [
       "<div>\n",
       "<style scoped>\n",
       "    .dataframe tbody tr th:only-of-type {\n",
       "        vertical-align: middle;\n",
       "    }\n",
       "\n",
       "    .dataframe tbody tr th {\n",
       "        vertical-align: top;\n",
       "    }\n",
       "\n",
       "    .dataframe thead th {\n",
       "        text-align: right;\n",
       "    }\n",
       "</style>\n",
       "<table border=\"1\" class=\"dataframe\">\n",
       "  <thead>\n",
       "    <tr style=\"text-align: right;\">\n",
       "      <th></th>\n",
       "      <th>loja</th>\n",
       "      <th>data</th>\n",
       "      <th>temperatura</th>\n",
       "      <th>combustivel</th>\n",
       "      <th>desconto_1</th>\n",
       "      <th>desconto_2</th>\n",
       "      <th>desconto_3</th>\n",
       "      <th>desconto_4</th>\n",
       "      <th>desconto_5</th>\n",
       "      <th>desemprego</th>\n",
       "      <th>feriado</th>\n",
       "      <th>distancia_competidores</th>\n",
       "      <th>clientes</th>\n",
       "    </tr>\n",
       "  </thead>\n",
       "  <tbody>\n",
       "    <tr>\n",
       "      <th>0</th>\n",
       "      <td>4</td>\n",
       "      <td>01-07</td>\n",
       "      <td>4.077778</td>\n",
       "      <td>2.980</td>\n",
       "      <td>NaN</td>\n",
       "      <td>NaN</td>\n",
       "      <td>NaN</td>\n",
       "      <td>NaN</td>\n",
       "      <td>NaN</td>\n",
       "      <td>0.06510</td>\n",
       "      <td>nao</td>\n",
       "      <td>NaN</td>\n",
       "      <td>216</td>\n",
       "    </tr>\n",
       "    <tr>\n",
       "      <th>1</th>\n",
       "      <td>32</td>\n",
       "      <td>01-07</td>\n",
       "      <td>NaN</td>\n",
       "      <td>NaN</td>\n",
       "      <td>NaN</td>\n",
       "      <td>NaN</td>\n",
       "      <td>NaN</td>\n",
       "      <td>NaN</td>\n",
       "      <td>NaN</td>\n",
       "      <td>0.08818</td>\n",
       "      <td>nao</td>\n",
       "      <td>NaN</td>\n",
       "      <td>3</td>\n",
       "    </tr>\n",
       "    <tr>\n",
       "      <th>2</th>\n",
       "      <td>1</td>\n",
       "      <td>01-07</td>\n",
       "      <td>9.038889</td>\n",
       "      <td>2.976</td>\n",
       "      <td>NaN</td>\n",
       "      <td>NaN</td>\n",
       "      <td>NaN</td>\n",
       "      <td>NaN</td>\n",
       "      <td>NaN</td>\n",
       "      <td>0.07742</td>\n",
       "      <td>nao</td>\n",
       "      <td>NaN</td>\n",
       "      <td>160</td>\n",
       "    </tr>\n",
       "    <tr>\n",
       "      <th>3</th>\n",
       "      <td>7</td>\n",
       "      <td>01-07</td>\n",
       "      <td>NaN</td>\n",
       "      <td>NaN</td>\n",
       "      <td>NaN</td>\n",
       "      <td>NaN</td>\n",
       "      <td>NaN</td>\n",
       "      <td>NaN</td>\n",
       "      <td>NaN</td>\n",
       "      <td>0.08818</td>\n",
       "      <td>nao</td>\n",
       "      <td>NaN</td>\n",
       "      <td>739</td>\n",
       "    </tr>\n",
       "    <tr>\n",
       "      <th>4</th>\n",
       "      <td>43</td>\n",
       "      <td>01-07</td>\n",
       "      <td>4.705556</td>\n",
       "      <td>NaN</td>\n",
       "      <td>NaN</td>\n",
       "      <td>NaN</td>\n",
       "      <td>NaN</td>\n",
       "      <td>NaN</td>\n",
       "      <td>NaN</td>\n",
       "      <td>0.10398</td>\n",
       "      <td>nao</td>\n",
       "      <td>NaN</td>\n",
       "      <td>998</td>\n",
       "    </tr>\n",
       "  </tbody>\n",
       "</table>\n",
       "</div>"
      ],
      "text/plain": [
       "   loja   data  temperatura  combustivel  desconto_1  desconto_2  desconto_3  \\\n",
       "0     4  01-07     4.077778        2.980         NaN         NaN         NaN   \n",
       "1    32  01-07          NaN          NaN         NaN         NaN         NaN   \n",
       "2     1  01-07     9.038889        2.976         NaN         NaN         NaN   \n",
       "3     7  01-07          NaN          NaN         NaN         NaN         NaN   \n",
       "4    43  01-07     4.705556          NaN         NaN         NaN         NaN   \n",
       "\n",
       "   desconto_4  desconto_5  desemprego feriado  distancia_competidores  \\\n",
       "0         NaN         NaN     0.06510     nao                     NaN   \n",
       "1         NaN         NaN     0.08818     nao                     NaN   \n",
       "2         NaN         NaN     0.07742     nao                     NaN   \n",
       "3         NaN         NaN     0.08818     nao                     NaN   \n",
       "4         NaN         NaN     0.10398     nao                     NaN   \n",
       "\n",
       "   clientes  \n",
       "0       216  \n",
       "1         3  \n",
       "2       160  \n",
       "3       739  \n",
       "4       998  "
      ]
     },
     "execution_count": 4,
     "metadata": {},
     "output_type": "execute_result"
    }
   ],
   "source": [
    "train_features.head()"
   ]
  },
  {
   "cell_type": "markdown",
   "id": "acce6690",
   "metadata": {
    "heading_collapsed": true,
    "hidden": true
   },
   "source": [
    "## 0.3. Helper functions"
   ]
  },
  {
   "cell_type": "code",
   "execution_count": 5,
   "id": "8bd08cb2",
   "metadata": {
    "ExecuteTime": {
     "end_time": "2023-12-16T13:37:43.016722Z",
     "start_time": "2023-12-16T13:37:42.989531Z"
    },
    "hidden": true
   },
   "outputs": [],
   "source": [
    "# Função para renomear as colunas do dataframe\n",
    "def rename_columns(cols):\n",
    "    cols = list(map(lambda x: inflection.titleize(x), cols))\n",
    "    cols = list(map(lambda x: x.replace(\" \", \"\"), cols))\n",
    "    cols = list(map(lambda x: x.replace(\".\", \"\"), cols))\n",
    "    cols = list(map(lambda x: inflection.underscore(x), cols))\n",
    "    return cols\n",
    "\n",
    "# Função que retorna uma tabela de únicos e suas respectivas quantidades\n",
    "def tab_unique(df):\n",
    "    tab_unicos = pd.DataFrame(df.nunique())\n",
    "    tab_unicos.columns= ['count']\n",
    "    tab_unicos['content'] = df.apply(lambda x: x.unique())\n",
    "    return tab_unicos"
   ]
  },
  {
   "cell_type": "markdown",
   "id": "43bf9d5f",
   "metadata": {
    "hidden": true
   },
   "source": [
    "## 0.4. Dicionário de dados"
   ]
  },
  {
   "cell_type": "markdown",
   "id": "fb7a4ef5",
   "metadata": {
    "heading_collapsed": true
   },
   "source": [
    "# 1. DATA DESCRIPTION"
   ]
  },
  {
   "cell_type": "markdown",
   "id": "b98764f8",
   "metadata": {
    "heading_collapsed": true,
    "hidden": true
   },
   "source": [
    "## 1.1. Unir tabelas"
   ]
  },
  {
   "cell_type": "code",
   "execution_count": 6,
   "id": "b239ebcf",
   "metadata": {
    "ExecuteTime": {
     "end_time": "2023-12-16T15:56:37.800932Z",
     "start_time": "2023-12-16T15:56:37.617435Z"
    },
    "hidden": true
   },
   "outputs": [],
   "source": [
    "df = pd.merge(train, stores, on='loja', how='inner')"
   ]
  },
  {
   "cell_type": "code",
   "execution_count": 7,
   "id": "b0cf6a86",
   "metadata": {
    "ExecuteTime": {
     "end_time": "2023-12-16T15:57:28.990649Z",
     "start_time": "2023-12-16T15:57:28.803788Z"
    },
    "hidden": true
   },
   "outputs": [],
   "source": [
    "df1 = pd.merge(df, train_features, on=['loja', 'data', 'feriado'], how='inner')"
   ]
  },
  {
   "cell_type": "markdown",
   "id": "6991e19f",
   "metadata": {
    "heading_collapsed": true,
    "hidden": true
   },
   "source": [
    "## 1.2. Data Dimensions"
   ]
  },
  {
   "cell_type": "code",
   "execution_count": 8,
   "id": "7aafca3d",
   "metadata": {
    "ExecuteTime": {
     "end_time": "2023-12-16T14:31:40.706654Z",
     "start_time": "2023-12-16T14:31:40.633465Z"
    },
    "hidden": true
   },
   "outputs": [
    {
     "data": {
      "text/html": [
       "<div>\n",
       "<style scoped>\n",
       "    .dataframe tbody tr th:only-of-type {\n",
       "        vertical-align: middle;\n",
       "    }\n",
       "\n",
       "    .dataframe tbody tr th {\n",
       "        vertical-align: top;\n",
       "    }\n",
       "\n",
       "    .dataframe thead th {\n",
       "        text-align: right;\n",
       "    }\n",
       "</style>\n",
       "<table border=\"1\" class=\"dataframe\">\n",
       "  <thead>\n",
       "    <tr style=\"text-align: right;\">\n",
       "      <th></th>\n",
       "      <th>id</th>\n",
       "      <th>loja</th>\n",
       "      <th>setor</th>\n",
       "      <th>data</th>\n",
       "      <th>vendas_semanais</th>\n",
       "      <th>feriado</th>\n",
       "      <th>tipo</th>\n",
       "      <th>tamanho</th>\n",
       "      <th>temperatura</th>\n",
       "      <th>combustivel</th>\n",
       "      <th>desconto_1</th>\n",
       "      <th>desconto_2</th>\n",
       "      <th>desconto_3</th>\n",
       "      <th>desconto_4</th>\n",
       "      <th>desconto_5</th>\n",
       "      <th>desemprego</th>\n",
       "      <th>distancia_competidores</th>\n",
       "      <th>clientes</th>\n",
       "    </tr>\n",
       "  </thead>\n",
       "  <tbody>\n",
       "    <tr>\n",
       "      <th>0</th>\n",
       "      <td>140679</td>\n",
       "      <td>17</td>\n",
       "      <td>93</td>\n",
       "      <td>01-07</td>\n",
       "      <td>6283.00</td>\n",
       "      <td>nao</td>\n",
       "      <td>eletronico</td>\n",
       "      <td>93188.0</td>\n",
       "      <td>-14.316667</td>\n",
       "      <td>2.891</td>\n",
       "      <td>NaN</td>\n",
       "      <td>NaN</td>\n",
       "      <td>NaN</td>\n",
       "      <td>NaN</td>\n",
       "      <td>NaN</td>\n",
       "      <td>0.06866</td>\n",
       "      <td>NaN</td>\n",
       "      <td>541</td>\n",
       "    </tr>\n",
       "    <tr>\n",
       "      <th>1</th>\n",
       "      <td>140696</td>\n",
       "      <td>17</td>\n",
       "      <td>16</td>\n",
       "      <td>01-07</td>\n",
       "      <td>1641.25</td>\n",
       "      <td>nao</td>\n",
       "      <td>eletronico</td>\n",
       "      <td>93188.0</td>\n",
       "      <td>-14.316667</td>\n",
       "      <td>2.891</td>\n",
       "      <td>NaN</td>\n",
       "      <td>NaN</td>\n",
       "      <td>NaN</td>\n",
       "      <td>NaN</td>\n",
       "      <td>NaN</td>\n",
       "      <td>0.06866</td>\n",
       "      <td>NaN</td>\n",
       "      <td>541</td>\n",
       "    </tr>\n",
       "    <tr>\n",
       "      <th>2</th>\n",
       "      <td>140701</td>\n",
       "      <td>17</td>\n",
       "      <td>4</td>\n",
       "      <td>01-07</td>\n",
       "      <td>39775.45</td>\n",
       "      <td>nao</td>\n",
       "      <td>eletronico</td>\n",
       "      <td>93188.0</td>\n",
       "      <td>-14.316667</td>\n",
       "      <td>2.891</td>\n",
       "      <td>NaN</td>\n",
       "      <td>NaN</td>\n",
       "      <td>NaN</td>\n",
       "      <td>NaN</td>\n",
       "      <td>NaN</td>\n",
       "      <td>0.06866</td>\n",
       "      <td>NaN</td>\n",
       "      <td>541</td>\n",
       "    </tr>\n",
       "    <tr>\n",
       "      <th>3</th>\n",
       "      <td>140733</td>\n",
       "      <td>17</td>\n",
       "      <td>14</td>\n",
       "      <td>01-07</td>\n",
       "      <td>29555.43</td>\n",
       "      <td>nao</td>\n",
       "      <td>eletronico</td>\n",
       "      <td>93188.0</td>\n",
       "      <td>-14.316667</td>\n",
       "      <td>2.891</td>\n",
       "      <td>NaN</td>\n",
       "      <td>NaN</td>\n",
       "      <td>NaN</td>\n",
       "      <td>NaN</td>\n",
       "      <td>NaN</td>\n",
       "      <td>0.06866</td>\n",
       "      <td>NaN</td>\n",
       "      <td>541</td>\n",
       "    </tr>\n",
       "    <tr>\n",
       "      <th>4</th>\n",
       "      <td>140742</td>\n",
       "      <td>17</td>\n",
       "      <td>48</td>\n",
       "      <td>01-07</td>\n",
       "      <td>414.00</td>\n",
       "      <td>nao</td>\n",
       "      <td>eletronico</td>\n",
       "      <td>93188.0</td>\n",
       "      <td>-14.316667</td>\n",
       "      <td>2.891</td>\n",
       "      <td>NaN</td>\n",
       "      <td>NaN</td>\n",
       "      <td>NaN</td>\n",
       "      <td>NaN</td>\n",
       "      <td>NaN</td>\n",
       "      <td>0.06866</td>\n",
       "      <td>NaN</td>\n",
       "      <td>541</td>\n",
       "    </tr>\n",
       "  </tbody>\n",
       "</table>\n",
       "</div>"
      ],
      "text/plain": [
       "       id  loja  setor   data  vendas_semanais feriado        tipo  tamanho  \\\n",
       "0  140679    17     93  01-07          6283.00     nao  eletronico  93188.0   \n",
       "1  140696    17     16  01-07          1641.25     nao  eletronico  93188.0   \n",
       "2  140701    17      4  01-07         39775.45     nao  eletronico  93188.0   \n",
       "3  140733    17     14  01-07         29555.43     nao  eletronico  93188.0   \n",
       "4  140742    17     48  01-07           414.00     nao  eletronico  93188.0   \n",
       "\n",
       "   temperatura  combustivel  desconto_1  desconto_2  desconto_3  desconto_4  \\\n",
       "0   -14.316667        2.891         NaN         NaN         NaN         NaN   \n",
       "1   -14.316667        2.891         NaN         NaN         NaN         NaN   \n",
       "2   -14.316667        2.891         NaN         NaN         NaN         NaN   \n",
       "3   -14.316667        2.891         NaN         NaN         NaN         NaN   \n",
       "4   -14.316667        2.891         NaN         NaN         NaN         NaN   \n",
       "\n",
       "   desconto_5  desemprego  distancia_competidores  clientes  \n",
       "0         NaN     0.06866                     NaN       541  \n",
       "1         NaN     0.06866                     NaN       541  \n",
       "2         NaN     0.06866                     NaN       541  \n",
       "3         NaN     0.06866                     NaN       541  \n",
       "4         NaN     0.06866                     NaN       541  "
      ]
     },
     "execution_count": 8,
     "metadata": {},
     "output_type": "execute_result"
    }
   ],
   "source": [
    "df1.head()"
   ]
  },
  {
   "cell_type": "code",
   "execution_count": 9,
   "id": "73a0f62d",
   "metadata": {
    "ExecuteTime": {
     "end_time": "2023-12-16T14:33:01.041136Z",
     "start_time": "2023-12-16T14:33:01.013785Z"
    },
    "hidden": true
   },
   "outputs": [
    {
     "name": "stdout",
     "output_type": "stream",
     "text": [
      "Quantidade de linhas: 135,385\n",
      "Quantidade de colunas: 18\n"
     ]
    }
   ],
   "source": [
    "print('Quantidade de linhas: {:,}'.format(df1.shape[0]))\n",
    "print('Quantidade de colunas: {:,}'.format(df1.shape[1]))"
   ]
  },
  {
   "cell_type": "markdown",
   "id": "d6b23fde",
   "metadata": {
    "heading_collapsed": true,
    "hidden": true
   },
   "source": [
    "## 1.3. Check NA's"
   ]
  },
  {
   "cell_type": "code",
   "execution_count": 10,
   "id": "67b66943",
   "metadata": {
    "ExecuteTime": {
     "end_time": "2023-12-16T14:31:10.489668Z",
     "start_time": "2023-12-16T14:30:57.941082Z"
    },
    "hidden": true
   },
   "outputs": [
    {
     "data": {
      "text/plain": [
       "id                             0\n",
       "loja                           0\n",
       "setor                          0\n",
       "data                           0\n",
       "vendas_semanais            12862\n",
       "feriado                        0\n",
       "tipo                           0\n",
       "tamanho                    33327\n",
       "temperatura                47945\n",
       "combustivel                52989\n",
       "desconto_1                129459\n",
       "desconto_2                129510\n",
       "desconto_3                129746\n",
       "desconto_4                130184\n",
       "desconto_5                129459\n",
       "desemprego                     0\n",
       "distancia_competidores    129459\n",
       "clientes                       0\n",
       "dtype: int64"
      ]
     },
     "execution_count": 10,
     "metadata": {},
     "output_type": "execute_result"
    }
   ],
   "source": [
    "df1.isna().sum()"
   ]
  },
  {
   "cell_type": "code",
   "execution_count": 11,
   "id": "b063df39",
   "metadata": {
    "ExecuteTime": {
     "end_time": "2023-12-16T14:42:24.099169Z",
     "start_time": "2023-12-16T14:42:24.071338Z"
    },
    "hidden": true
   },
   "outputs": [
    {
     "data": {
      "text/plain": [
       "loja        0\n",
       "tipo        0\n",
       "tamanho    11\n",
       "dtype: int64"
      ]
     },
     "execution_count": 11,
     "metadata": {},
     "output_type": "execute_result"
    }
   ],
   "source": [
    "stores.isna().sum()"
   ]
  },
  {
   "cell_type": "code",
   "execution_count": 12,
   "id": "415eb6b7",
   "metadata": {
    "ExecuteTime": {
     "end_time": "2023-12-16T14:43:15.600884Z",
     "start_time": "2023-12-16T14:43:15.566803Z"
    },
    "hidden": true
   },
   "outputs": [
    {
     "data": {
      "text/plain": [
       "45"
      ]
     },
     "execution_count": 12,
     "metadata": {},
     "output_type": "execute_result"
    }
   ],
   "source": [
    "stores['loja'].nunique()"
   ]
  },
  {
   "cell_type": "markdown",
   "id": "707b2aff",
   "metadata": {
    "heading_collapsed": true,
    "hidden": true
   },
   "source": [
    "## 1.4. Data Types"
   ]
  },
  {
   "cell_type": "code",
   "execution_count": null,
   "id": "f9dbd42e",
   "metadata": {
    "hidden": true
   },
   "outputs": [],
   "source": []
  },
  {
   "cell_type": "markdown",
   "id": "6130c6f6",
   "metadata": {
    "hidden": true
   },
   "source": [
    "## 1.5. Check duplicated"
   ]
  },
  {
   "cell_type": "markdown",
   "id": "faef121f",
   "metadata": {
    "hidden": true
   },
   "source": [
    "## 1.6. Datetime"
   ]
  },
  {
   "cell_type": "markdown",
   "id": "78e5c9a6",
   "metadata": {},
   "source": [
    "# 2. TRATAMENTO E FEATURE ENGINEERING"
   ]
  },
  {
   "cell_type": "code",
   "execution_count": 13,
   "id": "d9a8c866",
   "metadata": {
    "ExecuteTime": {
     "end_time": "2023-12-16T16:00:36.795265Z",
     "start_time": "2023-12-16T16:00:36.746468Z"
    }
   },
   "outputs": [],
   "source": [
    "df2 = df1.copy()"
   ]
  },
  {
   "cell_type": "markdown",
   "id": "5eb472cf",
   "metadata": {},
   "source": [
    "## 2.1. Criação das Hipóteses"
   ]
  },
  {
   "cell_type": "markdown",
   "id": "4c06f728",
   "metadata": {},
   "source": [
    "## 2.2. Transformar e converter"
   ]
  },
  {
   "cell_type": "markdown",
   "id": "99fb7da3",
   "metadata": {
    "heading_collapsed": true
   },
   "source": [
    "### 2.2.1. Excluir os registros com vendas semanais nula"
   ]
  },
  {
   "cell_type": "code",
   "execution_count": 14,
   "id": "030c36f4",
   "metadata": {
    "ExecuteTime": {
     "end_time": "2023-12-16T16:00:42.103717Z",
     "start_time": "2023-12-16T16:00:42.010760Z"
    },
    "hidden": true
   },
   "outputs": [],
   "source": [
    "reg_faltantes = df2.loc[df2['vendas_semanais'].isna(), :].index\n",
    "df2.drop(reg_faltantes, axis=0, inplace=True)"
   ]
  },
  {
   "cell_type": "code",
   "execution_count": 15,
   "id": "0ed7fed9",
   "metadata": {
    "ExecuteTime": {
     "end_time": "2023-12-16T16:00:44.236561Z",
     "start_time": "2023-12-16T16:00:44.152201Z"
    },
    "hidden": true
   },
   "outputs": [
    {
     "data": {
      "text/html": [
       "<div>\n",
       "<style scoped>\n",
       "    .dataframe tbody tr th:only-of-type {\n",
       "        vertical-align: middle;\n",
       "    }\n",
       "\n",
       "    .dataframe tbody tr th {\n",
       "        vertical-align: top;\n",
       "    }\n",
       "\n",
       "    .dataframe thead th {\n",
       "        text-align: right;\n",
       "    }\n",
       "</style>\n",
       "<table border=\"1\" class=\"dataframe\">\n",
       "  <thead>\n",
       "    <tr style=\"text-align: right;\">\n",
       "      <th></th>\n",
       "      <th>id</th>\n",
       "      <th>loja</th>\n",
       "      <th>setor</th>\n",
       "      <th>data</th>\n",
       "      <th>vendas_semanais</th>\n",
       "      <th>feriado</th>\n",
       "      <th>tipo</th>\n",
       "      <th>tamanho</th>\n",
       "      <th>temperatura</th>\n",
       "      <th>combustivel</th>\n",
       "      <th>desconto_1</th>\n",
       "      <th>desconto_2</th>\n",
       "      <th>desconto_3</th>\n",
       "      <th>desconto_4</th>\n",
       "      <th>desconto_5</th>\n",
       "      <th>desemprego</th>\n",
       "      <th>distancia_competidores</th>\n",
       "      <th>clientes</th>\n",
       "    </tr>\n",
       "  </thead>\n",
       "  <tbody>\n",
       "    <tr>\n",
       "      <th>122518</th>\n",
       "      <td>275307</td>\n",
       "      <td>33</td>\n",
       "      <td>90</td>\n",
       "      <td>11-18</td>\n",
       "      <td>23462.71</td>\n",
       "      <td>nao</td>\n",
       "      <td>eletrodomestico</td>\n",
       "      <td>39690.0</td>\n",
       "      <td>NaN</td>\n",
       "      <td>3.669</td>\n",
       "      <td>86.59</td>\n",
       "      <td>6.0</td>\n",
       "      <td>NaN</td>\n",
       "      <td>NaN</td>\n",
       "      <td>3220.86</td>\n",
       "      <td>0.0801</td>\n",
       "      <td>1952.0</td>\n",
       "      <td>156</td>\n",
       "    </tr>\n",
       "    <tr>\n",
       "      <th>122519</th>\n",
       "      <td>275374</td>\n",
       "      <td>33</td>\n",
       "      <td>96</td>\n",
       "      <td>11-18</td>\n",
       "      <td>10445.16</td>\n",
       "      <td>nao</td>\n",
       "      <td>eletrodomestico</td>\n",
       "      <td>39690.0</td>\n",
       "      <td>NaN</td>\n",
       "      <td>3.669</td>\n",
       "      <td>86.59</td>\n",
       "      <td>6.0</td>\n",
       "      <td>NaN</td>\n",
       "      <td>NaN</td>\n",
       "      <td>3220.86</td>\n",
       "      <td>0.0801</td>\n",
       "      <td>1952.0</td>\n",
       "      <td>156</td>\n",
       "    </tr>\n",
       "    <tr>\n",
       "      <th>122520</th>\n",
       "      <td>275387</td>\n",
       "      <td>33</td>\n",
       "      <td>95</td>\n",
       "      <td>11-18</td>\n",
       "      <td>25464.21</td>\n",
       "      <td>nao</td>\n",
       "      <td>eletrodomestico</td>\n",
       "      <td>39690.0</td>\n",
       "      <td>NaN</td>\n",
       "      <td>3.669</td>\n",
       "      <td>86.59</td>\n",
       "      <td>6.0</td>\n",
       "      <td>NaN</td>\n",
       "      <td>NaN</td>\n",
       "      <td>3220.86</td>\n",
       "      <td>0.0801</td>\n",
       "      <td>1952.0</td>\n",
       "      <td>156</td>\n",
       "    </tr>\n",
       "    <tr>\n",
       "      <th>122521</th>\n",
       "      <td>275397</td>\n",
       "      <td>33</td>\n",
       "      <td>98</td>\n",
       "      <td>11-18</td>\n",
       "      <td>7730.53</td>\n",
       "      <td>nao</td>\n",
       "      <td>eletrodomestico</td>\n",
       "      <td>39690.0</td>\n",
       "      <td>NaN</td>\n",
       "      <td>3.669</td>\n",
       "      <td>86.59</td>\n",
       "      <td>6.0</td>\n",
       "      <td>NaN</td>\n",
       "      <td>NaN</td>\n",
       "      <td>3220.86</td>\n",
       "      <td>0.0801</td>\n",
       "      <td>1952.0</td>\n",
       "      <td>156</td>\n",
       "    </tr>\n",
       "    <tr>\n",
       "      <th>122522</th>\n",
       "      <td>275405</td>\n",
       "      <td>33</td>\n",
       "      <td>97</td>\n",
       "      <td>11-18</td>\n",
       "      <td>4665.16</td>\n",
       "      <td>nao</td>\n",
       "      <td>eletrodomestico</td>\n",
       "      <td>39690.0</td>\n",
       "      <td>NaN</td>\n",
       "      <td>3.669</td>\n",
       "      <td>86.59</td>\n",
       "      <td>6.0</td>\n",
       "      <td>NaN</td>\n",
       "      <td>NaN</td>\n",
       "      <td>3220.86</td>\n",
       "      <td>0.0801</td>\n",
       "      <td>1952.0</td>\n",
       "      <td>156</td>\n",
       "    </tr>\n",
       "  </tbody>\n",
       "</table>\n",
       "</div>"
      ],
      "text/plain": [
       "            id  loja  setor   data  vendas_semanais feriado             tipo  \\\n",
       "122518  275307    33     90  11-18         23462.71     nao  eletrodomestico   \n",
       "122519  275374    33     96  11-18         10445.16     nao  eletrodomestico   \n",
       "122520  275387    33     95  11-18         25464.21     nao  eletrodomestico   \n",
       "122521  275397    33     98  11-18          7730.53     nao  eletrodomestico   \n",
       "122522  275405    33     97  11-18          4665.16     nao  eletrodomestico   \n",
       "\n",
       "        tamanho  temperatura  combustivel  desconto_1  desconto_2  desconto_3  \\\n",
       "122518  39690.0          NaN        3.669       86.59         6.0         NaN   \n",
       "122519  39690.0          NaN        3.669       86.59         6.0         NaN   \n",
       "122520  39690.0          NaN        3.669       86.59         6.0         NaN   \n",
       "122521  39690.0          NaN        3.669       86.59         6.0         NaN   \n",
       "122522  39690.0          NaN        3.669       86.59         6.0         NaN   \n",
       "\n",
       "        desconto_4  desconto_5  desemprego  distancia_competidores  clientes  \n",
       "122518         NaN     3220.86      0.0801                  1952.0       156  \n",
       "122519         NaN     3220.86      0.0801                  1952.0       156  \n",
       "122520         NaN     3220.86      0.0801                  1952.0       156  \n",
       "122521         NaN     3220.86      0.0801                  1952.0       156  \n",
       "122522         NaN     3220.86      0.0801                  1952.0       156  "
      ]
     },
     "execution_count": 15,
     "metadata": {},
     "output_type": "execute_result"
    }
   ],
   "source": [
    "df2.reset_index(inplace=True,drop=True)\n",
    "df2.tail()"
   ]
  },
  {
   "cell_type": "markdown",
   "id": "7e06ed95",
   "metadata": {},
   "source": [
    "### 2.2.2. Preencher os descontos com valores nulos com 0"
   ]
  },
  {
   "cell_type": "code",
   "execution_count": 16,
   "id": "172ba580",
   "metadata": {
    "ExecuteTime": {
     "end_time": "2023-12-16T16:00:51.944105Z",
     "start_time": "2023-12-16T16:00:51.854453Z"
    }
   },
   "outputs": [],
   "source": [
    "df2['desconto_1'] = df2['desconto_1'].fillna(0)\n",
    "df2['desconto_2'] = df2['desconto_2'].fillna(0)\n",
    "df2['desconto_3'] = df2['desconto_3'].fillna(0)\n",
    "df2['desconto_4'] = df2['desconto_4'].fillna(0)\n",
    "df2['desconto_5'] = df2['desconto_5'].fillna(0)"
   ]
  },
  {
   "cell_type": "markdown",
   "id": "36e38847",
   "metadata": {
    "heading_collapsed": true
   },
   "source": [
    "### 2.2.3. Preencher o tamanho das lojas faltantes com a mediana"
   ]
  },
  {
   "cell_type": "code",
   "execution_count": 17,
   "id": "965b6ef0",
   "metadata": {
    "ExecuteTime": {
     "end_time": "2023-12-16T16:00:59.252780Z",
     "start_time": "2023-12-16T16:00:59.227931Z"
    },
    "hidden": true
   },
   "outputs": [
    {
     "data": {
      "text/plain": [
       "128107.0"
      ]
     },
     "execution_count": 17,
     "metadata": {},
     "output_type": "execute_result"
    }
   ],
   "source": [
    "mediana = df2['tamanho'].median()\n",
    "mediana"
   ]
  },
  {
   "cell_type": "code",
   "execution_count": 18,
   "id": "83b0104a",
   "metadata": {
    "ExecuteTime": {
     "end_time": "2023-12-16T16:01:01.742817Z",
     "start_time": "2023-12-16T16:01:01.689270Z"
    },
    "hidden": true
   },
   "outputs": [],
   "source": [
    "tam_faltantes = df2.loc[df2['tamanho'].isna(), :].index"
   ]
  },
  {
   "cell_type": "code",
   "execution_count": 19,
   "id": "3c289e9a",
   "metadata": {
    "ExecuteTime": {
     "end_time": "2023-12-16T16:01:03.763795Z",
     "start_time": "2023-12-16T16:01:03.626654Z"
    },
    "hidden": true
   },
   "outputs": [
    {
     "name": "stdout",
     "output_type": "stream",
     "text": [
      "CPU times: total: 46.9 ms\n",
      "Wall time: 53 ms\n"
     ]
    }
   ],
   "source": [
    "%%time\n",
    "df2['tamanho'] = df2['tamanho'].apply(lambda x: mediana if math.isnan(x) else x)"
   ]
  },
  {
   "cell_type": "code",
   "execution_count": 20,
   "id": "da20a1ea",
   "metadata": {
    "ExecuteTime": {
     "end_time": "2023-12-16T16:01:05.491702Z",
     "start_time": "2023-12-16T16:01:05.339983Z"
    },
    "hidden": true
   },
   "outputs": [
    {
     "data": {
      "text/html": [
       "<div>\n",
       "<style scoped>\n",
       "    .dataframe tbody tr th:only-of-type {\n",
       "        vertical-align: middle;\n",
       "    }\n",
       "\n",
       "    .dataframe tbody tr th {\n",
       "        vertical-align: top;\n",
       "    }\n",
       "\n",
       "    .dataframe thead th {\n",
       "        text-align: right;\n",
       "    }\n",
       "</style>\n",
       "<table border=\"1\" class=\"dataframe\">\n",
       "  <thead>\n",
       "    <tr style=\"text-align: right;\">\n",
       "      <th></th>\n",
       "      <th>id</th>\n",
       "      <th>loja</th>\n",
       "      <th>setor</th>\n",
       "      <th>data</th>\n",
       "      <th>vendas_semanais</th>\n",
       "      <th>feriado</th>\n",
       "      <th>tipo</th>\n",
       "      <th>tamanho</th>\n",
       "      <th>temperatura</th>\n",
       "      <th>combustivel</th>\n",
       "      <th>desconto_1</th>\n",
       "      <th>desconto_2</th>\n",
       "      <th>desconto_3</th>\n",
       "      <th>desconto_4</th>\n",
       "      <th>desconto_5</th>\n",
       "      <th>desemprego</th>\n",
       "      <th>distancia_competidores</th>\n",
       "      <th>clientes</th>\n",
       "    </tr>\n",
       "  </thead>\n",
       "  <tbody>\n",
       "    <tr>\n",
       "      <th>5656</th>\n",
       "      <td>140681</td>\n",
       "      <td>3</td>\n",
       "      <td>25</td>\n",
       "      <td>01-07</td>\n",
       "      <td>2658.57</td>\n",
       "      <td>nao</td>\n",
       "      <td>eletronico</td>\n",
       "      <td>128107.0</td>\n",
       "      <td>11.861111</td>\n",
       "      <td>NaN</td>\n",
       "      <td>0.00</td>\n",
       "      <td>0.00</td>\n",
       "      <td>0.0</td>\n",
       "      <td>0.00</td>\n",
       "      <td>0.0</td>\n",
       "      <td>0.07551</td>\n",
       "      <td>NaN</td>\n",
       "      <td>901</td>\n",
       "    </tr>\n",
       "    <tr>\n",
       "      <th>5657</th>\n",
       "      <td>141029</td>\n",
       "      <td>3</td>\n",
       "      <td>20</td>\n",
       "      <td>01-07</td>\n",
       "      <td>1358.81</td>\n",
       "      <td>nao</td>\n",
       "      <td>eletronico</td>\n",
       "      <td>128107.0</td>\n",
       "      <td>11.861111</td>\n",
       "      <td>NaN</td>\n",
       "      <td>0.00</td>\n",
       "      <td>0.00</td>\n",
       "      <td>0.0</td>\n",
       "      <td>0.00</td>\n",
       "      <td>0.0</td>\n",
       "      <td>0.07551</td>\n",
       "      <td>NaN</td>\n",
       "      <td>901</td>\n",
       "    </tr>\n",
       "    <tr>\n",
       "      <th>5658</th>\n",
       "      <td>141077</td>\n",
       "      <td>3</td>\n",
       "      <td>34</td>\n",
       "      <td>01-07</td>\n",
       "      <td>3280.50</td>\n",
       "      <td>nao</td>\n",
       "      <td>eletronico</td>\n",
       "      <td>128107.0</td>\n",
       "      <td>11.861111</td>\n",
       "      <td>NaN</td>\n",
       "      <td>0.00</td>\n",
       "      <td>0.00</td>\n",
       "      <td>0.0</td>\n",
       "      <td>0.00</td>\n",
       "      <td>0.0</td>\n",
       "      <td>0.07551</td>\n",
       "      <td>NaN</td>\n",
       "      <td>901</td>\n",
       "    </tr>\n",
       "    <tr>\n",
       "      <th>5659</th>\n",
       "      <td>141106</td>\n",
       "      <td>3</td>\n",
       "      <td>23</td>\n",
       "      <td>01-07</td>\n",
       "      <td>6530.88</td>\n",
       "      <td>nao</td>\n",
       "      <td>eletronico</td>\n",
       "      <td>128107.0</td>\n",
       "      <td>11.861111</td>\n",
       "      <td>NaN</td>\n",
       "      <td>0.00</td>\n",
       "      <td>0.00</td>\n",
       "      <td>0.0</td>\n",
       "      <td>0.00</td>\n",
       "      <td>0.0</td>\n",
       "      <td>0.07551</td>\n",
       "      <td>NaN</td>\n",
       "      <td>901</td>\n",
       "    </tr>\n",
       "    <tr>\n",
       "      <th>5660</th>\n",
       "      <td>141169</td>\n",
       "      <td>3</td>\n",
       "      <td>19</td>\n",
       "      <td>01-07</td>\n",
       "      <td>3113.76</td>\n",
       "      <td>nao</td>\n",
       "      <td>eletronico</td>\n",
       "      <td>128107.0</td>\n",
       "      <td>11.861111</td>\n",
       "      <td>NaN</td>\n",
       "      <td>0.00</td>\n",
       "      <td>0.00</td>\n",
       "      <td>0.0</td>\n",
       "      <td>0.00</td>\n",
       "      <td>0.0</td>\n",
       "      <td>0.07551</td>\n",
       "      <td>NaN</td>\n",
       "      <td>901</td>\n",
       "    </tr>\n",
       "    <tr>\n",
       "      <th>...</th>\n",
       "      <td>...</td>\n",
       "      <td>...</td>\n",
       "      <td>...</td>\n",
       "      <td>...</td>\n",
       "      <td>...</td>\n",
       "      <td>...</td>\n",
       "      <td>...</td>\n",
       "      <td>...</td>\n",
       "      <td>...</td>\n",
       "      <td>...</td>\n",
       "      <td>...</td>\n",
       "      <td>...</td>\n",
       "      <td>...</td>\n",
       "      <td>...</td>\n",
       "      <td>...</td>\n",
       "      <td>...</td>\n",
       "      <td>...</td>\n",
       "      <td>...</td>\n",
       "    </tr>\n",
       "    <tr>\n",
       "      <th>120630</th>\n",
       "      <td>274985</td>\n",
       "      <td>11</td>\n",
       "      <td>71</td>\n",
       "      <td>11-18</td>\n",
       "      <td>9419.43</td>\n",
       "      <td>nao</td>\n",
       "      <td>eletrodomestico</td>\n",
       "      <td>128107.0</td>\n",
       "      <td>NaN</td>\n",
       "      <td>NaN</td>\n",
       "      <td>10941.05</td>\n",
       "      <td>222.94</td>\n",
       "      <td>263.1</td>\n",
       "      <td>404.05</td>\n",
       "      <td>8885.3</td>\n",
       "      <td>0.07197</td>\n",
       "      <td>17997.0</td>\n",
       "      <td>953</td>\n",
       "    </tr>\n",
       "    <tr>\n",
       "      <th>120631</th>\n",
       "      <td>274997</td>\n",
       "      <td>11</td>\n",
       "      <td>67</td>\n",
       "      <td>11-18</td>\n",
       "      <td>9790.06</td>\n",
       "      <td>nao</td>\n",
       "      <td>eletrodomestico</td>\n",
       "      <td>128107.0</td>\n",
       "      <td>NaN</td>\n",
       "      <td>NaN</td>\n",
       "      <td>10941.05</td>\n",
       "      <td>222.94</td>\n",
       "      <td>263.1</td>\n",
       "      <td>404.05</td>\n",
       "      <td>8885.3</td>\n",
       "      <td>0.07197</td>\n",
       "      <td>17997.0</td>\n",
       "      <td>953</td>\n",
       "    </tr>\n",
       "    <tr>\n",
       "      <th>120632</th>\n",
       "      <td>275011</td>\n",
       "      <td>11</td>\n",
       "      <td>79</td>\n",
       "      <td>11-18</td>\n",
       "      <td>26994.74</td>\n",
       "      <td>nao</td>\n",
       "      <td>eletrodomestico</td>\n",
       "      <td>128107.0</td>\n",
       "      <td>NaN</td>\n",
       "      <td>NaN</td>\n",
       "      <td>10941.05</td>\n",
       "      <td>222.94</td>\n",
       "      <td>263.1</td>\n",
       "      <td>404.05</td>\n",
       "      <td>8885.3</td>\n",
       "      <td>0.07197</td>\n",
       "      <td>17997.0</td>\n",
       "      <td>953</td>\n",
       "    </tr>\n",
       "    <tr>\n",
       "      <th>120633</th>\n",
       "      <td>275018</td>\n",
       "      <td>11</td>\n",
       "      <td>74</td>\n",
       "      <td>11-18</td>\n",
       "      <td>18686.63</td>\n",
       "      <td>nao</td>\n",
       "      <td>eletrodomestico</td>\n",
       "      <td>128107.0</td>\n",
       "      <td>NaN</td>\n",
       "      <td>NaN</td>\n",
       "      <td>10941.05</td>\n",
       "      <td>222.94</td>\n",
       "      <td>263.1</td>\n",
       "      <td>404.05</td>\n",
       "      <td>8885.3</td>\n",
       "      <td>0.07197</td>\n",
       "      <td>17997.0</td>\n",
       "      <td>953</td>\n",
       "    </tr>\n",
       "    <tr>\n",
       "      <th>120634</th>\n",
       "      <td>275024</td>\n",
       "      <td>11</td>\n",
       "      <td>72</td>\n",
       "      <td>11-18</td>\n",
       "      <td>70158.58</td>\n",
       "      <td>nao</td>\n",
       "      <td>eletrodomestico</td>\n",
       "      <td>128107.0</td>\n",
       "      <td>NaN</td>\n",
       "      <td>NaN</td>\n",
       "      <td>10941.05</td>\n",
       "      <td>222.94</td>\n",
       "      <td>263.1</td>\n",
       "      <td>404.05</td>\n",
       "      <td>8885.3</td>\n",
       "      <td>0.07197</td>\n",
       "      <td>17997.0</td>\n",
       "      <td>953</td>\n",
       "    </tr>\n",
       "  </tbody>\n",
       "</table>\n",
       "<p>30220 rows × 18 columns</p>\n",
       "</div>"
      ],
      "text/plain": [
       "            id  loja  setor   data  vendas_semanais feriado             tipo  \\\n",
       "5656    140681     3     25  01-07          2658.57     nao       eletronico   \n",
       "5657    141029     3     20  01-07          1358.81     nao       eletronico   \n",
       "5658    141077     3     34  01-07          3280.50     nao       eletronico   \n",
       "5659    141106     3     23  01-07          6530.88     nao       eletronico   \n",
       "5660    141169     3     19  01-07          3113.76     nao       eletronico   \n",
       "...        ...   ...    ...    ...              ...     ...              ...   \n",
       "120630  274985    11     71  11-18          9419.43     nao  eletrodomestico   \n",
       "120631  274997    11     67  11-18          9790.06     nao  eletrodomestico   \n",
       "120632  275011    11     79  11-18         26994.74     nao  eletrodomestico   \n",
       "120633  275018    11     74  11-18         18686.63     nao  eletrodomestico   \n",
       "120634  275024    11     72  11-18         70158.58     nao  eletrodomestico   \n",
       "\n",
       "         tamanho  temperatura  combustivel  desconto_1  desconto_2  \\\n",
       "5656    128107.0    11.861111          NaN        0.00        0.00   \n",
       "5657    128107.0    11.861111          NaN        0.00        0.00   \n",
       "5658    128107.0    11.861111          NaN        0.00        0.00   \n",
       "5659    128107.0    11.861111          NaN        0.00        0.00   \n",
       "5660    128107.0    11.861111          NaN        0.00        0.00   \n",
       "...          ...          ...          ...         ...         ...   \n",
       "120630  128107.0          NaN          NaN    10941.05      222.94   \n",
       "120631  128107.0          NaN          NaN    10941.05      222.94   \n",
       "120632  128107.0          NaN          NaN    10941.05      222.94   \n",
       "120633  128107.0          NaN          NaN    10941.05      222.94   \n",
       "120634  128107.0          NaN          NaN    10941.05      222.94   \n",
       "\n",
       "        desconto_3  desconto_4  desconto_5  desemprego  \\\n",
       "5656           0.0        0.00         0.0     0.07551   \n",
       "5657           0.0        0.00         0.0     0.07551   \n",
       "5658           0.0        0.00         0.0     0.07551   \n",
       "5659           0.0        0.00         0.0     0.07551   \n",
       "5660           0.0        0.00         0.0     0.07551   \n",
       "...            ...         ...         ...         ...   \n",
       "120630       263.1      404.05      8885.3     0.07197   \n",
       "120631       263.1      404.05      8885.3     0.07197   \n",
       "120632       263.1      404.05      8885.3     0.07197   \n",
       "120633       263.1      404.05      8885.3     0.07197   \n",
       "120634       263.1      404.05      8885.3     0.07197   \n",
       "\n",
       "        distancia_competidores  clientes  \n",
       "5656                       NaN       901  \n",
       "5657                       NaN       901  \n",
       "5658                       NaN       901  \n",
       "5659                       NaN       901  \n",
       "5660                       NaN       901  \n",
       "...                        ...       ...  \n",
       "120630                 17997.0       953  \n",
       "120631                 17997.0       953  \n",
       "120632                 17997.0       953  \n",
       "120633                 17997.0       953  \n",
       "120634                 17997.0       953  \n",
       "\n",
       "[30220 rows x 18 columns]"
      ]
     },
     "execution_count": 20,
     "metadata": {},
     "output_type": "execute_result"
    }
   ],
   "source": [
    "df2.iloc[tam_faltantes, :]"
   ]
  },
  {
   "cell_type": "markdown",
   "id": "bc4b50cb",
   "metadata": {
    "ExecuteTime": {
     "end_time": "2023-12-16T14:48:50.828592Z",
     "start_time": "2023-12-16T14:48:50.814622Z"
    },
    "heading_collapsed": true
   },
   "source": [
    "### 2.2.4. Preencher a temperatura faltantes usando a média"
   ]
  },
  {
   "cell_type": "code",
   "execution_count": 21,
   "id": "7d97331d",
   "metadata": {
    "ExecuteTime": {
     "end_time": "2023-12-16T16:01:14.591486Z",
     "start_time": "2023-12-16T16:01:14.567592Z"
    },
    "hidden": true
   },
   "outputs": [
    {
     "data": {
      "text/plain": [
       "15.71788135260333"
      ]
     },
     "execution_count": 21,
     "metadata": {},
     "output_type": "execute_result"
    }
   ],
   "source": [
    "media = df2['temperatura'].mean()\n",
    "media"
   ]
  },
  {
   "cell_type": "code",
   "execution_count": 22,
   "id": "792e9f41",
   "metadata": {
    "ExecuteTime": {
     "end_time": "2023-12-16T16:01:16.375832Z",
     "start_time": "2023-12-16T16:01:16.337287Z"
    },
    "hidden": true
   },
   "outputs": [],
   "source": [
    "temp_faltantes = df2.loc[df2['temperatura'].isna(), :].index"
   ]
  },
  {
   "cell_type": "code",
   "execution_count": 23,
   "id": "5b5dfbd5",
   "metadata": {
    "ExecuteTime": {
     "end_time": "2023-12-16T16:01:18.319868Z",
     "start_time": "2023-12-16T16:01:18.163650Z"
    },
    "hidden": true
   },
   "outputs": [
    {
     "name": "stdout",
     "output_type": "stream",
     "text": [
      "CPU times: total: 62.5 ms\n",
      "Wall time: 56 ms\n"
     ]
    }
   ],
   "source": [
    "%%time\n",
    "df2['temperatura'] = df2['temperatura'].apply(lambda x: media if math.isnan(x) else x)"
   ]
  },
  {
   "cell_type": "code",
   "execution_count": 24,
   "id": "3434d2f1",
   "metadata": {
    "ExecuteTime": {
     "end_time": "2023-12-16T16:01:20.591373Z",
     "start_time": "2023-12-16T16:01:20.461785Z"
    },
    "hidden": true
   },
   "outputs": [
    {
     "data": {
      "text/html": [
       "<div>\n",
       "<style scoped>\n",
       "    .dataframe tbody tr th:only-of-type {\n",
       "        vertical-align: middle;\n",
       "    }\n",
       "\n",
       "    .dataframe tbody tr th {\n",
       "        vertical-align: top;\n",
       "    }\n",
       "\n",
       "    .dataframe thead th {\n",
       "        text-align: right;\n",
       "    }\n",
       "</style>\n",
       "<table border=\"1\" class=\"dataframe\">\n",
       "  <thead>\n",
       "    <tr style=\"text-align: right;\">\n",
       "      <th></th>\n",
       "      <th>id</th>\n",
       "      <th>loja</th>\n",
       "      <th>setor</th>\n",
       "      <th>data</th>\n",
       "      <th>vendas_semanais</th>\n",
       "      <th>feriado</th>\n",
       "      <th>tipo</th>\n",
       "      <th>tamanho</th>\n",
       "      <th>temperatura</th>\n",
       "      <th>combustivel</th>\n",
       "      <th>desconto_1</th>\n",
       "      <th>desconto_2</th>\n",
       "      <th>desconto_3</th>\n",
       "      <th>desconto_4</th>\n",
       "      <th>desconto_5</th>\n",
       "      <th>desemprego</th>\n",
       "      <th>distancia_competidores</th>\n",
       "      <th>clientes</th>\n",
       "    </tr>\n",
       "  </thead>\n",
       "  <tbody>\n",
       "    <tr>\n",
       "      <th>130</th>\n",
       "      <td>146595</td>\n",
       "      <td>17</td>\n",
       "      <td>6</td>\n",
       "      <td>01-21</td>\n",
       "      <td>4548.82</td>\n",
       "      <td>nao</td>\n",
       "      <td>eletronico</td>\n",
       "      <td>93188.0</td>\n",
       "      <td>15.717881</td>\n",
       "      <td>2.934</td>\n",
       "      <td>0.00</td>\n",
       "      <td>0.0</td>\n",
       "      <td>0.0</td>\n",
       "      <td>0.0</td>\n",
       "      <td>0.00</td>\n",
       "      <td>0.06866</td>\n",
       "      <td>NaN</td>\n",
       "      <td>422</td>\n",
       "    </tr>\n",
       "    <tr>\n",
       "      <th>131</th>\n",
       "      <td>146907</td>\n",
       "      <td>17</td>\n",
       "      <td>1</td>\n",
       "      <td>01-21</td>\n",
       "      <td>16137.30</td>\n",
       "      <td>nao</td>\n",
       "      <td>eletronico</td>\n",
       "      <td>93188.0</td>\n",
       "      <td>15.717881</td>\n",
       "      <td>2.934</td>\n",
       "      <td>0.00</td>\n",
       "      <td>0.0</td>\n",
       "      <td>0.0</td>\n",
       "      <td>0.0</td>\n",
       "      <td>0.00</td>\n",
       "      <td>0.06866</td>\n",
       "      <td>NaN</td>\n",
       "      <td>422</td>\n",
       "    </tr>\n",
       "    <tr>\n",
       "      <th>132</th>\n",
       "      <td>146975</td>\n",
       "      <td>17</td>\n",
       "      <td>2</td>\n",
       "      <td>01-21</td>\n",
       "      <td>39712.80</td>\n",
       "      <td>nao</td>\n",
       "      <td>eletronico</td>\n",
       "      <td>93188.0</td>\n",
       "      <td>15.717881</td>\n",
       "      <td>2.934</td>\n",
       "      <td>0.00</td>\n",
       "      <td>0.0</td>\n",
       "      <td>0.0</td>\n",
       "      <td>0.0</td>\n",
       "      <td>0.00</td>\n",
       "      <td>0.06866</td>\n",
       "      <td>NaN</td>\n",
       "      <td>422</td>\n",
       "    </tr>\n",
       "    <tr>\n",
       "      <th>133</th>\n",
       "      <td>146986</td>\n",
       "      <td>17</td>\n",
       "      <td>3</td>\n",
       "      <td>01-21</td>\n",
       "      <td>16762.49</td>\n",
       "      <td>nao</td>\n",
       "      <td>eletronico</td>\n",
       "      <td>93188.0</td>\n",
       "      <td>15.717881</td>\n",
       "      <td>2.934</td>\n",
       "      <td>0.00</td>\n",
       "      <td>0.0</td>\n",
       "      <td>0.0</td>\n",
       "      <td>0.0</td>\n",
       "      <td>0.00</td>\n",
       "      <td>0.06866</td>\n",
       "      <td>NaN</td>\n",
       "      <td>422</td>\n",
       "    </tr>\n",
       "    <tr>\n",
       "      <th>134</th>\n",
       "      <td>147010</td>\n",
       "      <td>17</td>\n",
       "      <td>4</td>\n",
       "      <td>01-21</td>\n",
       "      <td>22773.89</td>\n",
       "      <td>nao</td>\n",
       "      <td>eletronico</td>\n",
       "      <td>93188.0</td>\n",
       "      <td>15.717881</td>\n",
       "      <td>2.934</td>\n",
       "      <td>0.00</td>\n",
       "      <td>0.0</td>\n",
       "      <td>0.0</td>\n",
       "      <td>0.0</td>\n",
       "      <td>0.00</td>\n",
       "      <td>0.06866</td>\n",
       "      <td>NaN</td>\n",
       "      <td>422</td>\n",
       "    </tr>\n",
       "    <tr>\n",
       "      <th>...</th>\n",
       "      <td>...</td>\n",
       "      <td>...</td>\n",
       "      <td>...</td>\n",
       "      <td>...</td>\n",
       "      <td>...</td>\n",
       "      <td>...</td>\n",
       "      <td>...</td>\n",
       "      <td>...</td>\n",
       "      <td>...</td>\n",
       "      <td>...</td>\n",
       "      <td>...</td>\n",
       "      <td>...</td>\n",
       "      <td>...</td>\n",
       "      <td>...</td>\n",
       "      <td>...</td>\n",
       "      <td>...</td>\n",
       "      <td>...</td>\n",
       "      <td>...</td>\n",
       "    </tr>\n",
       "    <tr>\n",
       "      <th>122518</th>\n",
       "      <td>275307</td>\n",
       "      <td>33</td>\n",
       "      <td>90</td>\n",
       "      <td>11-18</td>\n",
       "      <td>23462.71</td>\n",
       "      <td>nao</td>\n",
       "      <td>eletrodomestico</td>\n",
       "      <td>39690.0</td>\n",
       "      <td>15.717881</td>\n",
       "      <td>3.669</td>\n",
       "      <td>86.59</td>\n",
       "      <td>6.0</td>\n",
       "      <td>0.0</td>\n",
       "      <td>0.0</td>\n",
       "      <td>3220.86</td>\n",
       "      <td>0.08010</td>\n",
       "      <td>1952.0</td>\n",
       "      <td>156</td>\n",
       "    </tr>\n",
       "    <tr>\n",
       "      <th>122519</th>\n",
       "      <td>275374</td>\n",
       "      <td>33</td>\n",
       "      <td>96</td>\n",
       "      <td>11-18</td>\n",
       "      <td>10445.16</td>\n",
       "      <td>nao</td>\n",
       "      <td>eletrodomestico</td>\n",
       "      <td>39690.0</td>\n",
       "      <td>15.717881</td>\n",
       "      <td>3.669</td>\n",
       "      <td>86.59</td>\n",
       "      <td>6.0</td>\n",
       "      <td>0.0</td>\n",
       "      <td>0.0</td>\n",
       "      <td>3220.86</td>\n",
       "      <td>0.08010</td>\n",
       "      <td>1952.0</td>\n",
       "      <td>156</td>\n",
       "    </tr>\n",
       "    <tr>\n",
       "      <th>122520</th>\n",
       "      <td>275387</td>\n",
       "      <td>33</td>\n",
       "      <td>95</td>\n",
       "      <td>11-18</td>\n",
       "      <td>25464.21</td>\n",
       "      <td>nao</td>\n",
       "      <td>eletrodomestico</td>\n",
       "      <td>39690.0</td>\n",
       "      <td>15.717881</td>\n",
       "      <td>3.669</td>\n",
       "      <td>86.59</td>\n",
       "      <td>6.0</td>\n",
       "      <td>0.0</td>\n",
       "      <td>0.0</td>\n",
       "      <td>3220.86</td>\n",
       "      <td>0.08010</td>\n",
       "      <td>1952.0</td>\n",
       "      <td>156</td>\n",
       "    </tr>\n",
       "    <tr>\n",
       "      <th>122521</th>\n",
       "      <td>275397</td>\n",
       "      <td>33</td>\n",
       "      <td>98</td>\n",
       "      <td>11-18</td>\n",
       "      <td>7730.53</td>\n",
       "      <td>nao</td>\n",
       "      <td>eletrodomestico</td>\n",
       "      <td>39690.0</td>\n",
       "      <td>15.717881</td>\n",
       "      <td>3.669</td>\n",
       "      <td>86.59</td>\n",
       "      <td>6.0</td>\n",
       "      <td>0.0</td>\n",
       "      <td>0.0</td>\n",
       "      <td>3220.86</td>\n",
       "      <td>0.08010</td>\n",
       "      <td>1952.0</td>\n",
       "      <td>156</td>\n",
       "    </tr>\n",
       "    <tr>\n",
       "      <th>122522</th>\n",
       "      <td>275405</td>\n",
       "      <td>33</td>\n",
       "      <td>97</td>\n",
       "      <td>11-18</td>\n",
       "      <td>4665.16</td>\n",
       "      <td>nao</td>\n",
       "      <td>eletrodomestico</td>\n",
       "      <td>39690.0</td>\n",
       "      <td>15.717881</td>\n",
       "      <td>3.669</td>\n",
       "      <td>86.59</td>\n",
       "      <td>6.0</td>\n",
       "      <td>0.0</td>\n",
       "      <td>0.0</td>\n",
       "      <td>3220.86</td>\n",
       "      <td>0.08010</td>\n",
       "      <td>1952.0</td>\n",
       "      <td>156</td>\n",
       "    </tr>\n",
       "  </tbody>\n",
       "</table>\n",
       "<p>43321 rows × 18 columns</p>\n",
       "</div>"
      ],
      "text/plain": [
       "            id  loja  setor   data  vendas_semanais feriado             tipo  \\\n",
       "130     146595    17      6  01-21          4548.82     nao       eletronico   \n",
       "131     146907    17      1  01-21         16137.30     nao       eletronico   \n",
       "132     146975    17      2  01-21         39712.80     nao       eletronico   \n",
       "133     146986    17      3  01-21         16762.49     nao       eletronico   \n",
       "134     147010    17      4  01-21         22773.89     nao       eletronico   \n",
       "...        ...   ...    ...    ...              ...     ...              ...   \n",
       "122518  275307    33     90  11-18         23462.71     nao  eletrodomestico   \n",
       "122519  275374    33     96  11-18         10445.16     nao  eletrodomestico   \n",
       "122520  275387    33     95  11-18         25464.21     nao  eletrodomestico   \n",
       "122521  275397    33     98  11-18          7730.53     nao  eletrodomestico   \n",
       "122522  275405    33     97  11-18          4665.16     nao  eletrodomestico   \n",
       "\n",
       "        tamanho  temperatura  combustivel  desconto_1  desconto_2  desconto_3  \\\n",
       "130     93188.0    15.717881        2.934        0.00         0.0         0.0   \n",
       "131     93188.0    15.717881        2.934        0.00         0.0         0.0   \n",
       "132     93188.0    15.717881        2.934        0.00         0.0         0.0   \n",
       "133     93188.0    15.717881        2.934        0.00         0.0         0.0   \n",
       "134     93188.0    15.717881        2.934        0.00         0.0         0.0   \n",
       "...         ...          ...          ...         ...         ...         ...   \n",
       "122518  39690.0    15.717881        3.669       86.59         6.0         0.0   \n",
       "122519  39690.0    15.717881        3.669       86.59         6.0         0.0   \n",
       "122520  39690.0    15.717881        3.669       86.59         6.0         0.0   \n",
       "122521  39690.0    15.717881        3.669       86.59         6.0         0.0   \n",
       "122522  39690.0    15.717881        3.669       86.59         6.0         0.0   \n",
       "\n",
       "        desconto_4  desconto_5  desemprego  distancia_competidores  clientes  \n",
       "130            0.0        0.00     0.06866                     NaN       422  \n",
       "131            0.0        0.00     0.06866                     NaN       422  \n",
       "132            0.0        0.00     0.06866                     NaN       422  \n",
       "133            0.0        0.00     0.06866                     NaN       422  \n",
       "134            0.0        0.00     0.06866                     NaN       422  \n",
       "...            ...         ...         ...                     ...       ...  \n",
       "122518         0.0     3220.86     0.08010                  1952.0       156  \n",
       "122519         0.0     3220.86     0.08010                  1952.0       156  \n",
       "122520         0.0     3220.86     0.08010                  1952.0       156  \n",
       "122521         0.0     3220.86     0.08010                  1952.0       156  \n",
       "122522         0.0     3220.86     0.08010                  1952.0       156  \n",
       "\n",
       "[43321 rows x 18 columns]"
      ]
     },
     "execution_count": 24,
     "metadata": {},
     "output_type": "execute_result"
    }
   ],
   "source": [
    "df2.iloc[temp_faltantes, :]"
   ]
  },
  {
   "cell_type": "markdown",
   "id": "5d231a32",
   "metadata": {
    "heading_collapsed": true
   },
   "source": [
    "### 2.2.5. Preencher os registros com combustível faltantes usando a média"
   ]
  },
  {
   "cell_type": "code",
   "execution_count": 25,
   "id": "50fc4623",
   "metadata": {
    "ExecuteTime": {
     "end_time": "2023-12-16T16:01:28.416545Z",
     "start_time": "2023-12-16T16:01:28.395987Z"
    },
    "hidden": true
   },
   "outputs": [
    {
     "data": {
      "text/plain": [
       "3.597346738386832"
      ]
     },
     "execution_count": 25,
     "metadata": {},
     "output_type": "execute_result"
    }
   ],
   "source": [
    "media = df2['combustivel'].mean()\n",
    "media"
   ]
  },
  {
   "cell_type": "code",
   "execution_count": 26,
   "id": "b0883a04",
   "metadata": {
    "ExecuteTime": {
     "end_time": "2023-12-16T16:01:30.588432Z",
     "start_time": "2023-12-16T16:01:30.554305Z"
    },
    "hidden": true
   },
   "outputs": [],
   "source": [
    "comb_faltantes = df2.loc[df2['combustivel'].isna(), :].index"
   ]
  },
  {
   "cell_type": "code",
   "execution_count": 27,
   "id": "4029007b",
   "metadata": {
    "ExecuteTime": {
     "end_time": "2023-12-16T16:01:32.274513Z",
     "start_time": "2023-12-16T16:01:32.137066Z"
    },
    "hidden": true
   },
   "outputs": [
    {
     "name": "stdout",
     "output_type": "stream",
     "text": [
      "CPU times: total: 62.5 ms\n",
      "Wall time: 62 ms\n"
     ]
    }
   ],
   "source": [
    "%%time\n",
    "df2['combustivel'] = df2['combustivel'].apply(lambda x: media if math.isnan(x) else x)"
   ]
  },
  {
   "cell_type": "code",
   "execution_count": 28,
   "id": "2ca06dd2",
   "metadata": {
    "ExecuteTime": {
     "end_time": "2023-12-16T16:01:36.824925Z",
     "start_time": "2023-12-16T16:01:36.701214Z"
    },
    "hidden": true
   },
   "outputs": [
    {
     "data": {
      "text/html": [
       "<div>\n",
       "<style scoped>\n",
       "    .dataframe tbody tr th:only-of-type {\n",
       "        vertical-align: middle;\n",
       "    }\n",
       "\n",
       "    .dataframe tbody tr th {\n",
       "        vertical-align: top;\n",
       "    }\n",
       "\n",
       "    .dataframe thead th {\n",
       "        text-align: right;\n",
       "    }\n",
       "</style>\n",
       "<table border=\"1\" class=\"dataframe\">\n",
       "  <thead>\n",
       "    <tr style=\"text-align: right;\">\n",
       "      <th></th>\n",
       "      <th>id</th>\n",
       "      <th>loja</th>\n",
       "      <th>setor</th>\n",
       "      <th>data</th>\n",
       "      <th>vendas_semanais</th>\n",
       "      <th>feriado</th>\n",
       "      <th>tipo</th>\n",
       "      <th>tamanho</th>\n",
       "      <th>temperatura</th>\n",
       "      <th>combustivel</th>\n",
       "      <th>desconto_1</th>\n",
       "      <th>desconto_2</th>\n",
       "      <th>desconto_3</th>\n",
       "      <th>desconto_4</th>\n",
       "      <th>desconto_5</th>\n",
       "      <th>desemprego</th>\n",
       "      <th>distancia_competidores</th>\n",
       "      <th>clientes</th>\n",
       "    </tr>\n",
       "  </thead>\n",
       "  <tbody>\n",
       "    <tr>\n",
       "      <th>382</th>\n",
       "      <td>158299</td>\n",
       "      <td>17</td>\n",
       "      <td>24</td>\n",
       "      <td>02-18</td>\n",
       "      <td>3652.300000</td>\n",
       "      <td>nao</td>\n",
       "      <td>eletronico</td>\n",
       "      <td>93188.0</td>\n",
       "      <td>-2.855556</td>\n",
       "      <td>3.597347</td>\n",
       "      <td>0.0</td>\n",
       "      <td>0.0</td>\n",
       "      <td>0.0</td>\n",
       "      <td>0.0</td>\n",
       "      <td>0.0</td>\n",
       "      <td>0.06866</td>\n",
       "      <td>NaN</td>\n",
       "      <td>956</td>\n",
       "    </tr>\n",
       "    <tr>\n",
       "      <th>383</th>\n",
       "      <td>158421</td>\n",
       "      <td>17</td>\n",
       "      <td>20</td>\n",
       "      <td>02-18</td>\n",
       "      <td>3273.070000</td>\n",
       "      <td>nao</td>\n",
       "      <td>eletronico</td>\n",
       "      <td>93188.0</td>\n",
       "      <td>-2.855556</td>\n",
       "      <td>3.597347</td>\n",
       "      <td>0.0</td>\n",
       "      <td>0.0</td>\n",
       "      <td>0.0</td>\n",
       "      <td>0.0</td>\n",
       "      <td>0.0</td>\n",
       "      <td>0.06866</td>\n",
       "      <td>NaN</td>\n",
       "      <td>956</td>\n",
       "    </tr>\n",
       "    <tr>\n",
       "      <th>384</th>\n",
       "      <td>158480</td>\n",
       "      <td>17</td>\n",
       "      <td>58</td>\n",
       "      <td>02-18</td>\n",
       "      <td>1200.000000</td>\n",
       "      <td>nao</td>\n",
       "      <td>eletronico</td>\n",
       "      <td>93188.0</td>\n",
       "      <td>-2.855556</td>\n",
       "      <td>3.597347</td>\n",
       "      <td>0.0</td>\n",
       "      <td>0.0</td>\n",
       "      <td>0.0</td>\n",
       "      <td>0.0</td>\n",
       "      <td>0.0</td>\n",
       "      <td>0.06866</td>\n",
       "      <td>NaN</td>\n",
       "      <td>956</td>\n",
       "    </tr>\n",
       "    <tr>\n",
       "      <th>385</th>\n",
       "      <td>158538</td>\n",
       "      <td>17</td>\n",
       "      <td>18</td>\n",
       "      <td>02-18</td>\n",
       "      <td>10202.870000</td>\n",
       "      <td>nao</td>\n",
       "      <td>eletronico</td>\n",
       "      <td>93188.0</td>\n",
       "      <td>-2.855556</td>\n",
       "      <td>3.597347</td>\n",
       "      <td>0.0</td>\n",
       "      <td>0.0</td>\n",
       "      <td>0.0</td>\n",
       "      <td>0.0</td>\n",
       "      <td>0.0</td>\n",
       "      <td>0.06866</td>\n",
       "      <td>NaN</td>\n",
       "      <td>956</td>\n",
       "    </tr>\n",
       "    <tr>\n",
       "      <th>386</th>\n",
       "      <td>158602</td>\n",
       "      <td>17</td>\n",
       "      <td>19</td>\n",
       "      <td>02-18</td>\n",
       "      <td>4271.550000</td>\n",
       "      <td>nao</td>\n",
       "      <td>eletronico</td>\n",
       "      <td>93188.0</td>\n",
       "      <td>-2.855556</td>\n",
       "      <td>3.597347</td>\n",
       "      <td>0.0</td>\n",
       "      <td>0.0</td>\n",
       "      <td>0.0</td>\n",
       "      <td>0.0</td>\n",
       "      <td>0.0</td>\n",
       "      <td>0.06866</td>\n",
       "      <td>NaN</td>\n",
       "      <td>956</td>\n",
       "    </tr>\n",
       "    <tr>\n",
       "      <th>...</th>\n",
       "      <td>...</td>\n",
       "      <td>...</td>\n",
       "      <td>...</td>\n",
       "      <td>...</td>\n",
       "      <td>...</td>\n",
       "      <td>...</td>\n",
       "      <td>...</td>\n",
       "      <td>...</td>\n",
       "      <td>...</td>\n",
       "      <td>...</td>\n",
       "      <td>...</td>\n",
       "      <td>...</td>\n",
       "      <td>...</td>\n",
       "      <td>...</td>\n",
       "      <td>...</td>\n",
       "      <td>...</td>\n",
       "      <td>...</td>\n",
       "      <td>...</td>\n",
       "    </tr>\n",
       "    <tr>\n",
       "      <th>122146</th>\n",
       "      <td>249134</td>\n",
       "      <td>33</td>\n",
       "      <td>5</td>\n",
       "      <td>09-16</td>\n",
       "      <td>110.000000</td>\n",
       "      <td>nao</td>\n",
       "      <td>eletrodomestico</td>\n",
       "      <td>39690.0</td>\n",
       "      <td>29.883333</td>\n",
       "      <td>3.597347</td>\n",
       "      <td>0.0</td>\n",
       "      <td>0.0</td>\n",
       "      <td>0.0</td>\n",
       "      <td>0.0</td>\n",
       "      <td>0.0</td>\n",
       "      <td>0.08442</td>\n",
       "      <td>NaN</td>\n",
       "      <td>685</td>\n",
       "    </tr>\n",
       "    <tr>\n",
       "      <th>122147</th>\n",
       "      <td>249156</td>\n",
       "      <td>33</td>\n",
       "      <td>9</td>\n",
       "      <td>09-16</td>\n",
       "      <td>41.780000</td>\n",
       "      <td>nao</td>\n",
       "      <td>eletrodomestico</td>\n",
       "      <td>39690.0</td>\n",
       "      <td>29.883333</td>\n",
       "      <td>3.597347</td>\n",
       "      <td>0.0</td>\n",
       "      <td>0.0</td>\n",
       "      <td>0.0</td>\n",
       "      <td>0.0</td>\n",
       "      <td>0.0</td>\n",
       "      <td>0.08442</td>\n",
       "      <td>NaN</td>\n",
       "      <td>685</td>\n",
       "    </tr>\n",
       "    <tr>\n",
       "      <th>122148</th>\n",
       "      <td>249248</td>\n",
       "      <td>33</td>\n",
       "      <td>81</td>\n",
       "      <td>09-16</td>\n",
       "      <td>887907.904893</td>\n",
       "      <td>nao</td>\n",
       "      <td>eletrodomestico</td>\n",
       "      <td>39690.0</td>\n",
       "      <td>29.883333</td>\n",
       "      <td>3.597347</td>\n",
       "      <td>0.0</td>\n",
       "      <td>0.0</td>\n",
       "      <td>0.0</td>\n",
       "      <td>0.0</td>\n",
       "      <td>0.0</td>\n",
       "      <td>0.08442</td>\n",
       "      <td>NaN</td>\n",
       "      <td>685</td>\n",
       "    </tr>\n",
       "    <tr>\n",
       "      <th>122149</th>\n",
       "      <td>249292</td>\n",
       "      <td>33</td>\n",
       "      <td>90</td>\n",
       "      <td>09-16</td>\n",
       "      <td>25796.820000</td>\n",
       "      <td>nao</td>\n",
       "      <td>eletrodomestico</td>\n",
       "      <td>39690.0</td>\n",
       "      <td>29.883333</td>\n",
       "      <td>3.597347</td>\n",
       "      <td>0.0</td>\n",
       "      <td>0.0</td>\n",
       "      <td>0.0</td>\n",
       "      <td>0.0</td>\n",
       "      <td>0.0</td>\n",
       "      <td>0.08442</td>\n",
       "      <td>NaN</td>\n",
       "      <td>685</td>\n",
       "    </tr>\n",
       "    <tr>\n",
       "      <th>122150</th>\n",
       "      <td>249446</td>\n",
       "      <td>33</td>\n",
       "      <td>8</td>\n",
       "      <td>09-16</td>\n",
       "      <td>3746.370000</td>\n",
       "      <td>nao</td>\n",
       "      <td>eletrodomestico</td>\n",
       "      <td>39690.0</td>\n",
       "      <td>29.883333</td>\n",
       "      <td>3.597347</td>\n",
       "      <td>0.0</td>\n",
       "      <td>0.0</td>\n",
       "      <td>0.0</td>\n",
       "      <td>0.0</td>\n",
       "      <td>0.0</td>\n",
       "      <td>0.08442</td>\n",
       "      <td>NaN</td>\n",
       "      <td>685</td>\n",
       "    </tr>\n",
       "  </tbody>\n",
       "</table>\n",
       "<p>47974 rows × 18 columns</p>\n",
       "</div>"
      ],
      "text/plain": [
       "            id  loja  setor   data  vendas_semanais feriado             tipo  \\\n",
       "382     158299    17     24  02-18      3652.300000     nao       eletronico   \n",
       "383     158421    17     20  02-18      3273.070000     nao       eletronico   \n",
       "384     158480    17     58  02-18      1200.000000     nao       eletronico   \n",
       "385     158538    17     18  02-18     10202.870000     nao       eletronico   \n",
       "386     158602    17     19  02-18      4271.550000     nao       eletronico   \n",
       "...        ...   ...    ...    ...              ...     ...              ...   \n",
       "122146  249134    33      5  09-16       110.000000     nao  eletrodomestico   \n",
       "122147  249156    33      9  09-16        41.780000     nao  eletrodomestico   \n",
       "122148  249248    33     81  09-16    887907.904893     nao  eletrodomestico   \n",
       "122149  249292    33     90  09-16     25796.820000     nao  eletrodomestico   \n",
       "122150  249446    33      8  09-16      3746.370000     nao  eletrodomestico   \n",
       "\n",
       "        tamanho  temperatura  combustivel  desconto_1  desconto_2  desconto_3  \\\n",
       "382     93188.0    -2.855556     3.597347         0.0         0.0         0.0   \n",
       "383     93188.0    -2.855556     3.597347         0.0         0.0         0.0   \n",
       "384     93188.0    -2.855556     3.597347         0.0         0.0         0.0   \n",
       "385     93188.0    -2.855556     3.597347         0.0         0.0         0.0   \n",
       "386     93188.0    -2.855556     3.597347         0.0         0.0         0.0   \n",
       "...         ...          ...          ...         ...         ...         ...   \n",
       "122146  39690.0    29.883333     3.597347         0.0         0.0         0.0   \n",
       "122147  39690.0    29.883333     3.597347         0.0         0.0         0.0   \n",
       "122148  39690.0    29.883333     3.597347         0.0         0.0         0.0   \n",
       "122149  39690.0    29.883333     3.597347         0.0         0.0         0.0   \n",
       "122150  39690.0    29.883333     3.597347         0.0         0.0         0.0   \n",
       "\n",
       "        desconto_4  desconto_5  desemprego  distancia_competidores  clientes  \n",
       "382            0.0         0.0     0.06866                     NaN       956  \n",
       "383            0.0         0.0     0.06866                     NaN       956  \n",
       "384            0.0         0.0     0.06866                     NaN       956  \n",
       "385            0.0         0.0     0.06866                     NaN       956  \n",
       "386            0.0         0.0     0.06866                     NaN       956  \n",
       "...            ...         ...         ...                     ...       ...  \n",
       "122146         0.0         0.0     0.08442                     NaN       685  \n",
       "122147         0.0         0.0     0.08442                     NaN       685  \n",
       "122148         0.0         0.0     0.08442                     NaN       685  \n",
       "122149         0.0         0.0     0.08442                     NaN       685  \n",
       "122150         0.0         0.0     0.08442                     NaN       685  \n",
       "\n",
       "[47974 rows x 18 columns]"
      ]
     },
     "execution_count": 28,
     "metadata": {},
     "output_type": "execute_result"
    }
   ],
   "source": [
    "df2.iloc[comb_faltantes, :]"
   ]
  },
  {
   "cell_type": "markdown",
   "id": "1c4b9a61",
   "metadata": {
    "heading_collapsed": true
   },
   "source": [
    "### 2.2.6. Preencher os registros com distancia faltantes usando um número grande"
   ]
  },
  {
   "cell_type": "code",
   "execution_count": 29,
   "id": "7958fcc5",
   "metadata": {
    "ExecuteTime": {
     "end_time": "2023-12-16T16:01:42.442555Z",
     "start_time": "2023-12-16T16:01:42.384061Z"
    },
    "hidden": true
   },
   "outputs": [],
   "source": [
    "comp_faltantes = df2.loc[df2['distancia_competidores'].isna(), :].index"
   ]
  },
  {
   "cell_type": "code",
   "execution_count": 30,
   "id": "0cbd6307",
   "metadata": {
    "ExecuteTime": {
     "end_time": "2023-12-16T16:01:44.327657Z",
     "start_time": "2023-12-16T16:01:44.108362Z"
    },
    "hidden": true
   },
   "outputs": [
    {
     "name": "stdout",
     "output_type": "stream",
     "text": [
      "CPU times: total: 93.8 ms\n",
      "Wall time: 96.1 ms\n"
     ]
    }
   ],
   "source": [
    "%%time\n",
    "df2['distancia_competidores'] = df2['distancia_competidores'].apply(lambda x: 300000 if math.isnan(x) else x)"
   ]
  },
  {
   "cell_type": "code",
   "execution_count": 31,
   "id": "ee504ae6",
   "metadata": {
    "ExecuteTime": {
     "end_time": "2023-12-16T16:01:46.114223Z",
     "start_time": "2023-12-16T16:01:45.994405Z"
    },
    "hidden": true
   },
   "outputs": [
    {
     "data": {
      "text/html": [
       "<div>\n",
       "<style scoped>\n",
       "    .dataframe tbody tr th:only-of-type {\n",
       "        vertical-align: middle;\n",
       "    }\n",
       "\n",
       "    .dataframe tbody tr th {\n",
       "        vertical-align: top;\n",
       "    }\n",
       "\n",
       "    .dataframe thead th {\n",
       "        text-align: right;\n",
       "    }\n",
       "</style>\n",
       "<table border=\"1\" class=\"dataframe\">\n",
       "  <thead>\n",
       "    <tr style=\"text-align: right;\">\n",
       "      <th></th>\n",
       "      <th>id</th>\n",
       "      <th>loja</th>\n",
       "      <th>setor</th>\n",
       "      <th>data</th>\n",
       "      <th>vendas_semanais</th>\n",
       "      <th>feriado</th>\n",
       "      <th>tipo</th>\n",
       "      <th>tamanho</th>\n",
       "      <th>temperatura</th>\n",
       "      <th>combustivel</th>\n",
       "      <th>desconto_1</th>\n",
       "      <th>desconto_2</th>\n",
       "      <th>desconto_3</th>\n",
       "      <th>desconto_4</th>\n",
       "      <th>desconto_5</th>\n",
       "      <th>desemprego</th>\n",
       "      <th>distancia_competidores</th>\n",
       "      <th>clientes</th>\n",
       "    </tr>\n",
       "  </thead>\n",
       "  <tbody>\n",
       "    <tr>\n",
       "      <th>382</th>\n",
       "      <td>158299</td>\n",
       "      <td>17</td>\n",
       "      <td>24</td>\n",
       "      <td>02-18</td>\n",
       "      <td>3652.300000</td>\n",
       "      <td>nao</td>\n",
       "      <td>eletronico</td>\n",
       "      <td>93188.0</td>\n",
       "      <td>-2.855556</td>\n",
       "      <td>3.597347</td>\n",
       "      <td>0.0</td>\n",
       "      <td>0.0</td>\n",
       "      <td>0.0</td>\n",
       "      <td>0.0</td>\n",
       "      <td>0.0</td>\n",
       "      <td>0.06866</td>\n",
       "      <td>300000.0</td>\n",
       "      <td>956</td>\n",
       "    </tr>\n",
       "    <tr>\n",
       "      <th>383</th>\n",
       "      <td>158421</td>\n",
       "      <td>17</td>\n",
       "      <td>20</td>\n",
       "      <td>02-18</td>\n",
       "      <td>3273.070000</td>\n",
       "      <td>nao</td>\n",
       "      <td>eletronico</td>\n",
       "      <td>93188.0</td>\n",
       "      <td>-2.855556</td>\n",
       "      <td>3.597347</td>\n",
       "      <td>0.0</td>\n",
       "      <td>0.0</td>\n",
       "      <td>0.0</td>\n",
       "      <td>0.0</td>\n",
       "      <td>0.0</td>\n",
       "      <td>0.06866</td>\n",
       "      <td>300000.0</td>\n",
       "      <td>956</td>\n",
       "    </tr>\n",
       "    <tr>\n",
       "      <th>384</th>\n",
       "      <td>158480</td>\n",
       "      <td>17</td>\n",
       "      <td>58</td>\n",
       "      <td>02-18</td>\n",
       "      <td>1200.000000</td>\n",
       "      <td>nao</td>\n",
       "      <td>eletronico</td>\n",
       "      <td>93188.0</td>\n",
       "      <td>-2.855556</td>\n",
       "      <td>3.597347</td>\n",
       "      <td>0.0</td>\n",
       "      <td>0.0</td>\n",
       "      <td>0.0</td>\n",
       "      <td>0.0</td>\n",
       "      <td>0.0</td>\n",
       "      <td>0.06866</td>\n",
       "      <td>300000.0</td>\n",
       "      <td>956</td>\n",
       "    </tr>\n",
       "    <tr>\n",
       "      <th>385</th>\n",
       "      <td>158538</td>\n",
       "      <td>17</td>\n",
       "      <td>18</td>\n",
       "      <td>02-18</td>\n",
       "      <td>10202.870000</td>\n",
       "      <td>nao</td>\n",
       "      <td>eletronico</td>\n",
       "      <td>93188.0</td>\n",
       "      <td>-2.855556</td>\n",
       "      <td>3.597347</td>\n",
       "      <td>0.0</td>\n",
       "      <td>0.0</td>\n",
       "      <td>0.0</td>\n",
       "      <td>0.0</td>\n",
       "      <td>0.0</td>\n",
       "      <td>0.06866</td>\n",
       "      <td>300000.0</td>\n",
       "      <td>956</td>\n",
       "    </tr>\n",
       "    <tr>\n",
       "      <th>386</th>\n",
       "      <td>158602</td>\n",
       "      <td>17</td>\n",
       "      <td>19</td>\n",
       "      <td>02-18</td>\n",
       "      <td>4271.550000</td>\n",
       "      <td>nao</td>\n",
       "      <td>eletronico</td>\n",
       "      <td>93188.0</td>\n",
       "      <td>-2.855556</td>\n",
       "      <td>3.597347</td>\n",
       "      <td>0.0</td>\n",
       "      <td>0.0</td>\n",
       "      <td>0.0</td>\n",
       "      <td>0.0</td>\n",
       "      <td>0.0</td>\n",
       "      <td>0.06866</td>\n",
       "      <td>300000.0</td>\n",
       "      <td>956</td>\n",
       "    </tr>\n",
       "    <tr>\n",
       "      <th>...</th>\n",
       "      <td>...</td>\n",
       "      <td>...</td>\n",
       "      <td>...</td>\n",
       "      <td>...</td>\n",
       "      <td>...</td>\n",
       "      <td>...</td>\n",
       "      <td>...</td>\n",
       "      <td>...</td>\n",
       "      <td>...</td>\n",
       "      <td>...</td>\n",
       "      <td>...</td>\n",
       "      <td>...</td>\n",
       "      <td>...</td>\n",
       "      <td>...</td>\n",
       "      <td>...</td>\n",
       "      <td>...</td>\n",
       "      <td>...</td>\n",
       "      <td>...</td>\n",
       "    </tr>\n",
       "    <tr>\n",
       "      <th>122146</th>\n",
       "      <td>249134</td>\n",
       "      <td>33</td>\n",
       "      <td>5</td>\n",
       "      <td>09-16</td>\n",
       "      <td>110.000000</td>\n",
       "      <td>nao</td>\n",
       "      <td>eletrodomestico</td>\n",
       "      <td>39690.0</td>\n",
       "      <td>29.883333</td>\n",
       "      <td>3.597347</td>\n",
       "      <td>0.0</td>\n",
       "      <td>0.0</td>\n",
       "      <td>0.0</td>\n",
       "      <td>0.0</td>\n",
       "      <td>0.0</td>\n",
       "      <td>0.08442</td>\n",
       "      <td>300000.0</td>\n",
       "      <td>685</td>\n",
       "    </tr>\n",
       "    <tr>\n",
       "      <th>122147</th>\n",
       "      <td>249156</td>\n",
       "      <td>33</td>\n",
       "      <td>9</td>\n",
       "      <td>09-16</td>\n",
       "      <td>41.780000</td>\n",
       "      <td>nao</td>\n",
       "      <td>eletrodomestico</td>\n",
       "      <td>39690.0</td>\n",
       "      <td>29.883333</td>\n",
       "      <td>3.597347</td>\n",
       "      <td>0.0</td>\n",
       "      <td>0.0</td>\n",
       "      <td>0.0</td>\n",
       "      <td>0.0</td>\n",
       "      <td>0.0</td>\n",
       "      <td>0.08442</td>\n",
       "      <td>300000.0</td>\n",
       "      <td>685</td>\n",
       "    </tr>\n",
       "    <tr>\n",
       "      <th>122148</th>\n",
       "      <td>249248</td>\n",
       "      <td>33</td>\n",
       "      <td>81</td>\n",
       "      <td>09-16</td>\n",
       "      <td>887907.904893</td>\n",
       "      <td>nao</td>\n",
       "      <td>eletrodomestico</td>\n",
       "      <td>39690.0</td>\n",
       "      <td>29.883333</td>\n",
       "      <td>3.597347</td>\n",
       "      <td>0.0</td>\n",
       "      <td>0.0</td>\n",
       "      <td>0.0</td>\n",
       "      <td>0.0</td>\n",
       "      <td>0.0</td>\n",
       "      <td>0.08442</td>\n",
       "      <td>300000.0</td>\n",
       "      <td>685</td>\n",
       "    </tr>\n",
       "    <tr>\n",
       "      <th>122149</th>\n",
       "      <td>249292</td>\n",
       "      <td>33</td>\n",
       "      <td>90</td>\n",
       "      <td>09-16</td>\n",
       "      <td>25796.820000</td>\n",
       "      <td>nao</td>\n",
       "      <td>eletrodomestico</td>\n",
       "      <td>39690.0</td>\n",
       "      <td>29.883333</td>\n",
       "      <td>3.597347</td>\n",
       "      <td>0.0</td>\n",
       "      <td>0.0</td>\n",
       "      <td>0.0</td>\n",
       "      <td>0.0</td>\n",
       "      <td>0.0</td>\n",
       "      <td>0.08442</td>\n",
       "      <td>300000.0</td>\n",
       "      <td>685</td>\n",
       "    </tr>\n",
       "    <tr>\n",
       "      <th>122150</th>\n",
       "      <td>249446</td>\n",
       "      <td>33</td>\n",
       "      <td>8</td>\n",
       "      <td>09-16</td>\n",
       "      <td>3746.370000</td>\n",
       "      <td>nao</td>\n",
       "      <td>eletrodomestico</td>\n",
       "      <td>39690.0</td>\n",
       "      <td>29.883333</td>\n",
       "      <td>3.597347</td>\n",
       "      <td>0.0</td>\n",
       "      <td>0.0</td>\n",
       "      <td>0.0</td>\n",
       "      <td>0.0</td>\n",
       "      <td>0.0</td>\n",
       "      <td>0.08442</td>\n",
       "      <td>300000.0</td>\n",
       "      <td>685</td>\n",
       "    </tr>\n",
       "  </tbody>\n",
       "</table>\n",
       "<p>47974 rows × 18 columns</p>\n",
       "</div>"
      ],
      "text/plain": [
       "            id  loja  setor   data  vendas_semanais feriado             tipo  \\\n",
       "382     158299    17     24  02-18      3652.300000     nao       eletronico   \n",
       "383     158421    17     20  02-18      3273.070000     nao       eletronico   \n",
       "384     158480    17     58  02-18      1200.000000     nao       eletronico   \n",
       "385     158538    17     18  02-18     10202.870000     nao       eletronico   \n",
       "386     158602    17     19  02-18      4271.550000     nao       eletronico   \n",
       "...        ...   ...    ...    ...              ...     ...              ...   \n",
       "122146  249134    33      5  09-16       110.000000     nao  eletrodomestico   \n",
       "122147  249156    33      9  09-16        41.780000     nao  eletrodomestico   \n",
       "122148  249248    33     81  09-16    887907.904893     nao  eletrodomestico   \n",
       "122149  249292    33     90  09-16     25796.820000     nao  eletrodomestico   \n",
       "122150  249446    33      8  09-16      3746.370000     nao  eletrodomestico   \n",
       "\n",
       "        tamanho  temperatura  combustivel  desconto_1  desconto_2  desconto_3  \\\n",
       "382     93188.0    -2.855556     3.597347         0.0         0.0         0.0   \n",
       "383     93188.0    -2.855556     3.597347         0.0         0.0         0.0   \n",
       "384     93188.0    -2.855556     3.597347         0.0         0.0         0.0   \n",
       "385     93188.0    -2.855556     3.597347         0.0         0.0         0.0   \n",
       "386     93188.0    -2.855556     3.597347         0.0         0.0         0.0   \n",
       "...         ...          ...          ...         ...         ...         ...   \n",
       "122146  39690.0    29.883333     3.597347         0.0         0.0         0.0   \n",
       "122147  39690.0    29.883333     3.597347         0.0         0.0         0.0   \n",
       "122148  39690.0    29.883333     3.597347         0.0         0.0         0.0   \n",
       "122149  39690.0    29.883333     3.597347         0.0         0.0         0.0   \n",
       "122150  39690.0    29.883333     3.597347         0.0         0.0         0.0   \n",
       "\n",
       "        desconto_4  desconto_5  desemprego  distancia_competidores  clientes  \n",
       "382            0.0         0.0     0.06866                300000.0       956  \n",
       "383            0.0         0.0     0.06866                300000.0       956  \n",
       "384            0.0         0.0     0.06866                300000.0       956  \n",
       "385            0.0         0.0     0.06866                300000.0       956  \n",
       "386            0.0         0.0     0.06866                300000.0       956  \n",
       "...            ...         ...         ...                     ...       ...  \n",
       "122146         0.0         0.0     0.08442                300000.0       685  \n",
       "122147         0.0         0.0     0.08442                300000.0       685  \n",
       "122148         0.0         0.0     0.08442                300000.0       685  \n",
       "122149         0.0         0.0     0.08442                300000.0       685  \n",
       "122150         0.0         0.0     0.08442                300000.0       685  \n",
       "\n",
       "[47974 rows x 18 columns]"
      ]
     },
     "execution_count": 31,
     "metadata": {},
     "output_type": "execute_result"
    }
   ],
   "source": [
    "df2.iloc[comb_faltantes, :]"
   ]
  },
  {
   "cell_type": "markdown",
   "id": "67876713",
   "metadata": {},
   "source": [
    "### 2.2.7. Transformação de tipos"
   ]
  },
  {
   "cell_type": "code",
   "execution_count": 32,
   "id": "b5c27755",
   "metadata": {
    "ExecuteTime": {
     "end_time": "2023-12-16T16:01:51.439453Z",
     "start_time": "2023-12-16T16:01:51.408572Z"
    }
   },
   "outputs": [
    {
     "data": {
      "text/plain": [
       "id                          int64\n",
       "loja                        int64\n",
       "setor                       int64\n",
       "data                       object\n",
       "vendas_semanais           float64\n",
       "feriado                    object\n",
       "tipo                       object\n",
       "tamanho                   float64\n",
       "temperatura               float64\n",
       "combustivel               float64\n",
       "desconto_1                float64\n",
       "desconto_2                float64\n",
       "desconto_3                float64\n",
       "desconto_4                float64\n",
       "desconto_5                float64\n",
       "desemprego                float64\n",
       "distancia_competidores    float64\n",
       "clientes                    int64\n",
       "dtype: object"
      ]
     },
     "execution_count": 32,
     "metadata": {},
     "output_type": "execute_result"
    }
   ],
   "source": [
    "df2.dtypes"
   ]
  },
  {
   "cell_type": "code",
   "execution_count": null,
   "id": "9011215d",
   "metadata": {},
   "outputs": [],
   "source": [
    "data\n",
    "feriado\n",
    "tipo"
   ]
  },
  {
   "cell_type": "markdown",
   "id": "b0f59338",
   "metadata": {},
   "source": [
    "### 2.3.8. Transformar data"
   ]
  },
  {
   "cell_type": "code",
   "execution_count": 47,
   "id": "2c3f6a9e",
   "metadata": {
    "ExecuteTime": {
     "end_time": "2023-12-16T16:12:34.218149Z",
     "start_time": "2023-12-16T16:12:34.188473Z"
    }
   },
   "outputs": [],
   "source": [
    "df3 = df2.copy()"
   ]
  },
  {
   "cell_type": "code",
   "execution_count": 48,
   "id": "9cbd2aba",
   "metadata": {},
   "outputs": [],
   "source": [
    "# Converter a coluna 'data' para datetime\n",
    "df3['data'] = pd.to_datetime(df3['data'] + '-2023', format='%m-%d-%Y')\n",
    "# Criar uma nova coluna 'semana_do_ano'\n"
   ]
  },
  {
   "cell_type": "code",
   "execution_count": 46,
   "id": "f00be896",
   "metadata": {},
   "outputs": [
    {
     "data": {
      "text/html": [
       "<div>\n",
       "<style scoped>\n",
       "    .dataframe tbody tr th:only-of-type {\n",
       "        vertical-align: middle;\n",
       "    }\n",
       "\n",
       "    .dataframe tbody tr th {\n",
       "        vertical-align: top;\n",
       "    }\n",
       "\n",
       "    .dataframe thead th {\n",
       "        text-align: right;\n",
       "    }\n",
       "</style>\n",
       "<table border=\"1\" class=\"dataframe\">\n",
       "  <thead>\n",
       "    <tr style=\"text-align: right;\">\n",
       "      <th></th>\n",
       "      <th>id</th>\n",
       "      <th>loja</th>\n",
       "      <th>setor</th>\n",
       "      <th>data</th>\n",
       "      <th>vendas_semanais</th>\n",
       "      <th>feriado</th>\n",
       "      <th>tipo</th>\n",
       "      <th>tamanho</th>\n",
       "      <th>temperatura</th>\n",
       "      <th>combustivel</th>\n",
       "      <th>desconto_1</th>\n",
       "      <th>desconto_2</th>\n",
       "      <th>desconto_3</th>\n",
       "      <th>desconto_4</th>\n",
       "      <th>desconto_5</th>\n",
       "      <th>desemprego</th>\n",
       "      <th>distancia_competidores</th>\n",
       "      <th>clientes</th>\n",
       "    </tr>\n",
       "  </thead>\n",
       "  <tbody>\n",
       "    <tr>\n",
       "      <th>0</th>\n",
       "      <td>140679</td>\n",
       "      <td>17</td>\n",
       "      <td>93</td>\n",
       "      <td>2023-01-07</td>\n",
       "      <td>6283.00</td>\n",
       "      <td>nao</td>\n",
       "      <td>eletronico</td>\n",
       "      <td>93188.0</td>\n",
       "      <td>-14.316667</td>\n",
       "      <td>2.891</td>\n",
       "      <td>0.0</td>\n",
       "      <td>0.0</td>\n",
       "      <td>0.0</td>\n",
       "      <td>0.0</td>\n",
       "      <td>0.0</td>\n",
       "      <td>0.06866</td>\n",
       "      <td>300000.0</td>\n",
       "      <td>541</td>\n",
       "    </tr>\n",
       "    <tr>\n",
       "      <th>1</th>\n",
       "      <td>140696</td>\n",
       "      <td>17</td>\n",
       "      <td>16</td>\n",
       "      <td>2023-01-07</td>\n",
       "      <td>1641.25</td>\n",
       "      <td>nao</td>\n",
       "      <td>eletronico</td>\n",
       "      <td>93188.0</td>\n",
       "      <td>-14.316667</td>\n",
       "      <td>2.891</td>\n",
       "      <td>0.0</td>\n",
       "      <td>0.0</td>\n",
       "      <td>0.0</td>\n",
       "      <td>0.0</td>\n",
       "      <td>0.0</td>\n",
       "      <td>0.06866</td>\n",
       "      <td>300000.0</td>\n",
       "      <td>541</td>\n",
       "    </tr>\n",
       "    <tr>\n",
       "      <th>2</th>\n",
       "      <td>140701</td>\n",
       "      <td>17</td>\n",
       "      <td>4</td>\n",
       "      <td>2023-01-07</td>\n",
       "      <td>39775.45</td>\n",
       "      <td>nao</td>\n",
       "      <td>eletronico</td>\n",
       "      <td>93188.0</td>\n",
       "      <td>-14.316667</td>\n",
       "      <td>2.891</td>\n",
       "      <td>0.0</td>\n",
       "      <td>0.0</td>\n",
       "      <td>0.0</td>\n",
       "      <td>0.0</td>\n",
       "      <td>0.0</td>\n",
       "      <td>0.06866</td>\n",
       "      <td>300000.0</td>\n",
       "      <td>541</td>\n",
       "    </tr>\n",
       "    <tr>\n",
       "      <th>3</th>\n",
       "      <td>140733</td>\n",
       "      <td>17</td>\n",
       "      <td>14</td>\n",
       "      <td>2023-01-07</td>\n",
       "      <td>29555.43</td>\n",
       "      <td>nao</td>\n",
       "      <td>eletronico</td>\n",
       "      <td>93188.0</td>\n",
       "      <td>-14.316667</td>\n",
       "      <td>2.891</td>\n",
       "      <td>0.0</td>\n",
       "      <td>0.0</td>\n",
       "      <td>0.0</td>\n",
       "      <td>0.0</td>\n",
       "      <td>0.0</td>\n",
       "      <td>0.06866</td>\n",
       "      <td>300000.0</td>\n",
       "      <td>541</td>\n",
       "    </tr>\n",
       "    <tr>\n",
       "      <th>4</th>\n",
       "      <td>140742</td>\n",
       "      <td>17</td>\n",
       "      <td>48</td>\n",
       "      <td>2023-01-07</td>\n",
       "      <td>414.00</td>\n",
       "      <td>nao</td>\n",
       "      <td>eletronico</td>\n",
       "      <td>93188.0</td>\n",
       "      <td>-14.316667</td>\n",
       "      <td>2.891</td>\n",
       "      <td>0.0</td>\n",
       "      <td>0.0</td>\n",
       "      <td>0.0</td>\n",
       "      <td>0.0</td>\n",
       "      <td>0.0</td>\n",
       "      <td>0.06866</td>\n",
       "      <td>300000.0</td>\n",
       "      <td>541</td>\n",
       "    </tr>\n",
       "  </tbody>\n",
       "</table>\n",
       "</div>"
      ],
      "text/plain": [
       "       id  loja  setor       data  vendas_semanais feriado        tipo  \\\n",
       "0  140679    17     93 2023-01-07          6283.00     nao  eletronico   \n",
       "1  140696    17     16 2023-01-07          1641.25     nao  eletronico   \n",
       "2  140701    17      4 2023-01-07         39775.45     nao  eletronico   \n",
       "3  140733    17     14 2023-01-07         29555.43     nao  eletronico   \n",
       "4  140742    17     48 2023-01-07           414.00     nao  eletronico   \n",
       "\n",
       "   tamanho  temperatura  combustivel  desconto_1  desconto_2  desconto_3  \\\n",
       "0  93188.0   -14.316667        2.891         0.0         0.0         0.0   \n",
       "1  93188.0   -14.316667        2.891         0.0         0.0         0.0   \n",
       "2  93188.0   -14.316667        2.891         0.0         0.0         0.0   \n",
       "3  93188.0   -14.316667        2.891         0.0         0.0         0.0   \n",
       "4  93188.0   -14.316667        2.891         0.0         0.0         0.0   \n",
       "\n",
       "   desconto_4  desconto_5  desemprego  distancia_competidores  clientes  \n",
       "0         0.0         0.0     0.06866                300000.0       541  \n",
       "1         0.0         0.0     0.06866                300000.0       541  \n",
       "2         0.0         0.0     0.06866                300000.0       541  \n",
       "3         0.0         0.0     0.06866                300000.0       541  \n",
       "4         0.0         0.0     0.06866                300000.0       541  "
      ]
     },
     "execution_count": 46,
     "metadata": {},
     "output_type": "execute_result"
    }
   ],
   "source": [
    "df3.head()"
   ]
  },
  {
   "cell_type": "markdown",
   "id": "10372e93",
   "metadata": {},
   "source": [
    "### 2.3.9. Transformar feriado em 0 e 1"
   ]
  },
  {
   "cell_type": "markdown",
   "id": "615e83a7",
   "metadata": {},
   "source": [
    "## 2.3. Criar"
   ]
  },
  {
   "cell_type": "markdown",
   "id": "772a8c56",
   "metadata": {
    "heading_collapsed": true
   },
   "source": [
    "# 3. EXPLORATORY DATA ANALYSIS (EDA)"
   ]
  },
  {
   "cell_type": "markdown",
   "id": "aafdf9e7",
   "metadata": {
    "hidden": true
   },
   "source": [
    "## 3.1. Análise Multivariada"
   ]
  },
  {
   "cell_type": "markdown",
   "id": "06e29561",
   "metadata": {
    "hidden": true
   },
   "source": [
    "### 3.1.1. Profile"
   ]
  },
  {
   "cell_type": "markdown",
   "id": "949b3b94",
   "metadata": {
    "hidden": true
   },
   "source": [
    "### 3.1.2. HeatMap"
   ]
  },
  {
   "cell_type": "code",
   "execution_count": null,
   "id": "4a6099ed",
   "metadata": {
    "hidden": true
   },
   "outputs": [],
   "source": [
    "# Criar o mapa de calor\n",
    "corr = df3.corr(method='pearson')\n",
    "fig, ax = plt.subplots(figsize=(16, 11))\n",
    "\n",
    "# Configura o título e os eixos\n",
    "ax.set_title('Mapa de calor', fontsize=25)\n",
    "ax.set_xticklabels(ax.get_xticklabels(), fontsize=15)\n",
    "ax.set_yticklabels(ax.get_yticklabels(), fontsize=15)\n",
    "\n",
    "# Plota e mostra o gráfico\n",
    "ax = sns.heatmap(corr, annot=True, cmap='Reds', ax=ax)\n",
    "plt.show()"
   ]
  },
  {
   "cell_type": "markdown",
   "id": "d0dd5e4d",
   "metadata": {},
   "source": [
    "# 4. DATA PREPARATION"
   ]
  },
  {
   "cell_type": "markdown",
   "id": "8a628523",
   "metadata": {
    "heading_collapsed": true
   },
   "source": [
    "# 5. FEATURE SELECTION"
   ]
  },
  {
   "cell_type": "markdown",
   "id": "a1b1901d",
   "metadata": {
    "hidden": true
   },
   "source": [
    "## 5.1. Split dataframe into training and test"
   ]
  },
  {
   "cell_type": "markdown",
   "id": "4e335dd9",
   "metadata": {
    "heading_collapsed": true
   },
   "source": [
    "# 6. MACHINE LEARNING MODELING"
   ]
  },
  {
   "cell_type": "markdown",
   "id": "ae6f319d",
   "metadata": {
    "hidden": true
   },
   "source": [
    "## 6.1. Treinar, testar e medir"
   ]
  },
  {
   "cell_type": "markdown",
   "id": "af59bd73",
   "metadata": {
    "hidden": true
   },
   "source": [
    "## 6.2. Validar métricas"
   ]
  },
  {
   "cell_type": "markdown",
   "id": "2a4029fd",
   "metadata": {
    "heading_collapsed": true
   },
   "source": [
    "# 7. ERROR TRANSLATION AND INTERPRETATION"
   ]
  },
  {
   "cell_type": "markdown",
   "id": "1f1653ff",
   "metadata": {
    "heading_collapsed": true
   },
   "source": [
    "# 8. DEPLOY / SUBMISSION"
   ]
  }
 ],
 "metadata": {
  "kernelspec": {
   "display_name": "Python 3 (ipykernel)",
   "language": "python",
   "name": "python3"
  },
  "language_info": {
   "codemirror_mode": {
    "name": "ipython",
    "version": 3
   },
   "file_extension": ".py",
   "mimetype": "text/x-python",
   "name": "python",
   "nbconvert_exporter": "python",
   "pygments_lexer": "ipython3",
   "version": "3.10.11"
  }
 },
 "nbformat": 4,
 "nbformat_minor": 5
}
